{
 "cells": [
  {
   "cell_type": "markdown",
   "id": "ca7e2789",
   "metadata": {
    "slideshow": {
     "slide_type": "skip"
    }
   },
   "source": [
    "```Ecole Centrale Nantes\n",
    "Option InfoIA\n",
    "PAPY: Programmation avancée python\n",
    "CM4\n",
    "Année 2022-2023\n",
    "Auteur: Lucas Lestandi\n",
    "lucas.lestandi@ec-nantes.fr\n",
    "V1.0\n",
    "```"
   ]
  },
  {
   "cell_type": "markdown",
   "id": "a96ef83c",
   "metadata": {
    "slideshow": {
     "slide_type": "slide"
    }
   },
   "source": [
    "# Chapitre 4: Du script au module\n",
    "\n",
    "> *Fini de jouer, on passe au sérieux!*"
   ]
  },
  {
   "cell_type": "markdown",
   "id": "35e0bda3",
   "metadata": {
    "slideshow": {
     "slide_type": "fragment"
    }
   },
   "source": [
    "Pour pouvoir déployer/partager nos codes, il faut aller au delà l'approche scripting. \n",
    "- tester et debugger\n",
    "- optimisation (algorithmique, interprétation, JIT, binding)\n",
    "- distribution et portabilité des paquets"
   ]
  },
  {
   "cell_type": "markdown",
   "id": "03bb15fd",
   "metadata": {
    "slideshow": {
     "slide_type": "slide"
    }
   },
   "source": [
    "##  Tester et débugger son code"
   ]
  },
  {
   "cell_type": "markdown",
   "id": "305af0f8",
   "metadata": {
    "slideshow": {
     "slide_type": "slide"
    }
   },
   "source": [
    "### Pourquoi tester son code"
   ]
  },
  {
   "cell_type": "markdown",
   "id": "d38e1ec9",
   "metadata": {
    "slideshow": {
     "slide_type": "fragment"
    }
   },
   "source": [
    "- pas de vérification explicite des types avant l'exécution en python\n",
    "    - le typage statique ne suffit pas\n",
    "- tout le soin du monde dans la conception ne suffit pas\n",
    "- coder c'est 10% de programmation et 90% de débug\n",
    "- **Bonus:** valorisation instantanée"
   ]
  },
  {
   "cell_type": "markdown",
   "id": "c7bd6657",
   "metadata": {
    "slideshow": {
     "slide_type": "fragment"
    }
   },
   "source": [
    "> **Objectif** : avoir en main les outils pour s'assurer du bon fonctionnement de programmes de petite taille.\n",
    "=> On va se focaliser sur le unittesting\n",
    "\n",
    "Pourquoi?\n",
    "- tout gros programme est fait de petit blocs que l'on peut tester individuellement.\n",
    "\n",
    "Pour aller plus loin (en général): \n",
    "- tests d'intégration, \n",
    "- test driven development, \n",
    "- cross-testing, \n",
    "- test de non-régression\n",
    "- ...\n",
    "\n",
    "Et pour python en particulier:\n",
    "- `logging\n",
    "`"
   ]
  },
  {
   "cell_type": "markdown",
   "id": "8f44e02b",
   "metadata": {
    "slideshow": {
     "slide_type": "slide"
    }
   },
   "source": [
    "### Tester son code"
   ]
  },
  {
   "cell_type": "markdown",
   "id": "0d16298c",
   "metadata": {
    "slideshow": {
     "slide_type": "subslide"
    }
   },
   "source": [
    "#### A la main"
   ]
  },
  {
   "cell_type": "markdown",
   "id": "79dc358d",
   "metadata": {
    "slideshow": {
     "slide_type": "fragment"
    }
   },
   "source": [
    "A minima, on va s'assurer à la main que notre code fait ce que l'on souhaite lors du développement.\n",
    "\n",
    "Dans l'esprit du test-driven development, on va:\n",
    "- écrire le \"prototype de la fonction\" avec ses arguments et son docstring (basique)\n",
    "- mettre en place un (ou des) cas simple dont on connait le résultat à l'avance et en vérifier le résultat.\n",
    "\n",
    "> A ce stade, on doit pouvoir lancer le script et tous les tests échouent.\n",
    "- On peut maintenant écrire le contenu de la fonction. \n",
    "> Si le code est correct, elle fonctionne\n",
    "\n",
    "- On passe à la question suivante mais on garde les tests en les plaçant dans une fonction `test_*` qui sera utile  à `pytest`."
   ]
  },
  {
   "cell_type": "markdown",
   "id": "0860ed77",
   "metadata": {
    "slideshow": {
     "slide_type": "subslide"
    }
   },
   "source": [
    "##### Et en pratique?"
   ]
  },
  {
   "cell_type": "markdown",
   "id": "594a2e28",
   "metadata": {
    "slideshow": {
     "slide_type": "fragment"
    }
   },
   "source": [
    "On va user et abuser de `assert`\n",
    "\n",
    "Si vous souhaitez en savoir plus sur assert:https://realpython.com/python-assert-statement/"
   ]
  },
  {
   "cell_type": "code",
   "execution_count": 1,
   "id": "8f71a483",
   "metadata": {
    "slideshow": {
     "slide_type": "fragment"
    }
   },
   "outputs": [],
   "source": [
    "def inc(x):\n",
    "    return x + 1\n",
    "\n",
    "def test_answer():\n",
    "    assert inc(3) == 5"
   ]
  },
  {
   "cell_type": "code",
   "execution_count": 2,
   "id": "47eaa243",
   "metadata": {
    "slideshow": {
     "slide_type": "fragment"
    }
   },
   "outputs": [
    {
     "ename": "AssertionError",
     "evalue": "",
     "output_type": "error",
     "traceback": [
      "\u001b[0;31m---------------------------------------------------------------------------\u001b[0m",
      "\u001b[0;31mAssertionError\u001b[0m                            Traceback (most recent call last)",
      "Cell \u001b[0;32mIn[2], line 1\u001b[0m\n\u001b[0;32m----> 1\u001b[0m \u001b[43mtest_answer\u001b[49m\u001b[43m(\u001b[49m\u001b[43m)\u001b[49m\n",
      "Cell \u001b[0;32mIn[1], line 5\u001b[0m, in \u001b[0;36mtest_answer\u001b[0;34m()\u001b[0m\n\u001b[1;32m      4\u001b[0m \u001b[38;5;28;01mdef\u001b[39;00m \u001b[38;5;21mtest_answer\u001b[39m():\n\u001b[0;32m----> 5\u001b[0m     \u001b[38;5;28;01massert\u001b[39;00m inc(\u001b[38;5;241m3\u001b[39m) \u001b[38;5;241m==\u001b[39m \u001b[38;5;241m5\u001b[39m\n",
      "\u001b[0;31mAssertionError\u001b[0m: "
     ]
    }
   ],
   "source": [
    "test_answer()"
   ]
  },
  {
   "cell_type": "code",
   "execution_count": 3,
   "id": "379d5b5f",
   "metadata": {
    "slideshow": {
     "slide_type": "fragment"
    }
   },
   "outputs": [],
   "source": [
    "def test_answer():\n",
    "    assert inc(3) == 4\n",
    "test_answer()  # plus de message d'erreur"
   ]
  },
  {
   "cell_type": "markdown",
   "id": "fb47acee",
   "metadata": {
    "slideshow": {
     "slide_type": "fragment"
    }
   },
   "source": [
    "Pour un fichier python séparer, on placera le test dans le main:\n",
    "\n",
    "```python\n",
    "def inc(x):\n",
    "    return x + 1\n",
    "\n",
    "def test_answer():\n",
    "    assert inc(3) == 5\n",
    "    \n",
    "if __name__==\"__main__\":\n",
    "    test_answer()\n",
    "    print(\"passed answer\")\n",
    "```"
   ]
  },
  {
   "cell_type": "markdown",
   "id": "0dc91156",
   "metadata": {
    "slideshow": {
     "slide_type": "slide"
    }
   },
   "source": [
    "### Automatiser avec unittesting, pytest, etc."
   ]
  },
  {
   "cell_type": "markdown",
   "id": "63649054",
   "metadata": {
    "slideshow": {
     "slide_type": "fragment"
    }
   },
   "source": [
    "On le voit bien, cette version complètement manuelle n'est pas envisageable pour un projet, même de taille raisonnable."
   ]
  },
  {
   "cell_type": "markdown",
   "id": "e5228c6a",
   "metadata": {
    "slideshow": {
     "slide_type": "subslide"
    }
   },
   "source": [
    "#### `pytest` \n",
    "est un module python mais aussi un programme qui répond à ce problème. Si on l'exécute à la racine d'un projet, il va effectuer tous les tests et publier un rapport. "
   ]
  },
  {
   "cell_type": "markdown",
   "id": "e14708ea",
   "metadata": {
    "slideshow": {
     "slide_type": "fragment"
    }
   },
   "source": [
    "Par exemple, si on a un fichier `test_sample.py` qui contient le code python suivant\n",
    "```python\n",
    "def inc(x):\n",
    "    return x + 1\n",
    "\n",
    "\n",
    "def test_answer():\n",
    "    assert inc(3) == 5\n",
    "```\n",
    "Lorsque l'on exécute pytest: \n",
    "```bash\n",
    "$ pytest\n",
    "=========================== test session starts ============================\n",
    "platform linux -- Python 3.x.y, pytest-7.x.y, pluggy-1.x.y\n",
    "rootdir: /home/sweet/project\n",
    "collected 1 item\n",
    "\n",
    "test_sample.py F                                                     [100%]\n",
    "\n",
    "================================= FAILURES =================================\n",
    "_______________________________ test_answer ________________________________\n",
    "\n",
    "    def test_answer():\n",
    ">       assert inc(3) == 5\n",
    "E       assert 4 == 5\n",
    "E        +  where 4 = inc(3)\n",
    "\n",
    "test_sample.py:6: AssertionError\n",
    "========================= short test summary info ==========================\n",
    "FAILED test_sample.py::test_answer - assert 4 == 5\n",
    "============================ 1 failed in 0.12s =============================\n",
    "```\n",
    "Plus besoin d'un `main`, qui en plus échouerai à la première erreur."
   ]
  },
  {
   "cell_type": "markdown",
   "id": "055732ab",
   "metadata": {
    "slideshow": {
     "slide_type": "slide"
    }
   },
   "source": [
    "#### `unittest`\n",
    "Livré avec python, permet lui aussi d'automatiser les tests. Il repose sur une classe de test avec des méthodes qui constitue les tests. C'est le testeur originel ! "
   ]
  },
  {
   "cell_type": "code",
   "execution_count": 4,
   "id": "a9005c5a",
   "metadata": {
    "slideshow": {
     "slide_type": "fragment"
    }
   },
   "outputs": [],
   "source": [
    "import unittest\n",
    "\n",
    "class TestStringMethods(unittest.TestCase):\n",
    "\n",
    "    def test_upper(self):\n",
    "        self.assertEqual('foo'.upper(), 'FOO')\n",
    "\n",
    "    def test_isupper(self):\n",
    "        self.assertTrue('FOO'.isupper())\n",
    "        self.assertFalse('Foo'.isupper())\n",
    "\n",
    "    def test_split(self):\n",
    "        s = 'hello world'\n",
    "        self.assertEqual(s.split(), ['hello', 'world'])\n",
    "        # check that s.split fails when the separator is not a string\n",
    "        with self.assertRaises(TypeError):\n",
    "            s.split(2)\n",
    "# pour les fichiers\n",
    "#if __name__ == '__main__': \n",
    "#    unittest.main()"
   ]
  },
  {
   "cell_type": "code",
   "execution_count": 5,
   "id": "dd9c69d0",
   "metadata": {
    "scrolled": true,
    "slideshow": {
     "slide_type": "fragment"
    }
   },
   "outputs": [
    {
     "name": "stderr",
     "output_type": "stream",
     "text": [
      "...\n",
      "----------------------------------------------------------------------\n",
      "Ran 3 tests in 0.008s\n",
      "\n",
      "OK\n"
     ]
    }
   ],
   "source": [
    "if __name__ == '__main__':\n",
    "    unittest.main(argv=['first-arg-is-ignored'], exit=False)"
   ]
  },
  {
   "cell_type": "markdown",
   "id": "9c1466d4",
   "metadata": {
    "slideshow": {
     "slide_type": "subslide"
    }
   },
   "source": [
    "#### `doctest`\n",
    "Puisqu'il faut écrire un docstring, et que c'est mieux avec des exemples, on va faire d'une pierre deux coups et tester tout en donnant un exemple à l'utilisateur."
   ]
  },
  {
   "cell_type": "code",
   "execution_count": 6,
   "id": "f29f5ea6",
   "metadata": {
    "slideshow": {
     "slide_type": "fragment"
    }
   },
   "outputs": [
    {
     "ename": "TypeError",
     "evalue": "can only concatenate str (not \"int\") to str",
     "output_type": "error",
     "traceback": [
      "\u001b[0;31m---------------------------------------------------------------------------\u001b[0m",
      "\u001b[0;31mTypeError\u001b[0m                                 Traceback (most recent call last)",
      "Cell \u001b[0;32mIn[6], line 1\u001b[0m\n\u001b[0;32m----> 1\u001b[0m \u001b[43minc\u001b[49m\u001b[43m(\u001b[49m\u001b[38;5;124;43m'\u001b[39;49m\u001b[38;5;124;43ma\u001b[39;49m\u001b[38;5;124;43m'\u001b[39;49m\u001b[43m)\u001b[49m\n",
      "Cell \u001b[0;32mIn[1], line 2\u001b[0m, in \u001b[0;36minc\u001b[0;34m(x)\u001b[0m\n\u001b[1;32m      1\u001b[0m \u001b[38;5;28;01mdef\u001b[39;00m \u001b[38;5;21minc\u001b[39m(x):\n\u001b[0;32m----> 2\u001b[0m     \u001b[38;5;28;01mreturn\u001b[39;00m \u001b[43mx\u001b[49m\u001b[43m \u001b[49m\u001b[38;5;241;43m+\u001b[39;49m\u001b[43m \u001b[49m\u001b[38;5;241;43m1\u001b[39;49m\n",
      "\u001b[0;31mTypeError\u001b[0m: can only concatenate str (not \"int\") to str"
     ]
    }
   ],
   "source": [
    "inc('a')"
   ]
  },
  {
   "cell_type": "code",
   "execution_count": 12,
   "id": "0792b2dd",
   "metadata": {
    "slideshow": {
     "slide_type": "fragment"
    }
   },
   "outputs": [],
   "source": [
    "def inc(x):\n",
    "    \"\"\"\n",
    "    Incrémente de 1.\n",
    "    \n",
    "    >>> inc(3)\n",
    "    4\n",
    "    >>> inc(\"a\")                           \n",
    "    Traceback (most recent call last):\n",
    "    ...\n",
    "    TypeError: can only concatenate str (not \"int\") to str\n",
    "    \"\"\"\n",
    "    return x + 3"
   ]
  },
  {
   "cell_type": "code",
   "execution_count": 13,
   "id": "bc2636b3",
   "metadata": {
    "slideshow": {
     "slide_type": "fragment"
    }
   },
   "outputs": [
    {
     "name": "stdout",
     "output_type": "stream",
     "text": [
      "Trying:\n",
      "    inc(3)\n",
      "Expecting:\n",
      "    4\n",
      "**********************************************************************\n",
      "File \"__main__\", line 5, in __main__.inc\n",
      "Failed example:\n",
      "    inc(3)\n",
      "Expected:\n",
      "    4\n",
      "Got:\n",
      "    6\n",
      "Trying:\n",
      "    inc(\"a\")                           \n",
      "Expecting:\n",
      "    Traceback (most recent call last):\n",
      "    ...\n",
      "    TypeError: can only concatenate str (not \"int\") to str\n",
      "ok\n",
      "6 items had no tests:\n",
      "    __main__\n",
      "    __main__.TestStringMethods\n",
      "    __main__.TestStringMethods.test_isupper\n",
      "    __main__.TestStringMethods.test_split\n",
      "    __main__.TestStringMethods.test_upper\n",
      "    __main__.test_answer\n",
      "**********************************************************************\n",
      "1 items had failures:\n",
      "   1 of   2 in __main__.inc\n",
      "2 tests in 7 items.\n",
      "1 passed and 1 failed.\n",
      "***Test Failed*** 1 failures.\n",
      "TestResults(failed=1, attempted=2)\n"
     ]
    }
   ],
   "source": [
    "import doctest\n",
    "print(doctest.testmod(verbose=1))"
   ]
  },
  {
   "cell_type": "markdown",
   "id": "f50168e7",
   "metadata": {
    "slideshow": {
     "slide_type": "fragment"
    }
   },
   "source": [
    "**En conclusion**\n",
    "Il existe tout un bestiaire d'outil pour tester son code python de manière plus ou moins automatique. \n",
    "\n",
    "Pour aller plus loin\n",
    "- https://wiki.python.org/moin/PythonTestingToolsTaxonomy\n",
    "- https://realpython.com/pytest-python-testing/\n",
    "- https://docs.pytest.org/en/7.1.x/\n",
    "- https://docs.python-guide.org/writing/tests/\n"
   ]
  },
  {
   "cell_type": "markdown",
   "id": "e62a5878",
   "metadata": {
    "slideshow": {
     "slide_type": "slide"
    }
   },
   "source": [
    "### Débugger en python"
   ]
  },
  {
   "cell_type": "markdown",
   "id": "fb028ff9",
   "metadata": {
    "slideshow": {
     "slide_type": "fragment"
    }
   },
   "source": [
    "Malgré les tests, il y aura des bugs. En python, lorsque le programme rencontre une erreur, il nous gratifie d'un traceback détaillé.\n",
    "```\n",
    "---------------------------------------------------------------------------\n",
    "TypeError                                 Traceback (most recent call last)\n",
    "/tmp/ipykernel_592/1322912493.py in <module>\n",
    "----> 1 inc('a')\n",
    "\n",
    "/tmp/ipykernel_592/373043617.py in inc(x)\n",
    "      6     4\n",
    "      7     \"\"\"\n",
    "----> 8     return x + 1\n",
    "\n",
    "TypeError: can only concatenate str (not \"int\") to str\n",
    "```"
   ]
  },
  {
   "cell_type": "markdown",
   "id": "d07ae36a",
   "metadata": {
    "slideshow": {
     "slide_type": "fragment"
    }
   },
   "source": [
    "- C'est souvent suffisant pour résoudre le problème. On pourra même ajouter quelques prints bien choisi pour y voir plus clair."
   ]
  },
  {
   "cell_type": "markdown",
   "id": "67fc083f",
   "metadata": {
    "slideshow": {
     "slide_type": "fragment"
    }
   },
   "source": [
    "- Parfois, le message d'erreur n'est pas assez clair (*****Error mal défini...) et on voudra un débuggueur plus classique.\n",
    "  - [`pdb`](https://docs.python.org/fr/3/library/pdb.html) est le débuggueur natif de python\n",
    "  - [Vscode propose une interface](https://code.visualstudio.com/docs/python/debugging)"
   ]
  },
  {
   "cell_type": "markdown",
   "id": "bc923781",
   "metadata": {
    "slideshow": {
     "slide_type": "subslide"
    }
   },
   "source": [
    "####  Débuggage post mortem"
   ]
  },
  {
   "cell_type": "markdown",
   "id": "2fb174f4",
   "metadata": {
    "slideshow": {
     "slide_type": "fragment"
    }
   },
   "source": [
    "On peut appeler directement le débugueur après l'arrêt inopiné d'un programme dans ipython avec `%debug`"
   ]
  },
  {
   "cell_type": "code",
   "execution_count": 14,
   "id": "746601e4",
   "metadata": {
    "slideshow": {
     "slide_type": "fragment"
    }
   },
   "outputs": [
    {
     "ename": "TypeError",
     "evalue": "can only concatenate str (not \"int\") to str",
     "output_type": "error",
     "traceback": [
      "\u001b[0;31m---------------------------------------------------------------------------\u001b[0m",
      "\u001b[0;31mTypeError\u001b[0m                                 Traceback (most recent call last)",
      "Cell \u001b[0;32mIn[14], line 2\u001b[0m\n\u001b[1;32m      1\u001b[0m char\u001b[38;5;241m=\u001b[39m\u001b[38;5;124m\"\u001b[39m\u001b[38;5;124ma\u001b[39m\u001b[38;5;124m\"\u001b[39m\n\u001b[0;32m----> 2\u001b[0m \u001b[43minc\u001b[49m\u001b[43m(\u001b[49m\u001b[43mchar\u001b[49m\u001b[43m)\u001b[49m\n",
      "Cell \u001b[0;32mIn[12], line 12\u001b[0m, in \u001b[0;36minc\u001b[0;34m(x)\u001b[0m\n\u001b[1;32m      1\u001b[0m \u001b[38;5;28;01mdef\u001b[39;00m \u001b[38;5;21minc\u001b[39m(x):\n\u001b[1;32m      2\u001b[0m \u001b[38;5;250m    \u001b[39m\u001b[38;5;124;03m\"\"\"\u001b[39;00m\n\u001b[1;32m      3\u001b[0m \u001b[38;5;124;03m    Incrémente de 1.\u001b[39;00m\n\u001b[1;32m      4\u001b[0m \u001b[38;5;124;03m    \u001b[39;00m\n\u001b[0;32m   (...)\u001b[0m\n\u001b[1;32m     10\u001b[0m \u001b[38;5;124;03m    TypeError: can only concatenate str (not \"int\") to str\u001b[39;00m\n\u001b[1;32m     11\u001b[0m \u001b[38;5;124;03m    \"\"\"\u001b[39;00m\n\u001b[0;32m---> 12\u001b[0m     \u001b[38;5;28;01mreturn\u001b[39;00m \u001b[43mx\u001b[49m\u001b[43m \u001b[49m\u001b[38;5;241;43m+\u001b[39;49m\u001b[43m \u001b[49m\u001b[38;5;241;43m3\u001b[39;49m\n",
      "\u001b[0;31mTypeError\u001b[0m: can only concatenate str (not \"int\") to str"
     ]
    }
   ],
   "source": [
    "char=\"a\"\n",
    "inc(char)"
   ]
  },
  {
   "cell_type": "code",
   "execution_count": 59,
   "id": "4dd8d75f",
   "metadata": {
    "slideshow": {
     "slide_type": "fragment"
    }
   },
   "outputs": [
    {
     "name": "stdout",
     "output_type": "stream",
     "text": [
      "> \u001b[0;32m/tmp/ipykernel_592/837358270.py\u001b[0m(12)\u001b[0;36minc\u001b[0;34m()\u001b[0m\n",
      "\u001b[0;32m      8 \u001b[0;31m    \u001b[0mTraceback\u001b[0m \u001b[0;34m(\u001b[0m\u001b[0mmost\u001b[0m \u001b[0mrecent\u001b[0m \u001b[0mcall\u001b[0m \u001b[0mlast\u001b[0m\u001b[0;34m)\u001b[0m\u001b[0;34m:\u001b[0m\u001b[0;34m\u001b[0m\u001b[0;34m\u001b[0m\u001b[0m\n",
      "\u001b[0m\u001b[0;32m      9 \u001b[0;31m    \u001b[0;34m...\u001b[0m\u001b[0;34m\u001b[0m\u001b[0;34m\u001b[0m\u001b[0m\n",
      "\u001b[0m\u001b[0;32m     10 \u001b[0;31m    \u001b[0mTypeError\u001b[0m\u001b[0;34m:\u001b[0m \u001b[0mcan\u001b[0m \u001b[0monly\u001b[0m \u001b[0mconcatenate\u001b[0m \u001b[0mstr\u001b[0m \u001b[0;34m(\u001b[0m\u001b[0;32mnot\u001b[0m \u001b[0;34m\"int\"\u001b[0m\u001b[0;34m)\u001b[0m \u001b[0mto\u001b[0m \u001b[0mstr\u001b[0m\u001b[0;34m\u001b[0m\u001b[0;34m\u001b[0m\u001b[0m\n",
      "\u001b[0m\u001b[0;32m     11 \u001b[0;31m    \"\"\"\n",
      "\u001b[0m\u001b[0;32m---> 12 \u001b[0;31m    \u001b[0;32mreturn\u001b[0m \u001b[0mx\u001b[0m \u001b[0;34m+\u001b[0m \u001b[0;36m1\u001b[0m\u001b[0;34m\u001b[0m\u001b[0;34m\u001b[0m\u001b[0m\n",
      "\u001b[0m\n",
      "ipdb> char\n",
      "'a'\n",
      "ipdb> q\n"
     ]
    }
   ],
   "source": [
    "%debug"
   ]
  },
  {
   "cell_type": "markdown",
   "id": "66cd6b8b",
   "metadata": {
    "slideshow": {
     "slide_type": "fragment"
    }
   },
   "source": [
    "Bien sur, on pourra aussi \n",
    "- utiliser directement le débuggueur:\n",
    "```\n",
    "python -m pdb script.py\n",
    "```\n",
    "- placer des points d'arrêt (en particulier via VScode)\n",
    "- lire la doc"
   ]
  },
  {
   "cell_type": "markdown",
   "id": "560bd3c0",
   "metadata": {
    "slideshow": {
     "slide_type": "fragment"
    }
   },
   "source": [
    "Brian Kernighan :\n",
    "> *«  Tout le monde sait que le débogage est deux fois plus difficile que l'écriture d'un programme. Donc, si vous êtes aussi intelligent que vous pouvez l'être quand vous écrivez votre code, comment allez-vous déboguer ?  »*"
   ]
  },
  {
   "cell_type": "markdown",
   "id": "29130daf",
   "metadata": {
    "slideshow": {
     "slide_type": "slide"
    }
   },
   "source": [
    "## Optimisation"
   ]
  },
  {
   "cell_type": "markdown",
   "id": "2500fded",
   "metadata": {
    "slideshow": {
     "slide_type": "fragment"
    }
   },
   "source": [
    "<div class=\"alert alert-danger\" role=\"alert\"><p>\n",
    "   <b> Attention : </b> \"L'optimisation prématurée est la racine de tous les pêchers.\"\n",
    "</p></div>"
   ]
  },
  {
   "cell_type": "markdown",
   "id": "4a8b170a",
   "metadata": {
    "slideshow": {
     "slide_type": "slide"
    }
   },
   "source": [
    "### Fil rouge: le jeu de la vie"
   ]
  },
  {
   "cell_type": "markdown",
   "id": "887b08bd",
   "metadata": {
    "slideshow": {
     "slide_type": "fragment"
    }
   },
   "source": [
    "<div class=\"alert alert-success\" role=\"alert\"><p>\n",
    "    <b>Le jeu de la vie</b> <br>\n",
    "Il s’agit d’un automate cellulaire, un modèle où chaque état conduit mécaniquement à l’état suivant à partir de règles préétablies.\n",
    "\n",
    "Le jeu se déroule sur une grille à deux dimensions, théoriquement infinie, dont les cases appelées « cellules » par analogie avec les cellules vivantes peuvent prendre deux états distincts : « vivante » ou « morte ».\n",
    "\n",
    "Une cellule possède huit voisins, qui sont les cellules adjacentes horizontalement, verticalement et diagonalement.\n",
    "\n",
    "À chaque itération, l'état d’une cellule est entièrement déterminé par l’état de ses huit cellules voisines, selon les règles suivantes :\n",
    "<ul>\n",
    "<li>une cellule morte possédant exactement trois cellules voisines vivantes devient vivante (elle naît)&nbsp;;</li>\n",
    "<li>une cellule vivante possédant deux ou trois cellules voisines vivantes le reste, sinon elle meurt.</li>\n",
    "</ul>\n",
    "</p></div>\n"
   ]
  },
  {
   "cell_type": "code",
   "execution_count": 15,
   "id": "eb264cdd",
   "metadata": {
    "slideshow": {
     "slide_type": "subslide"
    }
   },
   "outputs": [
    {
     "data": {
      "text/plain": [
       "<matplotlib.image.AxesImage at 0x7277148f5330>"
      ]
     },
     "execution_count": 15,
     "metadata": {},
     "output_type": "execute_result"
    },
    {
     "data": {
      "image/png": "[encoded data removed]",
      "text/plain": [
       "<Figure size 640x480 with 1 Axes>"
      ]
     },
     "metadata": {},
     "output_type": "display_data"
    }
   ],
   "source": [
    "### INITIALISATION DU JEU ###\n",
    "import numpy as np\n",
    "import matplotlib.pyplot as plt\n",
    "init=\"\"\"........................................\n",
    ".........................#..............\n",
    ".......................#.#..............\n",
    ".............##......##............##...\n",
    "............#...#....##............##...\n",
    ".##........#.....#...##.................\n",
    ".##........#...#.##....#.#..............\n",
    "...........#.....#.......#..............\n",
    "............#...#.......................\n",
    ".............##.........................\n",
    "........................................\n",
    "........................................\n",
    "........................................\n",
    "........................................\n",
    "........................................\n",
    "......###...###.........................\n",
    "........................................\n",
    "....#....#.#....#.......................\n",
    "....#....#.#....#.......................\n",
    "....#....#.#....#.......................\n",
    "......###...###.........................\n",
    "........................................\n",
    "......###...###.........................\n",
    "....#....#.#....#.......................\n",
    "....#....#.#....#.......................\n",
    "....#....#.#....#.......................\n",
    "........................................\n",
    "......###...###.........................\n",
    "........................................\n",
    "........................................\"\"\"\n",
    "grid = np.array(\n",
    "    list(        \n",
    "        [x == \"#\" for x in line]\n",
    "        for line in init.split()\n",
    "    ),\n",
    "    dtype=np.int8,\n",
    ")\n",
    "plt.imshow(grid, cmap=\"gray_r\")"
   ]
  },
  {
   "cell_type": "markdown",
   "id": "5526571c",
   "metadata": {
    "slideshow": {
     "slide_type": "fragment"
    }
   },
   "source": [
    "#### Implémentation naive avec des boucles (sur des array numpy, tout de même)"
   ]
  },
  {
   "cell_type": "code",
   "execution_count": 16,
   "id": "d4eee75c",
   "metadata": {
    "slideshow": {
     "slide_type": "fragment"
    }
   },
   "outputs": [],
   "source": [
    "def update(grid: np.ndarray) -> np.ndarray:\n",
    "    n, m = grid.shape\n",
    "    next_grid = np.zeros((n, m), dtype=np.int8)\n",
    "    # on parcours les lignes et le colones \n",
    "    for row in range(n):\n",
    "        for col in range(m):\n",
    "            #   somme sur les voisins            \n",
    "            live_neighbors = (\n",
    "                np.sum(grid[row - 1 : row + 2, col - 1 : col + 2]) - grid[row, col] # parcours des 8 voisins\n",
    "            )\n",
    "            if live_neighbors < 2 or live_neighbors > 3:\n",
    "                next_grid[row, col] = 0\n",
    "            elif live_neighbors == 3 and grid[row, col] == 0:\n",
    "                next_grid[row, col] = 1\n",
    "            else:\n",
    "                next_grid[row, col] = grid[row, col]\n",
    "\n",
    "    return next_grid"
   ]
  },
  {
   "cell_type": "code",
   "execution_count": 17,
   "id": "104d9f5a",
   "metadata": {
    "slideshow": {
     "slide_type": "fragment"
    }
   },
   "outputs": [
    {
     "data": {
      "text/plain": [
       "<matplotlib.image.AxesImage at 0x727714613e50>"
      ]
     },
     "execution_count": 17,
     "metadata": {},
     "output_type": "execute_result"
    },
    {
     "data": {
      "image/png": "[encoded data removed]",
      "text/plain": [
       "<Figure size 640x480 with 1 Axes>"
      ]
     },
     "metadata": {},
     "output_type": "display_data"
    }
   ],
   "source": [
    "plt.imshow(update(grid), cmap=\"gray_r\")"
   ]
  },
  {
   "cell_type": "code",
   "execution_count": 19,
   "id": "ed8a3d1a",
   "metadata": {
    "slideshow": {
     "slide_type": "fragment"
    }
   },
   "outputs": [
    {
     "data": {
      "image/png": "[encoded data removed]",
      "text/plain": [
       "<Figure size 2000x500 with 4 Axes>"
      ]
     },
     "metadata": {},
     "output_type": "display_data"
    }
   ],
   "source": [
    "from matplotlib import ticker\n",
    "\n",
    "fig, ax = plt.subplots(1, 4, figsize=(20, 5))\n",
    "ax[0].imshow(grid, cmap=\"gray_r\")\n",
    "ax[1].imshow(update(grid), cmap=\"gray_r\")\n",
    "ax[2].imshow(update(update(grid)), cmap=\"gray_r\")\n",
    "ax[3].imshow(update(update(update(grid))), cmap=\"gray_r\")\n",
    "for ax_ in ax:\n",
    "    ax_.xaxis.set_major_locator(ticker.NullLocator())\n",
    "    ax_.yaxis.set_major_locator(ticker.NullLocator())\n",
    "\n",
    "fig.set_tight_layout(True)"
   ]
  },
  {
   "cell_type": "markdown",
   "id": "b13b66f8",
   "metadata": {
    "slideshow": {
     "slide_type": "slide"
    }
   },
   "source": [
    "### Instrumenter et analyser son code"
   ]
  },
  {
   "cell_type": "markdown",
   "id": "d608c56a",
   "metadata": {
    "slideshow": {
     "slide_type": "fragment"
    }
   },
   "source": [
    "Pour optimiser son code, on doit d'abord évaluer quelle partie consomme du temps (ou de la mémoire) pour concentrer ses efforts la ou ils seront efficaces. On aura donc besoin d'outils pour:\n",
    "- évaluer le temps de calcul / la complexité d'une fonction/méthode\n",
    "- évaluer le temps de calcul d'une ligne en particulier\n",
    "- évaluer l'usage mémoire d'une fonction/méthode\n",
    "- évaluer l'usage mémoire de calcul d'une ligne en particulier"
   ]
  },
  {
   "cell_type": "markdown",
   "id": "1439179e",
   "metadata": {
    "slideshow": {
     "slide_type": "slide"
    }
   },
   "source": [
    "#### Evaluation du temps de calcul"
   ]
  },
  {
   "cell_type": "markdown",
   "id": "121fcdea",
   "metadata": {
    "slideshow": {
     "slide_type": "subslide"
    }
   },
   "source": [
    "##### `time` "
   ]
  },
  {
   "cell_type": "markdown",
   "id": "b8eed7f5",
   "metadata": {
    "slideshow": {
     "slide_type": "fragment"
    }
   },
   "source": [
    "> `time` est un module de la librairie standard pour mesurer le temps.\n",
    "\n",
    "C'est l'outil le plus basique mais on peut s'en servir pour construire des chronomètres avancés.\n",
    "\n",
    "Pour plus de détail:  https://realpython.com/python-timer/"
   ]
  },
  {
   "cell_type": "code",
   "execution_count": 20,
   "id": "61ab4e82",
   "metadata": {
    "slideshow": {
     "slide_type": "fragment"
    }
   },
   "outputs": [
    {
     "name": "stdout",
     "output_type": "stream",
     "text": [
      "Temps de calcul : 0.0152 seconds\n"
     ]
    }
   ],
   "source": [
    "### Exemple basique\n",
    "from time import time \n",
    "start=time()\n",
    "count=0\n",
    "update(grid)\n",
    "print(f\"Temps de calcul : {time()-start:0.4f} seconds\")"
   ]
  },
  {
   "cell_type": "markdown",
   "id": "4af0ecfa",
   "metadata": {
    "slideshow": {
     "slide_type": "subslide"
    }
   },
   "source": [
    "##### les magics ipython `%time`  et `%timeit`"
   ]
  },
  {
   "cell_type": "code",
   "execution_count": 21,
   "id": "daad00fe",
   "metadata": {
    "slideshow": {
     "slide_type": "fragment"
    }
   },
   "outputs": [
    {
     "name": "stdout",
     "output_type": "stream",
     "text": [
      "CPU times: user 26.5 ms, sys: 126 μs, total: 26.7 ms\n",
      "Wall time: 25.1 ms\n"
     ]
    },
    {
     "data": {
      "text/plain": [
       "array([[0, 0, 0, ..., 0, 0, 0],\n",
       "       [0, 0, 0, ..., 0, 0, 0],\n",
       "       [0, 0, 0, ..., 0, 0, 0],\n",
       "       ...,\n",
       "       [0, 0, 0, ..., 0, 0, 0],\n",
       "       [0, 0, 0, ..., 0, 0, 0],\n",
       "       [0, 0, 0, ..., 0, 0, 0]], dtype=int8)"
      ]
     },
     "execution_count": 21,
     "metadata": {},
     "output_type": "execute_result"
    }
   ],
   "source": [
    "%time update(grid)"
   ]
  },
  {
   "cell_type": "code",
   "execution_count": 22,
   "id": "b8f5829f",
   "metadata": {
    "slideshow": {
     "slide_type": "fragment"
    }
   },
   "outputs": [
    {
     "name": "stdout",
     "output_type": "stream",
     "text": [
      "6.86 ms ± 353 μs per loop (mean ± std. dev. of 7 runs, 100 loops each)\n"
     ]
    }
   ],
   "source": [
    "%timeit update(grid)"
   ]
  },
  {
   "cell_type": "markdown",
   "id": "46ff8485",
   "metadata": {
    "slideshow": {
     "slide_type": "subslide"
    }
   },
   "source": [
    "#### Profilage du temps de calcul"
   ]
  },
  {
   "cell_type": "markdown",
   "id": "8b1c6da8",
   "metadata": {
    "slideshow": {
     "slide_type": "fragment"
    }
   },
   "source": [
    "Pour une maîtrise plus fine du temps de calcul, on utilise des outils spécialisés appelés **profileurs**. Ils renvoient un compte rendu détaillé du temps de calcul de chaque ligne/appel de fonction."
   ]
  },
  {
   "cell_type": "markdown",
   "id": "f161687f",
   "metadata": {
    "slideshow": {
     "slide_type": "fragment"
    }
   },
   "source": [
    "Quelques options:\n",
    "- The python profiler [`cProfile` et `profile`](https://docs.python.org/3/library/profile.html) : le profileur de la librairie standard.\n",
    "- [line_profiler](https://github.com/pyutils/line_profiler) pour plus de détails ligne par ligne\n",
    "```\n",
    "$ pip install line_profiler\n",
    "```\n",
    "- [snakeviz](https://jiffyclub.github.io/snakeviz/) pour des visu dynamiques (surtout dans les notebooks)\n",
    "```\n",
    "$ pip install snakeviz\n",
    "```"
   ]
  },
  {
   "cell_type": "markdown",
   "id": "366ef9aa",
   "metadata": {
    "slideshow": {
     "slide_type": "subslide"
    }
   },
   "source": [
    "#### `profiler` avec %prun"
   ]
  },
  {
   "cell_type": "code",
   "execution_count": 23,
   "id": "a2598775",
   "metadata": {
    "slideshow": {
     "slide_type": "fragment"
    }
   },
   "outputs": [
    {
     "name": "stdout",
     "output_type": "stream",
     "text": [
      " "
     ]
    },
    {
     "data": {
      "text/plain": [
       "         10805 function calls in 0.016 seconds\n",
       "\n",
       "   Ordered by: internal time\n",
       "\n",
       "   ncalls  tottime  percall  cumtime  percall filename:lineno(function)\n",
       "     1200    0.004    0.000    0.004    0.000 {method 'reduce' of 'numpy.ufunc' objects}\n",
       "        1    0.003    0.003    0.016    0.016 3468385382.py:1(update)\n",
       "     1200    0.003    0.000    0.008    0.000 fromnumeric.py:69(_wrapreduction)\n",
       "     1200    0.002    0.000    0.010    0.000 fromnumeric.py:2188(sum)\n",
       "     1200    0.002    0.000    0.013    0.000 <__array_function__ internals>:177(sum)\n",
       "     1200    0.001    0.000    0.011    0.000 {built-in method numpy.core._multiarray_umath.implement_array_function}\n",
       "     1200    0.001    0.000    0.001    0.000 fromnumeric.py:70(<dictcomp>)\n",
       "     1200    0.000    0.000    0.000    0.000 {built-in method builtins.isinstance}\n",
       "     1200    0.000    0.000    0.000    0.000 fromnumeric.py:2183(_sum_dispatcher)\n",
       "     1200    0.000    0.000    0.000    0.000 {method 'items' of 'dict' objects}\n",
       "        1    0.000    0.000    0.016    0.016 {built-in method builtins.exec}\n",
       "        1    0.000    0.000    0.000    0.000 {built-in method numpy.zeros}\n",
       "        1    0.000    0.000    0.016    0.016 <string>:1(<module>)\n",
       "        1    0.000    0.000    0.000    0.000 {method 'disable' of '_lsprof.Profiler' objects}"
      ]
     },
     "metadata": {},
     "output_type": "display_data"
    }
   ],
   "source": [
    "# appel facilité de profile\n",
    "%prun update(grid)"
   ]
  },
  {
   "cell_type": "markdown",
   "id": "495c8560",
   "metadata": {
    "slideshow": {
     "slide_type": "subslide"
    }
   },
   "source": [
    "#### `line_profiler` avec %lprun\n",
    "<div class=\"alert alert-danger\" role=\"alert\"><p>\n",
    "   <b> Attention : </b> par construction ne fonctionne qu'avec les fonctions.\n",
    "</p></div>"
   ]
  },
  {
   "cell_type": "code",
   "execution_count": 24,
   "id": "eb49ace6",
   "metadata": {
    "scrolled": true,
    "slideshow": {
     "slide_type": "fragment"
    }
   },
   "outputs": [
    {
     "ename": "ModuleNotFoundError",
     "evalue": "No module named 'line_profiler'",
     "output_type": "error",
     "traceback": [
      "\u001b[0;31m---------------------------------------------------------------------------\u001b[0m",
      "\u001b[0;31mModuleNotFoundError\u001b[0m                       Traceback (most recent call last)",
      "Cell \u001b[0;32mIn[24], line 1\u001b[0m\n\u001b[0;32m----> 1\u001b[0m \u001b[43mget_ipython\u001b[49m\u001b[43m(\u001b[49m\u001b[43m)\u001b[49m\u001b[38;5;241;43m.\u001b[39;49m\u001b[43mrun_line_magic\u001b[49m\u001b[43m(\u001b[49m\u001b[38;5;124;43m'\u001b[39;49m\u001b[38;5;124;43mload_ext\u001b[39;49m\u001b[38;5;124;43m'\u001b[39;49m\u001b[43m,\u001b[49m\u001b[43m \u001b[49m\u001b[38;5;124;43m'\u001b[39;49m\u001b[38;5;124;43mline_profiler\u001b[39;49m\u001b[38;5;124;43m'\u001b[39;49m\u001b[43m)\u001b[49m\n",
      "File \u001b[0;32m~/anaconda3/envs/TP1/lib/python3.10/site-packages/IPython/core/interactiveshell.py:2480\u001b[0m, in \u001b[0;36mInteractiveShell.run_line_magic\u001b[0;34m(self, magic_name, line, _stack_depth)\u001b[0m\n\u001b[1;32m   2478\u001b[0m     kwargs[\u001b[38;5;124m'\u001b[39m\u001b[38;5;124mlocal_ns\u001b[39m\u001b[38;5;124m'\u001b[39m] \u001b[38;5;241m=\u001b[39m \u001b[38;5;28mself\u001b[39m\u001b[38;5;241m.\u001b[39mget_local_scope(stack_depth)\n\u001b[1;32m   2479\u001b[0m \u001b[38;5;28;01mwith\u001b[39;00m \u001b[38;5;28mself\u001b[39m\u001b[38;5;241m.\u001b[39mbuiltin_trap:\n\u001b[0;32m-> 2480\u001b[0m     result \u001b[38;5;241m=\u001b[39m \u001b[43mfn\u001b[49m\u001b[43m(\u001b[49m\u001b[38;5;241;43m*\u001b[39;49m\u001b[43margs\u001b[49m\u001b[43m,\u001b[49m\u001b[43m \u001b[49m\u001b[38;5;241;43m*\u001b[39;49m\u001b[38;5;241;43m*\u001b[39;49m\u001b[43mkwargs\u001b[49m\u001b[43m)\u001b[49m\n\u001b[1;32m   2482\u001b[0m \u001b[38;5;66;03m# The code below prevents the output from being displayed\u001b[39;00m\n\u001b[1;32m   2483\u001b[0m \u001b[38;5;66;03m# when using magics with decorator @output_can_be_silenced\u001b[39;00m\n\u001b[1;32m   2484\u001b[0m \u001b[38;5;66;03m# when the last Python token in the expression is a ';'.\u001b[39;00m\n\u001b[1;32m   2485\u001b[0m \u001b[38;5;28;01mif\u001b[39;00m \u001b[38;5;28mgetattr\u001b[39m(fn, magic\u001b[38;5;241m.\u001b[39mMAGIC_OUTPUT_CAN_BE_SILENCED, \u001b[38;5;28;01mFalse\u001b[39;00m):\n",
      "File \u001b[0;32m~/anaconda3/envs/TP1/lib/python3.10/site-packages/IPython/core/magics/extension.py:33\u001b[0m, in \u001b[0;36mExtensionMagics.load_ext\u001b[0;34m(self, module_str)\u001b[0m\n\u001b[1;32m     31\u001b[0m \u001b[38;5;28;01mif\u001b[39;00m \u001b[38;5;129;01mnot\u001b[39;00m module_str:\n\u001b[1;32m     32\u001b[0m     \u001b[38;5;28;01mraise\u001b[39;00m UsageError(\u001b[38;5;124m'\u001b[39m\u001b[38;5;124mMissing module name.\u001b[39m\u001b[38;5;124m'\u001b[39m)\n\u001b[0;32m---> 33\u001b[0m res \u001b[38;5;241m=\u001b[39m \u001b[38;5;28;43mself\u001b[39;49m\u001b[38;5;241;43m.\u001b[39;49m\u001b[43mshell\u001b[49m\u001b[38;5;241;43m.\u001b[39;49m\u001b[43mextension_manager\u001b[49m\u001b[38;5;241;43m.\u001b[39;49m\u001b[43mload_extension\u001b[49m\u001b[43m(\u001b[49m\u001b[43mmodule_str\u001b[49m\u001b[43m)\u001b[49m\n\u001b[1;32m     35\u001b[0m \u001b[38;5;28;01mif\u001b[39;00m res \u001b[38;5;241m==\u001b[39m \u001b[38;5;124m'\u001b[39m\u001b[38;5;124malready loaded\u001b[39m\u001b[38;5;124m'\u001b[39m:\n\u001b[1;32m     36\u001b[0m     \u001b[38;5;28mprint\u001b[39m(\u001b[38;5;124m\"\u001b[39m\u001b[38;5;124mThe \u001b[39m\u001b[38;5;132;01m%s\u001b[39;00m\u001b[38;5;124m extension is already loaded. To reload it, use:\u001b[39m\u001b[38;5;124m\"\u001b[39m \u001b[38;5;241m%\u001b[39m module_str)\n",
      "File \u001b[0;32m~/anaconda3/envs/TP1/lib/python3.10/site-packages/IPython/core/extensions.py:62\u001b[0m, in \u001b[0;36mExtensionManager.load_extension\u001b[0;34m(self, module_str)\u001b[0m\n\u001b[1;32m     55\u001b[0m \u001b[38;5;250m\u001b[39m\u001b[38;5;124;03m\"\"\"Load an IPython extension by its module name.\u001b[39;00m\n\u001b[1;32m     56\u001b[0m \n\u001b[1;32m     57\u001b[0m \u001b[38;5;124;03mReturns the string \"already loaded\" if the extension is already loaded,\u001b[39;00m\n\u001b[1;32m     58\u001b[0m \u001b[38;5;124;03m\"no load function\" if the module doesn't have a load_ipython_extension\u001b[39;00m\n\u001b[1;32m     59\u001b[0m \u001b[38;5;124;03mfunction, or None if it succeeded.\u001b[39;00m\n\u001b[1;32m     60\u001b[0m \u001b[38;5;124;03m\"\"\"\u001b[39;00m\n\u001b[1;32m     61\u001b[0m \u001b[38;5;28;01mtry\u001b[39;00m:\n\u001b[0;32m---> 62\u001b[0m     \u001b[38;5;28;01mreturn\u001b[39;00m \u001b[38;5;28;43mself\u001b[39;49m\u001b[38;5;241;43m.\u001b[39;49m\u001b[43m_load_extension\u001b[49m\u001b[43m(\u001b[49m\u001b[43mmodule_str\u001b[49m\u001b[43m)\u001b[49m\n\u001b[1;32m     63\u001b[0m \u001b[38;5;28;01mexcept\u001b[39;00m \u001b[38;5;167;01mModuleNotFoundError\u001b[39;00m:\n\u001b[1;32m     64\u001b[0m     \u001b[38;5;28;01mif\u001b[39;00m module_str \u001b[38;5;129;01min\u001b[39;00m BUILTINS_EXTS:\n",
      "File \u001b[0;32m~/anaconda3/envs/TP1/lib/python3.10/site-packages/IPython/core/extensions.py:77\u001b[0m, in \u001b[0;36mExtensionManager._load_extension\u001b[0;34m(self, module_str)\u001b[0m\n\u001b[1;32m     75\u001b[0m \u001b[38;5;28;01mwith\u001b[39;00m \u001b[38;5;28mself\u001b[39m\u001b[38;5;241m.\u001b[39mshell\u001b[38;5;241m.\u001b[39mbuiltin_trap:\n\u001b[1;32m     76\u001b[0m     \u001b[38;5;28;01mif\u001b[39;00m module_str \u001b[38;5;129;01mnot\u001b[39;00m \u001b[38;5;129;01min\u001b[39;00m sys\u001b[38;5;241m.\u001b[39mmodules:\n\u001b[0;32m---> 77\u001b[0m         mod \u001b[38;5;241m=\u001b[39m \u001b[43mimport_module\u001b[49m\u001b[43m(\u001b[49m\u001b[43mmodule_str\u001b[49m\u001b[43m)\u001b[49m\n\u001b[1;32m     78\u001b[0m     mod \u001b[38;5;241m=\u001b[39m sys\u001b[38;5;241m.\u001b[39mmodules[module_str]\n\u001b[1;32m     79\u001b[0m     \u001b[38;5;28;01mif\u001b[39;00m \u001b[38;5;28mself\u001b[39m\u001b[38;5;241m.\u001b[39m_call_load_ipython_extension(mod):\n",
      "File \u001b[0;32m~/anaconda3/envs/TP1/lib/python3.10/importlib/__init__.py:126\u001b[0m, in \u001b[0;36mimport_module\u001b[0;34m(name, package)\u001b[0m\n\u001b[1;32m    124\u001b[0m             \u001b[38;5;28;01mbreak\u001b[39;00m\n\u001b[1;32m    125\u001b[0m         level \u001b[38;5;241m+\u001b[39m\u001b[38;5;241m=\u001b[39m \u001b[38;5;241m1\u001b[39m\n\u001b[0;32m--> 126\u001b[0m \u001b[38;5;28;01mreturn\u001b[39;00m \u001b[43m_bootstrap\u001b[49m\u001b[38;5;241;43m.\u001b[39;49m\u001b[43m_gcd_import\u001b[49m\u001b[43m(\u001b[49m\u001b[43mname\u001b[49m\u001b[43m[\u001b[49m\u001b[43mlevel\u001b[49m\u001b[43m:\u001b[49m\u001b[43m]\u001b[49m\u001b[43m,\u001b[49m\u001b[43m \u001b[49m\u001b[43mpackage\u001b[49m\u001b[43m,\u001b[49m\u001b[43m \u001b[49m\u001b[43mlevel\u001b[49m\u001b[43m)\u001b[49m\n",
      "File \u001b[0;32m<frozen importlib._bootstrap>:1050\u001b[0m, in \u001b[0;36m_gcd_import\u001b[0;34m(name, package, level)\u001b[0m\n",
      "File \u001b[0;32m<frozen importlib._bootstrap>:1027\u001b[0m, in \u001b[0;36m_find_and_load\u001b[0;34m(name, import_)\u001b[0m\n",
      "File \u001b[0;32m<frozen importlib._bootstrap>:1004\u001b[0m, in \u001b[0;36m_find_and_load_unlocked\u001b[0;34m(name, import_)\u001b[0m\n",
      "\u001b[0;31mModuleNotFoundError\u001b[0m: No module named 'line_profiler'"
     ]
    }
   ],
   "source": [
    "%load_ext line_profiler"
   ]
  },
  {
   "cell_type": "code",
   "execution_count": 29,
   "id": "ce38fe81",
   "metadata": {
    "slideshow": {
     "slide_type": "fragment"
    }
   },
   "outputs": [],
   "source": [
    "%lprun -f update update(grid)"
   ]
  },
  {
   "cell_type": "markdown",
   "id": "e801811d",
   "metadata": {
    "slideshow": {
     "slide_type": "subslide"
    }
   },
   "source": [
    "#### `snakeviz` avec %snakeviz"
   ]
  },
  {
   "cell_type": "code",
   "execution_count": 23,
   "id": "bcb3aa26",
   "metadata": {
    "slideshow": {
     "slide_type": "subslide"
    }
   },
   "outputs": [],
   "source": [
    "%load_ext snakeviz"
   ]
  },
  {
   "cell_type": "code",
   "execution_count": 30,
   "id": "5b27bad5",
   "metadata": {
    "slideshow": {
     "slide_type": "subslide"
    }
   },
   "outputs": [
    {
     "name": "stdout",
     "output_type": "stream",
     "text": [
      " \n",
      "*** Profile stats marshalled to file '/tmp/tmpak5xqruo'. \n",
      "Embedding SnakeViz in this document...\n"
     ]
    },
    {
     "data": {
      "text/html": [
       "\n",
       "<iframe id='snakeviz-8d8add16-4a47-11ed-8d49-00155d36a98f' frameborder=0 seamless width='100%' height='1000'></iframe>\n",
       "<script>document.getElementById(\"snakeviz-8d8add16-4a47-11ed-8d49-00155d36a98f\").setAttribute(\"src\", \"http://\" + document.location.hostname + \":8080/snakeviz/%2Ftmp%2Ftmpak5xqruo\")</script>\n"
      ],
      "text/plain": [
       "<IPython.core.display.HTML object>"
      ]
     },
     "metadata": {},
     "output_type": "display_data"
    }
   ],
   "source": [
    "%snakeviz update(grid)"
   ]
  },
  {
   "cell_type": "markdown",
   "id": "3e407624",
   "metadata": {
    "slideshow": {
     "slide_type": "subslide"
    }
   },
   "source": [
    " #### Profilage mémoire"
   ]
  },
  {
   "cell_type": "markdown",
   "id": "f6bca57d",
   "metadata": {
    "slideshow": {
     "slide_type": "fragment"
    }
   },
   "source": [
    "Le profilage mémoire fonctionne de manière similaire. Ici on va découvrir le module [`memory-profiler`](https://github.com/pythonprofilers/memory_profiler/blob/master/README.rst)\n",
    "```bash\n",
    "$pip install memory-profiler\n",
    "```"
   ]
  },
  {
   "cell_type": "code",
   "execution_count": 31,
   "id": "5c7cb6af",
   "metadata": {
    "slideshow": {
     "slide_type": "fragment"
    }
   },
   "outputs": [],
   "source": [
    "%load_ext memory_profiler"
   ]
  },
  {
   "cell_type": "code",
   "execution_count": 36,
   "id": "1d1b7548",
   "metadata": {
    "slideshow": {
     "slide_type": "fragment"
    }
   },
   "outputs": [
    {
     "name": "stdout",
     "output_type": "stream",
     "text": [
      "peak memory: 158.16 MiB, increment: 0.00 MiB\n"
     ]
    }
   ],
   "source": [
    "%memit update(grid)"
   ]
  },
  {
   "cell_type": "markdown",
   "id": "7f8c9f93",
   "metadata": {
    "slideshow": {
     "slide_type": "fragment"
    }
   },
   "source": [
    "De même, on peut profiler la mémoire par ligne avec la version \"mémoire\" de `%lprun`."
   ]
  },
  {
   "cell_type": "code",
   "execution_count": 35,
   "id": "7f860e7b",
   "metadata": {
    "slideshow": {
     "slide_type": "fragment"
    }
   },
   "outputs": [
    {
     "name": "stdout",
     "output_type": "stream",
     "text": [
      "ERROR: Could not find file /tmp/ipykernel_592/3468385382.py\n",
      "\n"
     ]
    }
   ],
   "source": [
    "%mprun -f update update(grid)"
   ]
  },
  {
   "cell_type": "markdown",
   "id": "a15ebd3c",
   "metadata": {
    "slideshow": {
     "slide_type": "subslide"
    }
   },
   "source": [
    "<div class=\"alert alert-success\" role=\"alert\"><p>\n",
    "   <b> Remarque : </b> ces appels dans le notebook sont très pratique. Pour une approche plus générale et avec les possibilités de personalisation qui vont avec, se référer à la doc de chacun des programmes.\n",
    "</p></div>\n",
    "\n",
    "<div class=\"alert alert-success\" role=\"alert\"><p>\n",
    "   <b> Remarque 2: </b> il existe tout un tas d'autres librairies, en particulier des solutions multilangages (valgrind, etc.) et propriétaires.\n",
    "</p></div>"
   ]
  },
  {
   "cell_type": "markdown",
   "id": "230f48db",
   "metadata": {
    "slideshow": {
     "slide_type": "slide"
    }
   },
   "source": [
    "###  Réduction de la complexité algorithmique"
   ]
  },
  {
   "cell_type": "markdown",
   "id": "eb0ac53a",
   "metadata": {
    "slideshow": {
     "slide_type": "subslide"
    }
   },
   "source": [
    "> Le moyen le plus direct (mais rarement le plus simple) d'accélérer un calcul est d'en réduire la complexité! \n",
    "\n",
    "cf. ALGOA"
   ]
  },
  {
   "cell_type": "markdown",
   "id": "3e3e0f0e",
   "metadata": {
    "slideshow": {
     "slide_type": "fragment"
    }
   },
   "source": [
    "<table>\n",
    "<caption>Tableau comparatif des tris procédant par comparaisons</caption>\n",
    "<thead><tr>\n",
    "<th class=\"headerSort\" tabindex=\"0\" role=\"columnheader button\" title=\"Tri croissant\">Nom</th>\n",
    "<th class=\"headerSort\" tabindex=\"0\" role=\"columnheader button\" title=\"Tri croissant\">Cas optimal</th>\n",
    "<th class=\"headerSort\" tabindex=\"0\" role=\"columnheader button\" title=\"Tri croissant\">Cas moyen</th>\n",
    "<th class=\"headerSort\" tabindex=\"0\" role=\"columnheader button\" title=\"Tri croissant\">Pire des cas</th>\n",
    "<th class=\"headerSort\" tabindex=\"0\" role=\"columnheader button\" title=\"Tri croissant\">Complexité spatiale</th>\n",
    "<th class=\"headerSort\" tabindex=\"0\" role=\"columnheader button\" title=\"Tri croissant\">Stable\n",
    "</th></tr></thead><tbody>\n",
    "<tr align=\"center\">\n",
    "<td><a href=\"/wiki/Tri_rapide\" title=\"Tri rapide\">Tri rapide</a>\n",
    "</td>\n",
    "<td style=\"background:#dfd\"><span data-sort-value=\"20\"><span class=\"mwe-math-element\"><span class=\"mwe-math-mathml-inline mwe-math-mathml-a11y\" style=\"display: none;\"><math xmlns=\"http://www.w3.org/1998/Math/MathML\" alttext=\"{\\displaystyle n\\log n}\">\n",
    "  <semantics>\n",
    "    <mrow class=\"MJX-TeXAtom-ORD\">\n",
    "      <mstyle scriptlevel=\"0\" displaystyle=\"true\">\n",
    "        <mi>n</mi>\n",
    "        <mi>log</mi>\n",
    "        <mo>⁡<!-- ⁡ --></mo>\n",
    "        <mi>n</mi>\n",
    "      </mstyle>\n",
    "    </mrow>\n",
    "    <annotation encoding=\"application/x-tex\">{\\displaystyle n\\log n}</annotation>\n",
    "  </semantics>\n",
    "</math></span><img src=\"https://wikimedia.org/api/rest_v1/media/math/render/svg/560dfdce0353a330e03e4b3e0b7ca6e484bb40fb\" class=\"mwe-math-fallback-image-inline\" aria-hidden=\"true\" style=\"vertical-align: -0.671ex; width:6.535ex; height:2.509ex;\" alt=\"n\\log n\"></span></span>\n",
    "</td>\n",
    "<td style=\"background:#dfd\"><span data-sort-value=\"20\"><span class=\"mwe-math-element\"><span class=\"mwe-math-mathml-inline mwe-math-mathml-a11y\" style=\"display: none;\"><math xmlns=\"http://www.w3.org/1998/Math/MathML\" alttext=\"{\\displaystyle n\\log n}\">\n",
    "  <semantics>\n",
    "    <mrow class=\"MJX-TeXAtom-ORD\">\n",
    "      <mstyle scriptlevel=\"0\" displaystyle=\"true\">\n",
    "        <mi>n</mi>\n",
    "        <mi>log</mi>\n",
    "        <mo>⁡<!-- ⁡ --></mo>\n",
    "        <mi>n</mi>\n",
    "      </mstyle>\n",
    "    </mrow>\n",
    "    <annotation encoding=\"application/x-tex\">{\\displaystyle n\\log n}</annotation>\n",
    "  </semantics>\n",
    "</math></span><img src=\"https://wikimedia.org/api/rest_v1/media/math/render/svg/560dfdce0353a330e03e4b3e0b7ca6e484bb40fb\" class=\"mwe-math-fallback-image-inline\" aria-hidden=\"true\" style=\"vertical-align: -0.671ex; width:6.535ex; height:2.509ex;\" alt=\"n\\log n\"></span></span>\n",
    "</td>\n",
    "<td style=\"background:#fdd\"><span data-sort-value=\"25\"><span class=\"mwe-math-element\"><span class=\"mwe-math-mathml-inline mwe-math-mathml-a11y\" style=\"display: none;\"><math xmlns=\"http://www.w3.org/1998/Math/MathML\" alttext=\"{\\displaystyle n^{2}}\">\n",
    "  <semantics>\n",
    "    <mrow class=\"MJX-TeXAtom-ORD\">\n",
    "      <mstyle scriptlevel=\"0\" displaystyle=\"true\">\n",
    "        <msup>\n",
    "          <mi>n</mi>\n",
    "          <mrow class=\"MJX-TeXAtom-ORD\">\n",
    "            <mn>2</mn>\n",
    "          </mrow>\n",
    "        </msup>\n",
    "      </mstyle>\n",
    "    </mrow>\n",
    "    <annotation encoding=\"application/x-tex\">{\\displaystyle n^{2}}</annotation>\n",
    "  </semantics>\n",
    "</math></span><img src=\"https://wikimedia.org/api/rest_v1/media/math/render/svg/ac9810bbdafe4a6a8061338db0f74e25b7952620\" class=\"mwe-math-fallback-image-inline\" aria-hidden=\"true\" style=\"vertical-align: -0.338ex; width:2.449ex; height:2.676ex;\" alt=\"n^{2}\"></span></span>\n",
    "</td>\n",
    "<td style=\"background:#ffd\"><span data-sort-value=\"05\"><span class=\"mwe-math-element\"><span class=\"mwe-math-mathml-inline mwe-math-mathml-a11y\" style=\"display: none;\"><math xmlns=\"http://www.w3.org/1998/Math/MathML\" alttext=\"{\\displaystyle \\log n}\">\n",
    "  <semantics>\n",
    "    <mrow class=\"MJX-TeXAtom-ORD\">\n",
    "      <mstyle scriptlevel=\"0\" displaystyle=\"true\">\n",
    "        <mi>log</mi>\n",
    "        <mo>⁡<!-- ⁡ --></mo>\n",
    "        <mi>n</mi>\n",
    "      </mstyle>\n",
    "    </mrow>\n",
    "    <annotation encoding=\"application/x-tex\">{\\displaystyle \\log n}</annotation>\n",
    "  </semantics>\n",
    "</math></span><img src=\"https://wikimedia.org/api/rest_v1/media/math/render/svg/317ab5292da7c7935aec01a570461fe0613b21d5\" class=\"mwe-math-fallback-image-inline\" aria-hidden=\"true\" style=\"vertical-align: -0.671ex; width:4.754ex; height:2.509ex;\" alt=\"\\log n\"></span> en moyenne, <span class=\"mwe-math-element\"><span class=\"mwe-math-mathml-inline mwe-math-mathml-a11y\" style=\"display: none;\"><math xmlns=\"http://www.w3.org/1998/Math/MathML\" alttext=\"{\\displaystyle n}\">\n",
    "  <semantics>\n",
    "    <mrow class=\"MJX-TeXAtom-ORD\">\n",
    "      <mstyle scriptlevel=\"0\" displaystyle=\"true\">\n",
    "        <mi>n</mi>\n",
    "      </mstyle>\n",
    "    </mrow>\n",
    "    <annotation encoding=\"application/x-tex\">{\\displaystyle n}</annotation>\n",
    "  </semantics>\n",
    "</math></span><img src=\"https://wikimedia.org/api/rest_v1/media/math/render/svg/a601995d55609f2d9f5e233e36fbe9ea26011b3b\" class=\"mwe-math-fallback-image-inline\" aria-hidden=\"true\" style=\"vertical-align: -0.338ex; width:1.395ex; height:1.676ex;\" alt=\"n\"></span> dans le pire des cas ;<br> variante de Sedgewick&nbsp;: <span class=\"mwe-math-element\"><span class=\"mwe-math-mathml-inline mwe-math-mathml-a11y\" style=\"display: none;\"><math xmlns=\"http://www.w3.org/1998/Math/MathML\" alttext=\"{\\displaystyle \\log n}\">\n",
    "  <semantics>\n",
    "    <mrow class=\"MJX-TeXAtom-ORD\">\n",
    "      <mstyle scriptlevel=\"0\" displaystyle=\"true\">\n",
    "        <mi>log</mi>\n",
    "        <mo>⁡<!-- ⁡ --></mo>\n",
    "        <mi>n</mi>\n",
    "      </mstyle>\n",
    "    </mrow>\n",
    "    <annotation encoding=\"application/x-tex\">{\\displaystyle \\log n}</annotation>\n",
    "  </semantics>\n",
    "</math></span><img src=\"https://wikimedia.org/api/rest_v1/media/math/render/svg/317ab5292da7c7935aec01a570461fe0613b21d5\" class=\"mwe-math-fallback-image-inline\" aria-hidden=\"true\" style=\"vertical-align: -0.671ex; width:4.754ex; height:2.509ex;\" alt=\"\\log n\"></span> dans le pire des cas</span>\n",
    "</td>\n",
    "<td style=\"background:#fdd\"><span data-sort-value=\"1\">Non</span>\n",
    "</td></tr>\n",
    "<tr align=\"center\">\n",
    "<td><a href=\"/wiki/Tri_fusion\" title=\"Tri fusion\">Tri fusion</a>\n",
    "</td>\n",
    "<td style=\"background:#dfd\"><span data-sort-value=\"20\"><span class=\"mwe-math-element\"><span class=\"mwe-math-mathml-inline mwe-math-mathml-a11y\" style=\"display: none;\"><math xmlns=\"http://www.w3.org/1998/Math/MathML\" alttext=\"{\\displaystyle n\\log n}\">\n",
    "  <semantics>\n",
    "    <mrow class=\"MJX-TeXAtom-ORD\">\n",
    "      <mstyle scriptlevel=\"0\" displaystyle=\"true\">\n",
    "        <mi>n</mi>\n",
    "        <mi>log</mi>\n",
    "        <mo>⁡<!-- ⁡ --></mo>\n",
    "        <mi>n</mi>\n",
    "      </mstyle>\n",
    "    </mrow>\n",
    "    <annotation encoding=\"application/x-tex\">{\\displaystyle n\\log n}</annotation>\n",
    "  </semantics>\n",
    "</math></span><img src=\"https://wikimedia.org/api/rest_v1/media/math/render/svg/560dfdce0353a330e03e4b3e0b7ca6e484bb40fb\" class=\"mwe-math-fallback-image-inline\" aria-hidden=\"true\" style=\"vertical-align: -0.671ex; width:6.535ex; height:2.509ex;\" alt=\"n\\log n\"></span></span>\n",
    "</td>\n",
    "<td style=\"background:#dfd\"><span data-sort-value=\"20\"><span class=\"mwe-math-element\"><span class=\"mwe-math-mathml-inline mwe-math-mathml-a11y\" style=\"display: none;\"><math xmlns=\"http://www.w3.org/1998/Math/MathML\" alttext=\"{\\displaystyle n\\log n}\">\n",
    "  <semantics>\n",
    "    <mrow class=\"MJX-TeXAtom-ORD\">\n",
    "      <mstyle scriptlevel=\"0\" displaystyle=\"true\">\n",
    "        <mi>n</mi>\n",
    "        <mi>log</mi>\n",
    "        <mo>⁡<!-- ⁡ --></mo>\n",
    "        <mi>n</mi>\n",
    "      </mstyle>\n",
    "    </mrow>\n",
    "    <annotation encoding=\"application/x-tex\">{\\displaystyle n\\log n}</annotation>\n",
    "  </semantics>\n",
    "</math></span><img src=\"https://wikimedia.org/api/rest_v1/media/math/render/svg/560dfdce0353a330e03e4b3e0b7ca6e484bb40fb\" class=\"mwe-math-fallback-image-inline\" aria-hidden=\"true\" style=\"vertical-align: -0.671ex; width:6.535ex; height:2.509ex;\" alt=\"n\\log n\"></span></span>\n",
    "</td>\n",
    "<td style=\"background:#dfd\"><span data-sort-value=\"20\"><span class=\"mwe-math-element\"><span class=\"mwe-math-mathml-inline mwe-math-mathml-a11y\" style=\"display: none;\"><math xmlns=\"http://www.w3.org/1998/Math/MathML\" alttext=\"{\\displaystyle n\\log n}\">\n",
    "  <semantics>\n",
    "    <mrow class=\"MJX-TeXAtom-ORD\">\n",
    "      <mstyle scriptlevel=\"0\" displaystyle=\"true\">\n",
    "        <mi>n</mi>\n",
    "        <mi>log</mi>\n",
    "        <mo>⁡<!-- ⁡ --></mo>\n",
    "        <mi>n</mi>\n",
    "      </mstyle>\n",
    "    </mrow>\n",
    "    <annotation encoding=\"application/x-tex\">{\\displaystyle n\\log n}</annotation>\n",
    "  </semantics>\n",
    "</math></span><img src=\"https://wikimedia.org/api/rest_v1/media/math/render/svg/560dfdce0353a330e03e4b3e0b7ca6e484bb40fb\" class=\"mwe-math-fallback-image-inline\" aria-hidden=\"true\" style=\"vertical-align: -0.671ex; width:6.535ex; height:2.509ex;\" alt=\"n\\log n\"></span></span>\n",
    "</td>\n",
    "<td style=\"background:#fdd\"><span data-sort-value=\"15\"><span class=\"mwe-math-element\"><span class=\"mwe-math-mathml-inline mwe-math-mathml-a11y\" style=\"display: none;\"><math xmlns=\"http://www.w3.org/1998/Math/MathML\" alttext=\"{\\displaystyle n}\">\n",
    "  <semantics>\n",
    "    <mrow class=\"MJX-TeXAtom-ORD\">\n",
    "      <mstyle scriptlevel=\"0\" displaystyle=\"true\">\n",
    "        <mi>n</mi>\n",
    "      </mstyle>\n",
    "    </mrow>\n",
    "    <annotation encoding=\"application/x-tex\">{\\displaystyle n}</annotation>\n",
    "  </semantics>\n",
    "</math></span><img src=\"https://wikimedia.org/api/rest_v1/media/math/render/svg/a601995d55609f2d9f5e233e36fbe9ea26011b3b\" class=\"mwe-math-fallback-image-inline\" aria-hidden=\"true\" style=\"vertical-align: -0.338ex; width:1.395ex; height:1.676ex;\" alt=\"n\"></span></span>\n",
    "</td>\n",
    "<td style=\"background:#dfd\"><span data-sort-value=\"0\">Oui</span>\n",
    "</td></tr>\n",
    "<tr align=\"center\">\n",
    "<td><a href=\"/wiki/Tri_par_tas\" title=\"Tri par tas\">Tri par tas</a>\n",
    "</td>\n",
    "<td style=\"background:#dfd\"><span data-sort-value=\"20\"><span class=\"mwe-math-element\"><span class=\"mwe-math-mathml-inline mwe-math-mathml-a11y\" style=\"display: none;\"><math xmlns=\"http://www.w3.org/1998/Math/MathML\" alttext=\"{\\displaystyle n\\log n}\">\n",
    "  <semantics>\n",
    "    <mrow class=\"MJX-TeXAtom-ORD\">\n",
    "      <mstyle scriptlevel=\"0\" displaystyle=\"true\">\n",
    "        <mi>n</mi>\n",
    "        <mi>log</mi>\n",
    "        <mo>⁡<!-- ⁡ --></mo>\n",
    "        <mi>n</mi>\n",
    "      </mstyle>\n",
    "    </mrow>\n",
    "    <annotation encoding=\"application/x-tex\">{\\displaystyle n\\log n}</annotation>\n",
    "  </semantics>\n",
    "</math></span><img src=\"https://wikimedia.org/api/rest_v1/media/math/render/svg/560dfdce0353a330e03e4b3e0b7ca6e484bb40fb\" class=\"mwe-math-fallback-image-inline\" aria-hidden=\"true\" style=\"vertical-align: -0.671ex; width:6.535ex; height:2.509ex;\" alt=\"n\\log n\"></span></span>\n",
    "</td>\n",
    "<td style=\"background:#dfd\"><span data-sort-value=\"20\"><span class=\"mwe-math-element\"><span class=\"mwe-math-mathml-inline mwe-math-mathml-a11y\" style=\"display: none;\"><math xmlns=\"http://www.w3.org/1998/Math/MathML\" alttext=\"{\\displaystyle n\\log n}\">\n",
    "  <semantics>\n",
    "    <mrow class=\"MJX-TeXAtom-ORD\">\n",
    "      <mstyle scriptlevel=\"0\" displaystyle=\"true\">\n",
    "        <mi>n</mi>\n",
    "        <mi>log</mi>\n",
    "        <mo>⁡<!-- ⁡ --></mo>\n",
    "        <mi>n</mi>\n",
    "      </mstyle>\n",
    "    </mrow>\n",
    "    <annotation encoding=\"application/x-tex\">{\\displaystyle n\\log n}</annotation>\n",
    "  </semantics>\n",
    "</math></span><img src=\"https://wikimedia.org/api/rest_v1/media/math/render/svg/560dfdce0353a330e03e4b3e0b7ca6e484bb40fb\" class=\"mwe-math-fallback-image-inline\" aria-hidden=\"true\" style=\"vertical-align: -0.671ex; width:6.535ex; height:2.509ex;\" alt=\"n\\log n\"></span></span>\n",
    "</td>\n",
    "<td style=\"background:#dfd\"><span data-sort-value=\"20\"><span class=\"mwe-math-element\"><span class=\"mwe-math-mathml-inline mwe-math-mathml-a11y\" style=\"display: none;\"><math xmlns=\"http://www.w3.org/1998/Math/MathML\" alttext=\"{\\displaystyle n\\log n}\">\n",
    "  <semantics>\n",
    "    <mrow class=\"MJX-TeXAtom-ORD\">\n",
    "      <mstyle scriptlevel=\"0\" displaystyle=\"true\">\n",
    "        <mi>n</mi>\n",
    "        <mi>log</mi>\n",
    "        <mo>⁡<!-- ⁡ --></mo>\n",
    "        <mi>n</mi>\n",
    "      </mstyle>\n",
    "    </mrow>\n",
    "    <annotation encoding=\"application/x-tex\">{\\displaystyle n\\log n}</annotation>\n",
    "  </semantics>\n",
    "</math></span><img src=\"https://wikimedia.org/api/rest_v1/media/math/render/svg/560dfdce0353a330e03e4b3e0b7ca6e484bb40fb\" class=\"mwe-math-fallback-image-inline\" aria-hidden=\"true\" style=\"vertical-align: -0.671ex; width:6.535ex; height:2.509ex;\" alt=\"n\\log n\"></span></span>\n",
    "</td>\n",
    "<td style=\"background:#dfd\"><span data-sort-value=\"00\"><span class=\"mwe-math-element\"><span class=\"mwe-math-mathml-inline mwe-math-mathml-a11y\" style=\"display: none;\"><math xmlns=\"http://www.w3.org/1998/Math/MathML\" alttext=\"{\\displaystyle 1}\">\n",
    "  <semantics>\n",
    "    <mrow class=\"MJX-TeXAtom-ORD\">\n",
    "      <mstyle scriptlevel=\"0\" displaystyle=\"true\">\n",
    "        <mn>1</mn>\n",
    "      </mstyle>\n",
    "    </mrow>\n",
    "    <annotation encoding=\"application/x-tex\">{\\displaystyle 1}</annotation>\n",
    "  </semantics>\n",
    "</math></span><img src=\"https://wikimedia.org/api/rest_v1/media/math/render/svg/92d98b82a3778f043108d4e20960a9193df57cbf\" class=\"mwe-math-fallback-image-inline\" aria-hidden=\"true\" style=\"vertical-align: -0.338ex; width:1.162ex; height:2.176ex;\" alt=\"1\"></span></span>\n",
    "</td>\n",
    "<td style=\"background:#fdd\"><span data-sort-value=\"1\">Non</span>\n",
    "</td></tr>\n",
    "<tr align=\"center\">\n",
    "<td><a href=\"/wiki/Tri_par_insertion\" title=\"Tri par insertion\">Tri par insertion</a>\n",
    "</td>\n",
    "<td style=\"background:#dfd\"><span data-sort-value=\"15\"><span class=\"mwe-math-element\"><span class=\"mwe-math-mathml-inline mwe-math-mathml-a11y\" style=\"display: none;\"><math xmlns=\"http://www.w3.org/1998/Math/MathML\" alttext=\"{\\displaystyle n}\">\n",
    "  <semantics>\n",
    "    <mrow class=\"MJX-TeXAtom-ORD\">\n",
    "      <mstyle scriptlevel=\"0\" displaystyle=\"true\">\n",
    "        <mi>n</mi>\n",
    "      </mstyle>\n",
    "    </mrow>\n",
    "    <annotation encoding=\"application/x-tex\">{\\displaystyle n}</annotation>\n",
    "  </semantics>\n",
    "</math></span><img src=\"https://wikimedia.org/api/rest_v1/media/math/render/svg/a601995d55609f2d9f5e233e36fbe9ea26011b3b\" class=\"mwe-math-fallback-image-inline\" aria-hidden=\"true\" style=\"vertical-align: -0.338ex; width:1.395ex; height:1.676ex;\" alt=\"n\"></span></span>\n",
    "</td>\n",
    "<td style=\"background:#fdd\"><span data-sort-value=\"25\"><span class=\"mwe-math-element\"><span class=\"mwe-math-mathml-inline mwe-math-mathml-a11y\" style=\"display: none;\"><math xmlns=\"http://www.w3.org/1998/Math/MathML\" alttext=\"{\\displaystyle n^{2}}\">\n",
    "  <semantics>\n",
    "    <mrow class=\"MJX-TeXAtom-ORD\">\n",
    "      <mstyle scriptlevel=\"0\" displaystyle=\"true\">\n",
    "        <msup>\n",
    "          <mi>n</mi>\n",
    "          <mrow class=\"MJX-TeXAtom-ORD\">\n",
    "            <mn>2</mn>\n",
    "          </mrow>\n",
    "        </msup>\n",
    "      </mstyle>\n",
    "    </mrow>\n",
    "    <annotation encoding=\"application/x-tex\">{\\displaystyle n^{2}}</annotation>\n",
    "  </semantics>\n",
    "</math></span><img src=\"https://wikimedia.org/api/rest_v1/media/math/render/svg/ac9810bbdafe4a6a8061338db0f74e25b7952620\" class=\"mwe-math-fallback-image-inline\" aria-hidden=\"true\" style=\"vertical-align: -0.338ex; width:2.449ex; height:2.676ex;\" alt=\"n^{2}\"></span></span>\n",
    "</td>\n",
    "<td style=\"background:#fdd\"><span data-sort-value=\"25\"><span class=\"mwe-math-element\"><span class=\"mwe-math-mathml-inline mwe-math-mathml-a11y\" style=\"display: none;\"><math xmlns=\"http://www.w3.org/1998/Math/MathML\" alttext=\"{\\displaystyle n^{2}}\">\n",
    "  <semantics>\n",
    "    <mrow class=\"MJX-TeXAtom-ORD\">\n",
    "      <mstyle scriptlevel=\"0\" displaystyle=\"true\">\n",
    "        <msup>\n",
    "          <mi>n</mi>\n",
    "          <mrow class=\"MJX-TeXAtom-ORD\">\n",
    "            <mn>2</mn>\n",
    "          </mrow>\n",
    "        </msup>\n",
    "      </mstyle>\n",
    "    </mrow>\n",
    "    <annotation encoding=\"application/x-tex\">{\\displaystyle n^{2}}</annotation>\n",
    "  </semantics>\n",
    "</math></span><img src=\"https://wikimedia.org/api/rest_v1/media/math/render/svg/ac9810bbdafe4a6a8061338db0f74e25b7952620\" class=\"mwe-math-fallback-image-inline\" aria-hidden=\"true\" style=\"vertical-align: -0.338ex; width:2.449ex; height:2.676ex;\" alt=\"n^{2}\"></span></span>\n",
    "</td>\n",
    "<td style=\"background:#dfd\"><span data-sort-value=\"00\"><span class=\"mwe-math-element\"><span class=\"mwe-math-mathml-inline mwe-math-mathml-a11y\" style=\"display: none;\"><math xmlns=\"http://www.w3.org/1998/Math/MathML\" alttext=\"{\\displaystyle 1}\">\n",
    "  <semantics>\n",
    "    <mrow class=\"MJX-TeXAtom-ORD\">\n",
    "      <mstyle scriptlevel=\"0\" displaystyle=\"true\">\n",
    "        <mn>1</mn>\n",
    "      </mstyle>\n",
    "    </mrow>\n",
    "    <annotation encoding=\"application/x-tex\">{\\displaystyle 1}</annotation>\n",
    "  </semantics>\n",
    "</math></span><img src=\"https://wikimedia.org/api/rest_v1/media/math/render/svg/92d98b82a3778f043108d4e20960a9193df57cbf\" class=\"mwe-math-fallback-image-inline\" aria-hidden=\"true\" style=\"vertical-align: -0.338ex; width:1.162ex; height:2.176ex;\" alt=\"1\"></span></span>\n",
    "</td>\n",
    "<td style=\"background:#dfd\"><span data-sort-value=\"0\">Oui</span>\n",
    "</td></tr>\n",
    "<tr align=\"center\">\n",
    "<td><a href=\"/wiki/Introsort\" title=\"Introsort\">Introsort</a>\n",
    "</td>\n",
    "<td style=\"background:#dfd\"><span data-sort-value=\"20\"><span class=\"mwe-math-element\"><span class=\"mwe-math-mathml-inline mwe-math-mathml-a11y\" style=\"display: none;\"><math xmlns=\"http://www.w3.org/1998/Math/MathML\" alttext=\"{\\displaystyle n\\log n}\">\n",
    "  <semantics>\n",
    "    <mrow class=\"MJX-TeXAtom-ORD\">\n",
    "      <mstyle scriptlevel=\"0\" displaystyle=\"true\">\n",
    "        <mi>n</mi>\n",
    "        <mi>log</mi>\n",
    "        <mo>⁡<!-- ⁡ --></mo>\n",
    "        <mi>n</mi>\n",
    "      </mstyle>\n",
    "    </mrow>\n",
    "    <annotation encoding=\"application/x-tex\">{\\displaystyle n\\log n}</annotation>\n",
    "  </semantics>\n",
    "</math></span><img src=\"https://wikimedia.org/api/rest_v1/media/math/render/svg/560dfdce0353a330e03e4b3e0b7ca6e484bb40fb\" class=\"mwe-math-fallback-image-inline\" aria-hidden=\"true\" style=\"vertical-align: -0.671ex; width:6.535ex; height:2.509ex;\" alt=\"n\\log n\"></span></span>\n",
    "</td>\n",
    "<td style=\"background:#dfd\"><span data-sort-value=\"20\"><span class=\"mwe-math-element\"><span class=\"mwe-math-mathml-inline mwe-math-mathml-a11y\" style=\"display: none;\"><math xmlns=\"http://www.w3.org/1998/Math/MathML\" alttext=\"{\\displaystyle n\\log n}\">\n",
    "  <semantics>\n",
    "    <mrow class=\"MJX-TeXAtom-ORD\">\n",
    "      <mstyle scriptlevel=\"0\" displaystyle=\"true\">\n",
    "        <mi>n</mi>\n",
    "        <mi>log</mi>\n",
    "        <mo>⁡<!-- ⁡ --></mo>\n",
    "        <mi>n</mi>\n",
    "      </mstyle>\n",
    "    </mrow>\n",
    "    <annotation encoding=\"application/x-tex\">{\\displaystyle n\\log n}</annotation>\n",
    "  </semantics>\n",
    "</math></span><img src=\"https://wikimedia.org/api/rest_v1/media/math/render/svg/560dfdce0353a330e03e4b3e0b7ca6e484bb40fb\" class=\"mwe-math-fallback-image-inline\" aria-hidden=\"true\" style=\"vertical-align: -0.671ex; width:6.535ex; height:2.509ex;\" alt=\"n\\log n\"></span></span>\n",
    "</td>\n",
    "<td style=\"background:#dfd\"><span data-sort-value=\"20\"><span class=\"mwe-math-element\"><span class=\"mwe-math-mathml-inline mwe-math-mathml-a11y\" style=\"display: none;\"><math xmlns=\"http://www.w3.org/1998/Math/MathML\" alttext=\"{\\displaystyle n\\log n}\">\n",
    "  <semantics>\n",
    "    <mrow class=\"MJX-TeXAtom-ORD\">\n",
    "      <mstyle scriptlevel=\"0\" displaystyle=\"true\">\n",
    "        <mi>n</mi>\n",
    "        <mi>log</mi>\n",
    "        <mo>⁡<!-- ⁡ --></mo>\n",
    "        <mi>n</mi>\n",
    "      </mstyle>\n",
    "    </mrow>\n",
    "    <annotation encoding=\"application/x-tex\">{\\displaystyle n\\log n}</annotation>\n",
    "  </semantics>\n",
    "</math></span><img src=\"https://wikimedia.org/api/rest_v1/media/math/render/svg/560dfdce0353a330e03e4b3e0b7ca6e484bb40fb\" class=\"mwe-math-fallback-image-inline\" aria-hidden=\"true\" style=\"vertical-align: -0.671ex; width:6.535ex; height:2.509ex;\" alt=\"n\\log n\"></span></span>\n",
    "</td>\n",
    "<td style=\"background:#ffd\"><span data-sort-value=\"05\"><span class=\"mwe-math-element\"><span class=\"mwe-math-mathml-inline mwe-math-mathml-a11y\" style=\"display: none;\"><math xmlns=\"http://www.w3.org/1998/Math/MathML\" alttext=\"{\\displaystyle \\log n}\">\n",
    "  <semantics>\n",
    "    <mrow class=\"MJX-TeXAtom-ORD\">\n",
    "      <mstyle scriptlevel=\"0\" displaystyle=\"true\">\n",
    "        <mi>log</mi>\n",
    "        <mo>⁡<!-- ⁡ --></mo>\n",
    "        <mi>n</mi>\n",
    "      </mstyle>\n",
    "    </mrow>\n",
    "    <annotation encoding=\"application/x-tex\">{\\displaystyle \\log n}</annotation>\n",
    "  </semantics>\n",
    "</math></span><img src=\"https://wikimedia.org/api/rest_v1/media/math/render/svg/317ab5292da7c7935aec01a570461fe0613b21d5\" class=\"mwe-math-fallback-image-inline\" aria-hidden=\"true\" style=\"vertical-align: -0.671ex; width:4.754ex; height:2.509ex;\" alt=\"\\log n\"></span></span>\n",
    "</td>\n",
    "<td style=\"background:#fdd\"><span data-sort-value=\"1\">Non</span>\n",
    "</td></tr>\n",
    "<tr align=\"center\">\n",
    "<td><a href=\"/wiki/Tri_par_s%C3%A9lection\" title=\"Tri par sélection\">Tri par sélection</a>\n",
    "</td>\n",
    "<td style=\"background:#fdd\"><span data-sort-value=\"25\"><span class=\"mwe-math-element\"><span class=\"mwe-math-mathml-inline mwe-math-mathml-a11y\" style=\"display: none;\"><math xmlns=\"http://www.w3.org/1998/Math/MathML\" alttext=\"{\\displaystyle n^{2}}\">\n",
    "  <semantics>\n",
    "    <mrow class=\"MJX-TeXAtom-ORD\">\n",
    "      <mstyle scriptlevel=\"0\" displaystyle=\"true\">\n",
    "        <msup>\n",
    "          <mi>n</mi>\n",
    "          <mrow class=\"MJX-TeXAtom-ORD\">\n",
    "            <mn>2</mn>\n",
    "          </mrow>\n",
    "        </msup>\n",
    "      </mstyle>\n",
    "    </mrow>\n",
    "    <annotation encoding=\"application/x-tex\">{\\displaystyle n^{2}}</annotation>\n",
    "  </semantics>\n",
    "</math></span><img src=\"https://wikimedia.org/api/rest_v1/media/math/render/svg/ac9810bbdafe4a6a8061338db0f74e25b7952620\" class=\"mwe-math-fallback-image-inline\" aria-hidden=\"true\" style=\"vertical-align: -0.338ex; width:2.449ex; height:2.676ex;\" alt=\"n^{2}\"></span></span>\n",
    "</td>\n",
    "<td style=\"background:#fdd\"><span data-sort-value=\"25\"><span class=\"mwe-math-element\"><span class=\"mwe-math-mathml-inline mwe-math-mathml-a11y\" style=\"display: none;\"><math xmlns=\"http://www.w3.org/1998/Math/MathML\" alttext=\"{\\displaystyle n^{2}}\">\n",
    "  <semantics>\n",
    "    <mrow class=\"MJX-TeXAtom-ORD\">\n",
    "      <mstyle scriptlevel=\"0\" displaystyle=\"true\">\n",
    "        <msup>\n",
    "          <mi>n</mi>\n",
    "          <mrow class=\"MJX-TeXAtom-ORD\">\n",
    "            <mn>2</mn>\n",
    "          </mrow>\n",
    "        </msup>\n",
    "      </mstyle>\n",
    "    </mrow>\n",
    "    <annotation encoding=\"application/x-tex\">{\\displaystyle n^{2}}</annotation>\n",
    "  </semantics>\n",
    "</math></span><img src=\"https://wikimedia.org/api/rest_v1/media/math/render/svg/ac9810bbdafe4a6a8061338db0f74e25b7952620\" class=\"mwe-math-fallback-image-inline\" aria-hidden=\"true\" style=\"vertical-align: -0.338ex; width:2.449ex; height:2.676ex;\" alt=\"n^{2}\"></span></span>\n",
    "</td>\n",
    "<td style=\"background:#fdd\"><span data-sort-value=\"25\"><span class=\"mwe-math-element\"><span class=\"mwe-math-mathml-inline mwe-math-mathml-a11y\" style=\"display: none;\"><math xmlns=\"http://www.w3.org/1998/Math/MathML\" alttext=\"{\\displaystyle n^{2}}\">\n",
    "  <semantics>\n",
    "    <mrow class=\"MJX-TeXAtom-ORD\">\n",
    "      <mstyle scriptlevel=\"0\" displaystyle=\"true\">\n",
    "        <msup>\n",
    "          <mi>n</mi>\n",
    "          <mrow class=\"MJX-TeXAtom-ORD\">\n",
    "            <mn>2</mn>\n",
    "          </mrow>\n",
    "        </msup>\n",
    "      </mstyle>\n",
    "    </mrow>\n",
    "    <annotation encoding=\"application/x-tex\">{\\displaystyle n^{2}}</annotation>\n",
    "  </semantics>\n",
    "</math></span><img src=\"https://wikimedia.org/api/rest_v1/media/math/render/svg/ac9810bbdafe4a6a8061338db0f74e25b7952620\" class=\"mwe-math-fallback-image-inline\" aria-hidden=\"true\" style=\"vertical-align: -0.338ex; width:2.449ex; height:2.676ex;\" alt=\"n^{2}\"></span></span>\n",
    "</td>\n",
    "<td style=\"background:#dfd\"><span data-sort-value=\"00\"><span class=\"mwe-math-element\"><span class=\"mwe-math-mathml-inline mwe-math-mathml-a11y\" style=\"display: none;\"><math xmlns=\"http://www.w3.org/1998/Math/MathML\" alttext=\"{\\displaystyle 1}\">\n",
    "  <semantics>\n",
    "    <mrow class=\"MJX-TeXAtom-ORD\">\n",
    "      <mstyle scriptlevel=\"0\" displaystyle=\"true\">\n",
    "        <mn>1</mn>\n",
    "      </mstyle>\n",
    "    </mrow>\n",
    "    <annotation encoding=\"application/x-tex\">{\\displaystyle 1}</annotation>\n",
    "  </semantics>\n",
    "</math></span><img src=\"https://wikimedia.org/api/rest_v1/media/math/render/svg/92d98b82a3778f043108d4e20960a9193df57cbf\" class=\"mwe-math-fallback-image-inline\" aria-hidden=\"true\" style=\"vertical-align: -0.338ex; width:1.162ex; height:2.176ex;\" alt=\"1\"></span></span>\n",
    "</td>\n",
    "<td style=\"background:#fdd\"><span data-sort-value=\"1\">Non</span>\n",
    "</td></tr>\n",
    "<tr align=\"center\">\n",
    "<td><a href=\"/wiki/Timsort\" title=\"Timsort\">Timsort</a>\n",
    "</td>\n",
    "<td style=\"background:#dfd\"><span data-sort-value=\"15\"><span class=\"mwe-math-element\"><span class=\"mwe-math-mathml-inline mwe-math-mathml-a11y\" style=\"display: none;\"><math xmlns=\"http://www.w3.org/1998/Math/MathML\" alttext=\"{\\displaystyle n}\">\n",
    "  <semantics>\n",
    "    <mrow class=\"MJX-TeXAtom-ORD\">\n",
    "      <mstyle scriptlevel=\"0\" displaystyle=\"true\">\n",
    "        <mi>n</mi>\n",
    "      </mstyle>\n",
    "    </mrow>\n",
    "    <annotation encoding=\"application/x-tex\">{\\displaystyle n}</annotation>\n",
    "  </semantics>\n",
    "</math></span><img src=\"https://wikimedia.org/api/rest_v1/media/math/render/svg/a601995d55609f2d9f5e233e36fbe9ea26011b3b\" class=\"mwe-math-fallback-image-inline\" aria-hidden=\"true\" style=\"vertical-align: -0.338ex; width:1.395ex; height:1.676ex;\" alt=\"n\"></span></span>\n",
    "</td>\n",
    "<td style=\"background:#dfd\"><span data-sort-value=\"20\"><span class=\"mwe-math-element\"><span class=\"mwe-math-mathml-inline mwe-math-mathml-a11y\" style=\"display: none;\"><math xmlns=\"http://www.w3.org/1998/Math/MathML\" alttext=\"{\\displaystyle n\\log n}\">\n",
    "  <semantics>\n",
    "    <mrow class=\"MJX-TeXAtom-ORD\">\n",
    "      <mstyle scriptlevel=\"0\" displaystyle=\"true\">\n",
    "        <mi>n</mi>\n",
    "        <mi>log</mi>\n",
    "        <mo>⁡<!-- ⁡ --></mo>\n",
    "        <mi>n</mi>\n",
    "      </mstyle>\n",
    "    </mrow>\n",
    "    <annotation encoding=\"application/x-tex\">{\\displaystyle n\\log n}</annotation>\n",
    "  </semantics>\n",
    "</math></span><img src=\"https://wikimedia.org/api/rest_v1/media/math/render/svg/560dfdce0353a330e03e4b3e0b7ca6e484bb40fb\" class=\"mwe-math-fallback-image-inline\" aria-hidden=\"true\" style=\"vertical-align: -0.671ex; width:6.535ex; height:2.509ex;\" alt=\"n\\log n\"></span></span>\n",
    "</td>\n",
    "<td style=\"background:#dfd\"><span data-sort-value=\"20\"><span class=\"mwe-math-element\"><span class=\"mwe-math-mathml-inline mwe-math-mathml-a11y\" style=\"display: none;\"><math xmlns=\"http://www.w3.org/1998/Math/MathML\" alttext=\"{\\displaystyle n\\log n}\">\n",
    "  <semantics>\n",
    "    <mrow class=\"MJX-TeXAtom-ORD\">\n",
    "      <mstyle scriptlevel=\"0\" displaystyle=\"true\">\n",
    "        <mi>n</mi>\n",
    "        <mi>log</mi>\n",
    "        <mo>⁡<!-- ⁡ --></mo>\n",
    "        <mi>n</mi>\n",
    "      </mstyle>\n",
    "    </mrow>\n",
    "    <annotation encoding=\"application/x-tex\">{\\displaystyle n\\log n}</annotation>\n",
    "  </semantics>\n",
    "</math></span><img src=\"https://wikimedia.org/api/rest_v1/media/math/render/svg/560dfdce0353a330e03e4b3e0b7ca6e484bb40fb\" class=\"mwe-math-fallback-image-inline\" aria-hidden=\"true\" style=\"vertical-align: -0.671ex; width:6.535ex; height:2.509ex;\" alt=\"n\\log n\"></span></span>\n",
    "</td>\n",
    "<td style=\"background:#fdd\"><span data-sort-value=\"15\"><span class=\"mwe-math-element\"><span class=\"mwe-math-mathml-inline mwe-math-mathml-a11y\" style=\"display: none;\"><math xmlns=\"http://www.w3.org/1998/Math/MathML\" alttext=\"{\\displaystyle n}\">\n",
    "  <semantics>\n",
    "    <mrow class=\"MJX-TeXAtom-ORD\">\n",
    "      <mstyle scriptlevel=\"0\" displaystyle=\"true\">\n",
    "        <mi>n</mi>\n",
    "      </mstyle>\n",
    "    </mrow>\n",
    "    <annotation encoding=\"application/x-tex\">{\\displaystyle n}</annotation>\n",
    "  </semantics>\n",
    "</math></span><img src=\"https://wikimedia.org/api/rest_v1/media/math/render/svg/a601995d55609f2d9f5e233e36fbe9ea26011b3b\" class=\"mwe-math-fallback-image-inline\" aria-hidden=\"true\" style=\"vertical-align: -0.338ex; width:1.395ex; height:1.676ex;\" alt=\"n\"></span></span>\n",
    "</td>\n",
    "<td style=\"background:#dfd\"><span data-sort-value=\"0\">Oui</span>\n",
    "</td></tr>\n",
    "<tr align=\"center\">\n",
    "<td><a href=\"/wiki/Tri_de_Shell\" title=\"Tri de Shell\">Tri de Shell</a>\n",
    "</td>\n",
    "<td style=\"background:#dfd\"><span data-sort-value=\"15\"><span class=\"mwe-math-element\"><span class=\"mwe-math-mathml-inline mwe-math-mathml-a11y\" style=\"display: none;\"><math xmlns=\"http://www.w3.org/1998/Math/MathML\" alttext=\"{\\displaystyle n}\">\n",
    "  <semantics>\n",
    "    <mrow class=\"MJX-TeXAtom-ORD\">\n",
    "      <mstyle scriptlevel=\"0\" displaystyle=\"true\">\n",
    "        <mi>n</mi>\n",
    "      </mstyle>\n",
    "    </mrow>\n",
    "    <annotation encoding=\"application/x-tex\">{\\displaystyle n}</annotation>\n",
    "  </semantics>\n",
    "</math></span><img src=\"https://wikimedia.org/api/rest_v1/media/math/render/svg/a601995d55609f2d9f5e233e36fbe9ea26011b3b\" class=\"mwe-math-fallback-image-inline\" aria-hidden=\"true\" style=\"vertical-align: -0.338ex; width:1.395ex; height:1.676ex;\" alt=\"n\"></span></span>\n",
    "</td>\n",
    "<td style=\"background:#ffd\"><span data-sort-value=\"23\"><span class=\"mwe-math-element\"><span class=\"mwe-math-mathml-inline mwe-math-mathml-a11y\" style=\"display: none;\"><math xmlns=\"http://www.w3.org/1998/Math/MathML\" alttext=\"{\\displaystyle n\\log ^{2}n}\">\n",
    "  <semantics>\n",
    "    <mrow class=\"MJX-TeXAtom-ORD\">\n",
    "      <mstyle scriptlevel=\"0\" displaystyle=\"true\">\n",
    "        <mi>n</mi>\n",
    "        <msup>\n",
    "          <mi>log</mi>\n",
    "          <mrow class=\"MJX-TeXAtom-ORD\">\n",
    "            <mn>2</mn>\n",
    "          </mrow>\n",
    "        </msup>\n",
    "        <mo>⁡<!-- ⁡ --></mo>\n",
    "        <mi>n</mi>\n",
    "      </mstyle>\n",
    "    </mrow>\n",
    "    <annotation encoding=\"application/x-tex\">{\\displaystyle n\\log ^{2}n}</annotation>\n",
    "  </semantics>\n",
    "</math></span><img src=\"https://wikimedia.org/api/rest_v1/media/math/render/svg/8dcc3d3ab4d647731efd75119a13e8febd1a7e44\" class=\"mwe-math-fallback-image-inline\" aria-hidden=\"true\" style=\"vertical-align: -0.671ex; width:7.59ex; height:3.009ex;\" alt=\"n \\log^2 n\"></span><br>ou<br><span class=\"mwe-math-element\"><span class=\"mwe-math-mathml-inline mwe-math-mathml-a11y\" style=\"display: none;\"><math xmlns=\"http://www.w3.org/1998/Math/MathML\" alttext=\"{\\displaystyle n^{3/2}}\">\n",
    "  <semantics>\n",
    "    <mrow class=\"MJX-TeXAtom-ORD\">\n",
    "      <mstyle scriptlevel=\"0\" displaystyle=\"true\">\n",
    "        <msup>\n",
    "          <mi>n</mi>\n",
    "          <mrow class=\"MJX-TeXAtom-ORD\">\n",
    "            <mn>3</mn>\n",
    "            <mrow class=\"MJX-TeXAtom-ORD\">\n",
    "              <mo>/</mo>\n",
    "            </mrow>\n",
    "            <mn>2</mn>\n",
    "          </mrow>\n",
    "        </msup>\n",
    "      </mstyle>\n",
    "    </mrow>\n",
    "    <annotation encoding=\"application/x-tex\">{\\displaystyle n^{3/2}}</annotation>\n",
    "  </semantics>\n",
    "</math></span><img src=\"https://wikimedia.org/api/rest_v1/media/math/render/svg/7101d69221defce7e4590ac55cfb4f22ea1732b2\" class=\"mwe-math-fallback-image-inline\" aria-hidden=\"true\" style=\"vertical-align: -0.338ex; width:4.093ex; height:2.843ex;\" alt=\"n^{3/2}\"></span></span>\n",
    "</td>\n",
    "<td style=\"background:#ffd\"><span data-sort-value=\"23\"><span class=\"mwe-math-element\"><span class=\"mwe-math-mathml-inline mwe-math-mathml-a11y\" style=\"display: none;\"><math xmlns=\"http://www.w3.org/1998/Math/MathML\" alttext=\"{\\displaystyle n\\log ^{2}n}\">\n",
    "  <semantics>\n",
    "    <mrow class=\"MJX-TeXAtom-ORD\">\n",
    "      <mstyle scriptlevel=\"0\" displaystyle=\"true\">\n",
    "        <mi>n</mi>\n",
    "        <msup>\n",
    "          <mi>log</mi>\n",
    "          <mrow class=\"MJX-TeXAtom-ORD\">\n",
    "            <mn>2</mn>\n",
    "          </mrow>\n",
    "        </msup>\n",
    "        <mo>⁡<!-- ⁡ --></mo>\n",
    "        <mi>n</mi>\n",
    "      </mstyle>\n",
    "    </mrow>\n",
    "    <annotation encoding=\"application/x-tex\">{\\displaystyle n\\log ^{2}n}</annotation>\n",
    "  </semantics>\n",
    "</math></span><img src=\"https://wikimedia.org/api/rest_v1/media/math/render/svg/8dcc3d3ab4d647731efd75119a13e8febd1a7e44\" class=\"mwe-math-fallback-image-inline\" aria-hidden=\"true\" style=\"vertical-align: -0.671ex; width:7.59ex; height:3.009ex;\" alt=\"n \\log^2 n\"></span> pour la meilleure<br> suite d'espacements connue</span>\n",
    "</td>\n",
    "<td style=\"background:#dfd\"><span data-sort-value=\"00\"><span class=\"mwe-math-element\"><span class=\"mwe-math-mathml-inline mwe-math-mathml-a11y\" style=\"display: none;\"><math xmlns=\"http://www.w3.org/1998/Math/MathML\" alttext=\"{\\displaystyle 1}\">\n",
    "  <semantics>\n",
    "    <mrow class=\"MJX-TeXAtom-ORD\">\n",
    "      <mstyle scriptlevel=\"0\" displaystyle=\"true\">\n",
    "        <mn>1</mn>\n",
    "      </mstyle>\n",
    "    </mrow>\n",
    "    <annotation encoding=\"application/x-tex\">{\\displaystyle 1}</annotation>\n",
    "  </semantics>\n",
    "</math></span><img src=\"https://wikimedia.org/api/rest_v1/media/math/render/svg/92d98b82a3778f043108d4e20960a9193df57cbf\" class=\"mwe-math-fallback-image-inline\" aria-hidden=\"true\" style=\"vertical-align: -0.338ex; width:1.162ex; height:2.176ex;\" alt=\"1\"></span></span>\n",
    "</td>\n",
    "<td style=\"background:#fdd\"><span data-sort-value=\"1\">Non</span>\n",
    "</td></tr>\n",
    "<tr align=\"center\">\n",
    "<td><a href=\"/wiki/Tri_%C3%A0_bulles\" title=\"Tri à bulles\">Tri à bulles</a>\n",
    "</td>\n",
    "<td style=\"background:#dfd\"><span data-sort-value=\"15\"><span class=\"mwe-math-element\"><span class=\"mwe-math-mathml-inline mwe-math-mathml-a11y\" style=\"display: none;\"><math xmlns=\"http://www.w3.org/1998/Math/MathML\" alttext=\"{\\displaystyle n}\">\n",
    "  <semantics>\n",
    "    <mrow class=\"MJX-TeXAtom-ORD\">\n",
    "      <mstyle scriptlevel=\"0\" displaystyle=\"true\">\n",
    "        <mi>n</mi>\n",
    "      </mstyle>\n",
    "    </mrow>\n",
    "    <annotation encoding=\"application/x-tex\">{\\displaystyle n}</annotation>\n",
    "  </semantics>\n",
    "</math></span><img src=\"https://wikimedia.org/api/rest_v1/media/math/render/svg/a601995d55609f2d9f5e233e36fbe9ea26011b3b\" class=\"mwe-math-fallback-image-inline\" aria-hidden=\"true\" style=\"vertical-align: -0.338ex; width:1.395ex; height:1.676ex;\" alt=\"n\"></span></span>\n",
    "</td>\n",
    "<td style=\"background:#fdd\"><span data-sort-value=\"25\"><span class=\"mwe-math-element\"><span class=\"mwe-math-mathml-inline mwe-math-mathml-a11y\" style=\"display: none;\"><math xmlns=\"http://www.w3.org/1998/Math/MathML\" alttext=\"{\\displaystyle n^{2}}\">\n",
    "  <semantics>\n",
    "    <mrow class=\"MJX-TeXAtom-ORD\">\n",
    "      <mstyle scriptlevel=\"0\" displaystyle=\"true\">\n",
    "        <msup>\n",
    "          <mi>n</mi>\n",
    "          <mrow class=\"MJX-TeXAtom-ORD\">\n",
    "            <mn>2</mn>\n",
    "          </mrow>\n",
    "        </msup>\n",
    "      </mstyle>\n",
    "    </mrow>\n",
    "    <annotation encoding=\"application/x-tex\">{\\displaystyle n^{2}}</annotation>\n",
    "  </semantics>\n",
    "</math></span><img src=\"https://wikimedia.org/api/rest_v1/media/math/render/svg/ac9810bbdafe4a6a8061338db0f74e25b7952620\" class=\"mwe-math-fallback-image-inline\" aria-hidden=\"true\" style=\"vertical-align: -0.338ex; width:2.449ex; height:2.676ex;\" alt=\"n^{2}\"></span></span>\n",
    "</td>\n",
    "<td style=\"background:#fdd\"><span data-sort-value=\"25\"><span class=\"mwe-math-element\"><span class=\"mwe-math-mathml-inline mwe-math-mathml-a11y\" style=\"display: none;\"><math xmlns=\"http://www.w3.org/1998/Math/MathML\" alttext=\"{\\displaystyle n^{2}}\">\n",
    "  <semantics>\n",
    "    <mrow class=\"MJX-TeXAtom-ORD\">\n",
    "      <mstyle scriptlevel=\"0\" displaystyle=\"true\">\n",
    "        <msup>\n",
    "          <mi>n</mi>\n",
    "          <mrow class=\"MJX-TeXAtom-ORD\">\n",
    "            <mn>2</mn>\n",
    "          </mrow>\n",
    "        </msup>\n",
    "      </mstyle>\n",
    "    </mrow>\n",
    "    <annotation encoding=\"application/x-tex\">{\\displaystyle n^{2}}</annotation>\n",
    "  </semantics>\n",
    "</math></span><img src=\"https://wikimedia.org/api/rest_v1/media/math/render/svg/ac9810bbdafe4a6a8061338db0f74e25b7952620\" class=\"mwe-math-fallback-image-inline\" aria-hidden=\"true\" style=\"vertical-align: -0.338ex; width:2.449ex; height:2.676ex;\" alt=\"n^{2}\"></span></span>\n",
    "</td>\n",
    "<td style=\"background:#dfd\"><span data-sort-value=\"00\"><span class=\"mwe-math-element\"><span class=\"mwe-math-mathml-inline mwe-math-mathml-a11y\" style=\"display: none;\"><math xmlns=\"http://www.w3.org/1998/Math/MathML\" alttext=\"{\\displaystyle 1}\">\n",
    "  <semantics>\n",
    "    <mrow class=\"MJX-TeXAtom-ORD\">\n",
    "      <mstyle scriptlevel=\"0\" displaystyle=\"true\">\n",
    "        <mn>1</mn>\n",
    "      </mstyle>\n",
    "    </mrow>\n",
    "    <annotation encoding=\"application/x-tex\">{\\displaystyle 1}</annotation>\n",
    "  </semantics>\n",
    "</math></span><img src=\"https://wikimedia.org/api/rest_v1/media/math/render/svg/92d98b82a3778f043108d4e20960a9193df57cbf\" class=\"mwe-math-fallback-image-inline\" aria-hidden=\"true\" style=\"vertical-align: -0.338ex; width:1.162ex; height:2.176ex;\" alt=\"1\"></span></span>\n",
    "</td>\n",
    "<td style=\"background:#dfd\"><span data-sort-value=\"0\">Oui</span>\n",
    "</td></tr>\n",
    "<tr align=\"center\">\n",
    "<td><a href=\"/wiki/Tri_arborescent\" title=\"Tri arborescent\">Tri arborescent</a>\n",
    "</td>\n",
    "<td style=\"background:#dfd\"><span data-sort-value=\"20\"><span class=\"mwe-math-element\"><span class=\"mwe-math-mathml-inline mwe-math-mathml-a11y\" style=\"display: none;\"><math xmlns=\"http://www.w3.org/1998/Math/MathML\" alttext=\"{\\displaystyle n\\log n}\">\n",
    "  <semantics>\n",
    "    <mrow class=\"MJX-TeXAtom-ORD\">\n",
    "      <mstyle scriptlevel=\"0\" displaystyle=\"true\">\n",
    "        <mi>n</mi>\n",
    "        <mi>log</mi>\n",
    "        <mo>⁡<!-- ⁡ --></mo>\n",
    "        <mi>n</mi>\n",
    "      </mstyle>\n",
    "    </mrow>\n",
    "    <annotation encoding=\"application/x-tex\">{\\displaystyle n\\log n}</annotation>\n",
    "  </semantics>\n",
    "</math></span><img src=\"https://wikimedia.org/api/rest_v1/media/math/render/svg/560dfdce0353a330e03e4b3e0b7ca6e484bb40fb\" class=\"mwe-math-fallback-image-inline\" aria-hidden=\"true\" style=\"vertical-align: -0.671ex; width:6.535ex; height:2.509ex;\" alt=\"n\\log n\"></span></span>\n",
    "</td>\n",
    "<td style=\"background:#dfd\"><span data-sort-value=\"20\"><span class=\"mwe-math-element\"><span class=\"mwe-math-mathml-inline mwe-math-mathml-a11y\" style=\"display: none;\"><math xmlns=\"http://www.w3.org/1998/Math/MathML\" alttext=\"{\\displaystyle n\\log n}\">\n",
    "  <semantics>\n",
    "    <mrow class=\"MJX-TeXAtom-ORD\">\n",
    "      <mstyle scriptlevel=\"0\" displaystyle=\"true\">\n",
    "        <mi>n</mi>\n",
    "        <mi>log</mi>\n",
    "        <mo>⁡<!-- ⁡ --></mo>\n",
    "        <mi>n</mi>\n",
    "      </mstyle>\n",
    "    </mrow>\n",
    "    <annotation encoding=\"application/x-tex\">{\\displaystyle n\\log n}</annotation>\n",
    "  </semantics>\n",
    "</math></span><img src=\"https://wikimedia.org/api/rest_v1/media/math/render/svg/560dfdce0353a330e03e4b3e0b7ca6e484bb40fb\" class=\"mwe-math-fallback-image-inline\" aria-hidden=\"true\" style=\"vertical-align: -0.671ex; width:6.535ex; height:2.509ex;\" alt=\"n\\log n\"></span></span>\n",
    "</td>\n",
    "<td style=\"background:#dfd\"><span data-sort-value=\"20\"><span class=\"mwe-math-element\"><span class=\"mwe-math-mathml-inline mwe-math-mathml-a11y\" style=\"display: none;\"><math xmlns=\"http://www.w3.org/1998/Math/MathML\" alttext=\"{\\displaystyle n\\log n}\">\n",
    "  <semantics>\n",
    "    <mrow class=\"MJX-TeXAtom-ORD\">\n",
    "      <mstyle scriptlevel=\"0\" displaystyle=\"true\">\n",
    "        <mi>n</mi>\n",
    "        <mi>log</mi>\n",
    "        <mo>⁡<!-- ⁡ --></mo>\n",
    "        <mi>n</mi>\n",
    "      </mstyle>\n",
    "    </mrow>\n",
    "    <annotation encoding=\"application/x-tex\">{\\displaystyle n\\log n}</annotation>\n",
    "  </semantics>\n",
    "</math></span><img src=\"https://wikimedia.org/api/rest_v1/media/math/render/svg/560dfdce0353a330e03e4b3e0b7ca6e484bb40fb\" class=\"mwe-math-fallback-image-inline\" aria-hidden=\"true\" style=\"vertical-align: -0.671ex; width:6.535ex; height:2.509ex;\" alt=\"n\\log n\"></span> (arbre équilibré)</span>\n",
    "</td>\n",
    "<td style=\"background:#fdd\"><span data-sort-value=\"15\"><span class=\"mwe-math-element\"><span class=\"mwe-math-mathml-inline mwe-math-mathml-a11y\" style=\"display: none;\"><math xmlns=\"http://www.w3.org/1998/Math/MathML\" alttext=\"{\\displaystyle n}\">\n",
    "  <semantics>\n",
    "    <mrow class=\"MJX-TeXAtom-ORD\">\n",
    "      <mstyle scriptlevel=\"0\" displaystyle=\"true\">\n",
    "        <mi>n</mi>\n",
    "      </mstyle>\n",
    "    </mrow>\n",
    "    <annotation encoding=\"application/x-tex\">{\\displaystyle n}</annotation>\n",
    "  </semantics>\n",
    "</math></span><img src=\"https://wikimedia.org/api/rest_v1/media/math/render/svg/a601995d55609f2d9f5e233e36fbe9ea26011b3b\" class=\"mwe-math-fallback-image-inline\" aria-hidden=\"true\" style=\"vertical-align: -0.338ex; width:1.395ex; height:1.676ex;\" alt=\"n\"></span></span>\n",
    "</td>\n",
    "<td style=\"background:#dfd\"><span data-sort-value=\"0\">Oui</span>\n",
    "</td></tr>\n",
    "<tr align=\"center\">\n",
    "<td><a href=\"/wiki/Smoothsort\" title=\"Smoothsort\">Smoothsort</a>\n",
    "</td>\n",
    "<td style=\"background:#dfd\"><span data-sort-value=\"15\"><span class=\"mwe-math-element\"><span class=\"mwe-math-mathml-inline mwe-math-mathml-a11y\" style=\"display: none;\"><math xmlns=\"http://www.w3.org/1998/Math/MathML\" alttext=\"{\\displaystyle n}\">\n",
    "  <semantics>\n",
    "    <mrow class=\"MJX-TeXAtom-ORD\">\n",
    "      <mstyle scriptlevel=\"0\" displaystyle=\"true\">\n",
    "        <mi>n</mi>\n",
    "      </mstyle>\n",
    "    </mrow>\n",
    "    <annotation encoding=\"application/x-tex\">{\\displaystyle n}</annotation>\n",
    "  </semantics>\n",
    "</math></span><img src=\"https://wikimedia.org/api/rest_v1/media/math/render/svg/a601995d55609f2d9f5e233e36fbe9ea26011b3b\" class=\"mwe-math-fallback-image-inline\" aria-hidden=\"true\" style=\"vertical-align: -0.338ex; width:1.395ex; height:1.676ex;\" alt=\"n\"></span></span>\n",
    "</td>\n",
    "<td style=\"background:#dfd\"><span data-sort-value=\"20\"><span class=\"mwe-math-element\"><span class=\"mwe-math-mathml-inline mwe-math-mathml-a11y\" style=\"display: none;\"><math xmlns=\"http://www.w3.org/1998/Math/MathML\" alttext=\"{\\displaystyle n\\log n}\">\n",
    "  <semantics>\n",
    "    <mrow class=\"MJX-TeXAtom-ORD\">\n",
    "      <mstyle scriptlevel=\"0\" displaystyle=\"true\">\n",
    "        <mi>n</mi>\n",
    "        <mi>log</mi>\n",
    "        <mo>⁡<!-- ⁡ --></mo>\n",
    "        <mi>n</mi>\n",
    "      </mstyle>\n",
    "    </mrow>\n",
    "    <annotation encoding=\"application/x-tex\">{\\displaystyle n\\log n}</annotation>\n",
    "  </semantics>\n",
    "</math></span><img src=\"https://wikimedia.org/api/rest_v1/media/math/render/svg/560dfdce0353a330e03e4b3e0b7ca6e484bb40fb\" class=\"mwe-math-fallback-image-inline\" aria-hidden=\"true\" style=\"vertical-align: -0.671ex; width:6.535ex; height:2.509ex;\" alt=\"n\\log n\"></span></span>\n",
    "</td>\n",
    "<td style=\"background:#dfd\"><span data-sort-value=\"20\"><span class=\"mwe-math-element\"><span class=\"mwe-math-mathml-inline mwe-math-mathml-a11y\" style=\"display: none;\"><math xmlns=\"http://www.w3.org/1998/Math/MathML\" alttext=\"{\\displaystyle n\\log n}\">\n",
    "  <semantics>\n",
    "    <mrow class=\"MJX-TeXAtom-ORD\">\n",
    "      <mstyle scriptlevel=\"0\" displaystyle=\"true\">\n",
    "        <mi>n</mi>\n",
    "        <mi>log</mi>\n",
    "        <mo>⁡<!-- ⁡ --></mo>\n",
    "        <mi>n</mi>\n",
    "      </mstyle>\n",
    "    </mrow>\n",
    "    <annotation encoding=\"application/x-tex\">{\\displaystyle n\\log n}</annotation>\n",
    "  </semantics>\n",
    "</math></span><img src=\"https://wikimedia.org/api/rest_v1/media/math/render/svg/560dfdce0353a330e03e4b3e0b7ca6e484bb40fb\" class=\"mwe-math-fallback-image-inline\" aria-hidden=\"true\" style=\"vertical-align: -0.671ex; width:6.535ex; height:2.509ex;\" alt=\"n\\log n\"></span></span>\n",
    "</td>\n",
    "<td style=\"background:#dfd\"><span data-sort-value=\"00\"><span class=\"mwe-math-element\"><span class=\"mwe-math-mathml-inline mwe-math-mathml-a11y\" style=\"display: none;\"><math xmlns=\"http://www.w3.org/1998/Math/MathML\" alttext=\"{\\displaystyle 1}\">\n",
    "  <semantics>\n",
    "    <mrow class=\"MJX-TeXAtom-ORD\">\n",
    "      <mstyle scriptlevel=\"0\" displaystyle=\"true\">\n",
    "        <mn>1</mn>\n",
    "      </mstyle>\n",
    "    </mrow>\n",
    "    <annotation encoding=\"application/x-tex\">{\\displaystyle 1}</annotation>\n",
    "  </semantics>\n",
    "</math></span><img src=\"https://wikimedia.org/api/rest_v1/media/math/render/svg/92d98b82a3778f043108d4e20960a9193df57cbf\" class=\"mwe-math-fallback-image-inline\" aria-hidden=\"true\" style=\"vertical-align: -0.338ex; width:1.162ex; height:2.176ex;\" alt=\"1\"></span></span>\n",
    "</td>\n",
    "<td style=\"background:#fdd\"><span data-sort-value=\"1\">Non</span>\n",
    "</td></tr>\n",
    "<tr align=\"center\">\n",
    "<td><a href=\"/wiki/Tri_cocktail\" title=\"Tri cocktail\">Tri cocktail</a>\n",
    "</td>\n",
    "<td style=\"background:#dfd\"><span data-sort-value=\"15\"><span class=\"mwe-math-element\"><span class=\"mwe-math-mathml-inline mwe-math-mathml-a11y\" style=\"display: none;\"><math xmlns=\"http://www.w3.org/1998/Math/MathML\" alttext=\"{\\displaystyle n}\">\n",
    "  <semantics>\n",
    "    <mrow class=\"MJX-TeXAtom-ORD\">\n",
    "      <mstyle scriptlevel=\"0\" displaystyle=\"true\">\n",
    "        <mi>n</mi>\n",
    "      </mstyle>\n",
    "    </mrow>\n",
    "    <annotation encoding=\"application/x-tex\">{\\displaystyle n}</annotation>\n",
    "  </semantics>\n",
    "</math></span><img src=\"https://wikimedia.org/api/rest_v1/media/math/render/svg/a601995d55609f2d9f5e233e36fbe9ea26011b3b\" class=\"mwe-math-fallback-image-inline\" aria-hidden=\"true\" style=\"vertical-align: -0.338ex; width:1.395ex; height:1.676ex;\" alt=\"n\"></span></span>\n",
    "</td>\n",
    "<td style=\"background:#fdd\"><span data-sort-value=\"25\"><span class=\"mwe-math-element\"><span class=\"mwe-math-mathml-inline mwe-math-mathml-a11y\" style=\"display: none;\"><math xmlns=\"http://www.w3.org/1998/Math/MathML\" alttext=\"{\\displaystyle n^{2}}\">\n",
    "  <semantics>\n",
    "    <mrow class=\"MJX-TeXAtom-ORD\">\n",
    "      <mstyle scriptlevel=\"0\" displaystyle=\"true\">\n",
    "        <msup>\n",
    "          <mi>n</mi>\n",
    "          <mrow class=\"MJX-TeXAtom-ORD\">\n",
    "            <mn>2</mn>\n",
    "          </mrow>\n",
    "        </msup>\n",
    "      </mstyle>\n",
    "    </mrow>\n",
    "    <annotation encoding=\"application/x-tex\">{\\displaystyle n^{2}}</annotation>\n",
    "  </semantics>\n",
    "</math></span><img src=\"https://wikimedia.org/api/rest_v1/media/math/render/svg/ac9810bbdafe4a6a8061338db0f74e25b7952620\" class=\"mwe-math-fallback-image-inline\" aria-hidden=\"true\" style=\"vertical-align: -0.338ex; width:2.449ex; height:2.676ex;\" alt=\"n^{2}\"></span></span>\n",
    "</td>\n",
    "<td style=\"background:#fdd\"><span data-sort-value=\"25\"><span class=\"mwe-math-element\"><span class=\"mwe-math-mathml-inline mwe-math-mathml-a11y\" style=\"display: none;\"><math xmlns=\"http://www.w3.org/1998/Math/MathML\" alttext=\"{\\displaystyle n^{2}}\">\n",
    "  <semantics>\n",
    "    <mrow class=\"MJX-TeXAtom-ORD\">\n",
    "      <mstyle scriptlevel=\"0\" displaystyle=\"true\">\n",
    "        <msup>\n",
    "          <mi>n</mi>\n",
    "          <mrow class=\"MJX-TeXAtom-ORD\">\n",
    "            <mn>2</mn>\n",
    "          </mrow>\n",
    "        </msup>\n",
    "      </mstyle>\n",
    "    </mrow>\n",
    "    <annotation encoding=\"application/x-tex\">{\\displaystyle n^{2}}</annotation>\n",
    "  </semantics>\n",
    "</math></span><img src=\"https://wikimedia.org/api/rest_v1/media/math/render/svg/ac9810bbdafe4a6a8061338db0f74e25b7952620\" class=\"mwe-math-fallback-image-inline\" aria-hidden=\"true\" style=\"vertical-align: -0.338ex; width:2.449ex; height:2.676ex;\" alt=\"n^{2}\"></span></span>\n",
    "</td>\n",
    "<td style=\"background:#dfd\"><span data-sort-value=\"00\"><span class=\"mwe-math-element\"><span class=\"mwe-math-mathml-inline mwe-math-mathml-a11y\" style=\"display: none;\"><math xmlns=\"http://www.w3.org/1998/Math/MathML\" alttext=\"{\\displaystyle 1}\">\n",
    "  <semantics>\n",
    "    <mrow class=\"MJX-TeXAtom-ORD\">\n",
    "      <mstyle scriptlevel=\"0\" displaystyle=\"true\">\n",
    "        <mn>1</mn>\n",
    "      </mstyle>\n",
    "    </mrow>\n",
    "    <annotation encoding=\"application/x-tex\">{\\displaystyle 1}</annotation>\n",
    "  </semantics>\n",
    "</math></span><img src=\"https://wikimedia.org/api/rest_v1/media/math/render/svg/92d98b82a3778f043108d4e20960a9193df57cbf\" class=\"mwe-math-fallback-image-inline\" aria-hidden=\"true\" style=\"vertical-align: -0.338ex; width:1.162ex; height:2.176ex;\" alt=\"1\"></span></span>\n",
    "</td>\n",
    "<td style=\"background:#dfd\"><span data-sort-value=\"0\">Oui</span>\n",
    "</td></tr>\n",
    "<tr align=\"center\">\n",
    "<td><a href=\"/wiki/Tri_%C3%A0_peigne\" title=\"Tri à peigne\">Tri à peigne</a>\n",
    "</td>\n",
    "<td style=\"background:#dfd\"><span data-sort-value=\"15\"><span class=\"mwe-math-element\"><span class=\"mwe-math-mathml-inline mwe-math-mathml-a11y\" style=\"display: none;\"><math xmlns=\"http://www.w3.org/1998/Math/MathML\" alttext=\"{\\displaystyle n}\">\n",
    "  <semantics>\n",
    "    <mrow class=\"MJX-TeXAtom-ORD\">\n",
    "      <mstyle scriptlevel=\"0\" displaystyle=\"true\">\n",
    "        <mi>n</mi>\n",
    "      </mstyle>\n",
    "    </mrow>\n",
    "    <annotation encoding=\"application/x-tex\">{\\displaystyle n}</annotation>\n",
    "  </semantics>\n",
    "</math></span><img src=\"https://wikimedia.org/api/rest_v1/media/math/render/svg/a601995d55609f2d9f5e233e36fbe9ea26011b3b\" class=\"mwe-math-fallback-image-inline\" aria-hidden=\"true\" style=\"vertical-align: -0.338ex; width:1.395ex; height:1.676ex;\" alt=\"n\"></span></span>\n",
    "</td>\n",
    "<td style=\"background:#dfd\"><span data-sort-value=\"15\"><span class=\"mwe-math-element\"><span class=\"mwe-math-mathml-inline mwe-math-mathml-a11y\" style=\"display: none;\"><math xmlns=\"http://www.w3.org/1998/Math/MathML\" alttext=\"{\\displaystyle n\\log n}\">\n",
    "  <semantics>\n",
    "    <mrow class=\"MJX-TeXAtom-ORD\">\n",
    "      <mstyle scriptlevel=\"0\" displaystyle=\"true\">\n",
    "        <mi>n</mi>\n",
    "        <mi>log</mi>\n",
    "        <mo>⁡<!-- ⁡ --></mo>\n",
    "        <mi>n</mi>\n",
    "      </mstyle>\n",
    "    </mrow>\n",
    "    <annotation encoding=\"application/x-tex\">{\\displaystyle n\\log n}</annotation>\n",
    "  </semantics>\n",
    "</math></span><img src=\"https://wikimedia.org/api/rest_v1/media/math/render/svg/560dfdce0353a330e03e4b3e0b7ca6e484bb40fb\" class=\"mwe-math-fallback-image-inline\" aria-hidden=\"true\" style=\"vertical-align: -0.671ex; width:6.535ex; height:2.509ex;\" alt=\"n\\log n\"></span></span>\n",
    "</td>\n",
    "<td style=\"background:#fdd\"><span data-sort-value=\"25\"><span class=\"mwe-math-element\"><span class=\"mwe-math-mathml-inline mwe-math-mathml-a11y\" style=\"display: none;\"><math xmlns=\"http://www.w3.org/1998/Math/MathML\" alttext=\"{\\displaystyle n^{2}}\">\n",
    "  <semantics>\n",
    "    <mrow class=\"MJX-TeXAtom-ORD\">\n",
    "      <mstyle scriptlevel=\"0\" displaystyle=\"true\">\n",
    "        <msup>\n",
    "          <mi>n</mi>\n",
    "          <mrow class=\"MJX-TeXAtom-ORD\">\n",
    "            <mn>2</mn>\n",
    "          </mrow>\n",
    "        </msup>\n",
    "      </mstyle>\n",
    "    </mrow>\n",
    "    <annotation encoding=\"application/x-tex\">{\\displaystyle n^{2}}</annotation>\n",
    "  </semantics>\n",
    "</math></span><img src=\"https://wikimedia.org/api/rest_v1/media/math/render/svg/ac9810bbdafe4a6a8061338db0f74e25b7952620\" class=\"mwe-math-fallback-image-inline\" aria-hidden=\"true\" style=\"vertical-align: -0.338ex; width:2.449ex; height:2.676ex;\" alt=\"n^{2}\"></span></span>\n",
    "</td>\n",
    "<td style=\"background:#dfd\"><span data-sort-value=\"00\"><span class=\"mwe-math-element\"><span class=\"mwe-math-mathml-inline mwe-math-mathml-a11y\" style=\"display: none;\"><math xmlns=\"http://www.w3.org/1998/Math/MathML\" alttext=\"{\\displaystyle 1}\">\n",
    "  <semantics>\n",
    "    <mrow class=\"MJX-TeXAtom-ORD\">\n",
    "      <mstyle scriptlevel=\"0\" displaystyle=\"true\">\n",
    "        <mn>1</mn>\n",
    "      </mstyle>\n",
    "    </mrow>\n",
    "    <annotation encoding=\"application/x-tex\">{\\displaystyle 1}</annotation>\n",
    "  </semantics>\n",
    "</math></span><img src=\"https://wikimedia.org/api/rest_v1/media/math/render/svg/92d98b82a3778f043108d4e20960a9193df57cbf\" class=\"mwe-math-fallback-image-inline\" aria-hidden=\"true\" style=\"vertical-align: -0.338ex; width:1.162ex; height:2.176ex;\" alt=\"1\"></span></span>\n",
    "</td>\n",
    "<td style=\"background:#fdd\"><span data-sort-value=\"1\">Non</span>\n",
    "</td></tr>\n",
    "<tr align=\"center\">\n",
    "<td><a href=\"/wiki/Tri_pair-impair\" title=\"Tri pair-impair\">Tri pair-impair</a>\n",
    "</td>\n",
    "<td style=\"background:#dfd\"><span data-sort-value=\"15\"><span class=\"mwe-math-element\"><span class=\"mwe-math-mathml-inline mwe-math-mathml-a11y\" style=\"display: none;\"><math xmlns=\"http://www.w3.org/1998/Math/MathML\" alttext=\"{\\displaystyle n}\">\n",
    "  <semantics>\n",
    "    <mrow class=\"MJX-TeXAtom-ORD\">\n",
    "      <mstyle scriptlevel=\"0\" displaystyle=\"true\">\n",
    "        <mi>n</mi>\n",
    "      </mstyle>\n",
    "    </mrow>\n",
    "    <annotation encoding=\"application/x-tex\">{\\displaystyle n}</annotation>\n",
    "  </semantics>\n",
    "</math></span><img src=\"https://wikimedia.org/api/rest_v1/media/math/render/svg/a601995d55609f2d9f5e233e36fbe9ea26011b3b\" class=\"mwe-math-fallback-image-inline\" aria-hidden=\"true\" style=\"vertical-align: -0.338ex; width:1.395ex; height:1.676ex;\" alt=\"n\"></span></span>\n",
    "</td>\n",
    "<td style=\"background:#fdd\"><span data-sort-value=\"25\"><span class=\"mwe-math-element\"><span class=\"mwe-math-mathml-inline mwe-math-mathml-a11y\" style=\"display: none;\"><math xmlns=\"http://www.w3.org/1998/Math/MathML\" alttext=\"{\\displaystyle n^{2}}\">\n",
    "  <semantics>\n",
    "    <mrow class=\"MJX-TeXAtom-ORD\">\n",
    "      <mstyle scriptlevel=\"0\" displaystyle=\"true\">\n",
    "        <msup>\n",
    "          <mi>n</mi>\n",
    "          <mrow class=\"MJX-TeXAtom-ORD\">\n",
    "            <mn>2</mn>\n",
    "          </mrow>\n",
    "        </msup>\n",
    "      </mstyle>\n",
    "    </mrow>\n",
    "    <annotation encoding=\"application/x-tex\">{\\displaystyle n^{2}}</annotation>\n",
    "  </semantics>\n",
    "</math></span><img src=\"https://wikimedia.org/api/rest_v1/media/math/render/svg/ac9810bbdafe4a6a8061338db0f74e25b7952620\" class=\"mwe-math-fallback-image-inline\" aria-hidden=\"true\" style=\"vertical-align: -0.338ex; width:2.449ex; height:2.676ex;\" alt=\"n^{2}\"></span></span>\n",
    "</td>\n",
    "<td style=\"background:#fdd\"><span data-sort-value=\"25\"><span class=\"mwe-math-element\"><span class=\"mwe-math-mathml-inline mwe-math-mathml-a11y\" style=\"display: none;\"><math xmlns=\"http://www.w3.org/1998/Math/MathML\" alttext=\"{\\displaystyle n^{2}}\">\n",
    "  <semantics>\n",
    "    <mrow class=\"MJX-TeXAtom-ORD\">\n",
    "      <mstyle scriptlevel=\"0\" displaystyle=\"true\">\n",
    "        <msup>\n",
    "          <mi>n</mi>\n",
    "          <mrow class=\"MJX-TeXAtom-ORD\">\n",
    "            <mn>2</mn>\n",
    "          </mrow>\n",
    "        </msup>\n",
    "      </mstyle>\n",
    "    </mrow>\n",
    "    <annotation encoding=\"application/x-tex\">{\\displaystyle n^{2}}</annotation>\n",
    "  </semantics>\n",
    "</math></span><img src=\"https://wikimedia.org/api/rest_v1/media/math/render/svg/ac9810bbdafe4a6a8061338db0f74e25b7952620\" class=\"mwe-math-fallback-image-inline\" aria-hidden=\"true\" style=\"vertical-align: -0.338ex; width:2.449ex; height:2.676ex;\" alt=\"n^{2}\"></span></span>\n",
    "</td>\n",
    "<td style=\"background:#dfd\"><span data-sort-value=\"00\"><span class=\"mwe-math-element\"><span class=\"mwe-math-mathml-inline mwe-math-mathml-a11y\" style=\"display: none;\"><math xmlns=\"http://www.w3.org/1998/Math/MathML\" alttext=\"{\\displaystyle 1}\">\n",
    "  <semantics>\n",
    "    <mrow class=\"MJX-TeXAtom-ORD\">\n",
    "      <mstyle scriptlevel=\"0\" displaystyle=\"true\">\n",
    "        <mn>1</mn>\n",
    "      </mstyle>\n",
    "    </mrow>\n",
    "    <annotation encoding=\"application/x-tex\">{\\displaystyle 1}</annotation>\n",
    "  </semantics>\n",
    "</math></span><img src=\"https://wikimedia.org/api/rest_v1/media/math/render/svg/92d98b82a3778f043108d4e20960a9193df57cbf\" class=\"mwe-math-fallback-image-inline\" aria-hidden=\"true\" style=\"vertical-align: -0.338ex; width:1.162ex; height:2.176ex;\" alt=\"1\"></span></span>\n",
    "</td>\n",
    "<td style=\"background:#dfd\"><span data-sort-value=\"0\">Oui</span>\n",
    "</td></tr></tbody><tfoot></tfoot>\n",
    "</table>\n",
    "\n",
    "Source : [*wikipedia*](https://fr.wikipedia.org/wiki/Algorithme_de_tri)"
   ]
  },
  {
   "cell_type": "markdown",
   "id": "803d4605",
   "metadata": {
    "slideshow": {
     "slide_type": "slide"
    }
   },
   "source": [
    "### Dépasser les limites de l'interpréteur"
   ]
  },
  {
   "cell_type": "markdown",
   "id": "eee2aa5b",
   "metadata": {
    "slideshow": {
     "slide_type": "slide"
    }
   },
   "source": [
    "#### User et abuser des bibliothèques reposant sur des implémentations compilées"
   ]
  },
  {
   "cell_type": "code",
   "execution_count": 28,
   "id": "50db6cb8",
   "metadata": {
    "slideshow": {
     "slide_type": "fragment"
    }
   },
   "outputs": [],
   "source": [
    "def update_np(grid):\n",
    "    next_grid = np.zeros_like(grid, dtype=np.int8)\n",
    "    # on crée un tableau numpy avec la somme des voisins pour chaque case\n",
    "    N = (grid[0:-2, 0:-2] + grid[0:-2, 1:-1] + grid[0:-2, 2:] +\n",
    "         grid[1:-1, 0:-2]                    +grid[1:-1, 2:] +\n",
    "         grid[2:  , 0:-2] + grid[2:  , 1:-1] + grid[2:  , 2:])\n",
    "    # des masques pour les naissances et survies\n",
    "    birth = (N == 3) & (grid[1:-1, 1:-1] == 0)\n",
    "    survive = ((N == 2) | (N == 3)) & (grid[1:-1, 1:-1] == 1)\n",
    "    next_grid[1:-1, 1:-1][birth | survive] = 1\n",
    "    return next_grid"
   ]
  },
  {
   "cell_type": "code",
   "execution_count": 29,
   "id": "fb97e766",
   "metadata": {
    "scrolled": true,
    "slideshow": {
     "slide_type": "fragment"
    }
   },
   "outputs": [
    {
     "name": "stdout",
     "output_type": "stream",
     "text": [
      "49.4 μs ± 12.1 μs per loop (mean ± std. dev. of 7 runs, 10,000 loops each)\n"
     ]
    }
   ],
   "source": [
    "%timeit update_np(grid)"
   ]
  },
  {
   "cell_type": "code",
   "execution_count": 30,
   "id": "f4ffa132",
   "metadata": {
    "slideshow": {
     "slide_type": "fragment"
    }
   },
   "outputs": [
    {
     "name": "stdout",
     "output_type": "stream",
     "text": [
      "réduction du temps de calcul d'un facteur: 166 entre la version naive et la version pythonique\n"
     ]
    }
   ],
   "source": [
    "print(f\"réduction du temps de calcul d'un facteur: {3.58/0.0216:0.0f} entre la version naive et la version pythonique\")"
   ]
  },
  {
   "cell_type": "markdown",
   "id": "2c5130a9",
   "metadata": {
    "slideshow": {
     "slide_type": "subslide"
    }
   },
   "source": [
    "### Just In Time (JIT) avec numba"
   ]
  },
  {
   "cell_type": "code",
   "execution_count": 31,
   "id": "a7767cb5",
   "metadata": {
    "slideshow": {
     "slide_type": "fragment"
    }
   },
   "outputs": [
    {
     "ename": "ModuleNotFoundError",
     "evalue": "No module named 'numba'",
     "output_type": "error",
     "traceback": [
      "\u001b[0;31m---------------------------------------------------------------------------\u001b[0m",
      "\u001b[0;31mModuleNotFoundError\u001b[0m                       Traceback (most recent call last)",
      "Cell \u001b[0;32mIn[31], line 1\u001b[0m\n\u001b[0;32m----> 1\u001b[0m \u001b[38;5;28;01mimport\u001b[39;00m \u001b[38;5;21;01mnumba\u001b[39;00m\n\u001b[1;32m      4\u001b[0m \u001b[38;5;129m@numba\u001b[39m\u001b[38;5;241m.\u001b[39mjit(nopython\u001b[38;5;241m=\u001b[39m\u001b[38;5;28;01mTrue\u001b[39;00m)\n\u001b[1;32m      5\u001b[0m \u001b[38;5;28;01mdef\u001b[39;00m \u001b[38;5;21mupdate_numba\u001b[39m(grid: np\u001b[38;5;241m.\u001b[39mndarray) \u001b[38;5;241m-\u001b[39m\u001b[38;5;241m>\u001b[39m np\u001b[38;5;241m.\u001b[39mndarray:\n\u001b[1;32m      6\u001b[0m     n, m \u001b[38;5;241m=\u001b[39m grid\u001b[38;5;241m.\u001b[39mshape\n",
      "\u001b[0;31mModuleNotFoundError\u001b[0m: No module named 'numba'"
     ]
    }
   ],
   "source": [
    "import numba\n",
    "\n",
    "\n",
    "@numba.jit(nopython=True)\n",
    "def update_numba(grid: np.ndarray) -> np.ndarray:\n",
    "    n, m = grid.shape\n",
    "    next_grid = np.zeros((n, m), dtype=np.int8)\n",
    "\n",
    "    for row in range(n):\n",
    "        for col in range(m):\n",
    "            live_neighbors = (\n",
    "                np.sum(grid[row - 1 : row + 2, col - 1 : col + 2]) - grid[row, col]\n",
    "            )\n",
    "            if live_neighbors < 2 or live_neighbors > 3:\n",
    "                next_grid[row][col] = 0\n",
    "            elif live_neighbors == 3 and grid[row][col] == 0:\n",
    "                next_grid[row][col] = 1\n",
    "            else:\n",
    "                next_grid[row][col] = grid[row][col]\n",
    "\n",
    "    return next_grid"
   ]
  },
  {
   "cell_type": "code",
   "execution_count": 11,
   "id": "dfca4666",
   "metadata": {
    "slideshow": {
     "slide_type": "fragment"
    }
   },
   "outputs": [
    {
     "data": {
      "text/plain": [
       "<matplotlib.image.AxesImage at 0x7fb1f680d6a0>"
      ]
     },
     "execution_count": 11,
     "metadata": {},
     "output_type": "execute_result"
    },
    {
     "data": {
      "image/png": "[encoded data removed]",
      "text/plain": [
       "<Figure size 432x288 with 1 Axes>"
      ]
     },
     "metadata": {
      "needs_background": "light"
     },
     "output_type": "display_data"
    }
   ],
   "source": [
    "plt.imshow(update_numba(grid), cmap=\"gray_r\")"
   ]
  },
  {
   "cell_type": "code",
   "execution_count": 12,
   "id": "b8c2882a",
   "metadata": {
    "slideshow": {
     "slide_type": "fragment"
    }
   },
   "outputs": [
    {
     "name": "stdout",
     "output_type": "stream",
     "text": [
      "17 µs ± 105 ns per loop (mean ± std. dev. of 7 runs, 100000 loops each)\n"
     ]
    }
   ],
   "source": [
    "%timeit update_numba(grid)"
   ]
  },
  {
   "cell_type": "markdown",
   "id": "18c9c472",
   "metadata": {
    "slideshow": {
     "slide_type": "subslide"
    }
   },
   "source": [
    " - `numba` est très efficace pour accélérer le temps d'exécution des fonctions python. Il se limité néanmoins aux fonctions et il est assez difficile à optimiser.\n",
    "\n",
    " - Plus difficile à prendre en main, `cython` offre plus de contrôle grâce à une surcouche du langage python"
   ]
  },
  {
   "cell_type": "code",
   "execution_count": 13,
   "id": "31ed0d63",
   "metadata": {},
   "outputs": [],
   "source": [
    "%load_ext Cython"
   ]
  },
  {
   "cell_type": "code",
   "execution_count": 14,
   "id": "bc53fcdb",
   "metadata": {},
   "outputs": [
    {
     "data": {
      "text/html": [
       "<!DOCTYPE html>\n",
       "<!-- Generated by Cython 0.29.32 -->\n",
       "<html>\n",
       "<head>\n",
       "    <meta http-equiv=\"Content-Type\" content=\"text/html; charset=utf-8\" />\n",
       "    <title>Cython: _cython_magic_0ac7f5e3e1571b1a2d95a659f682ce03.pyx</title>\n",
       "    <style type=\"text/css\">\n",
       "    \n",
       "body.cython { font-family: courier; font-size: 12; }\n",
       "\n",
       ".cython.tag  {  }\n",
       ".cython.line { margin: 0em }\n",
       ".cython.code { font-size: 9; color: #444444; display: none; margin: 0px 0px 0px 8px; border-left: 8px none; }\n",
       "\n",
       ".cython.line .run { background-color: #B0FFB0; }\n",
       ".cython.line .mis { background-color: #FFB0B0; }\n",
       ".cython.code.run  { border-left: 8px solid #B0FFB0; }\n",
       ".cython.code.mis  { border-left: 8px solid #FFB0B0; }\n",
       "\n",
       ".cython.code .py_c_api  { color: red; }\n",
       ".cython.code .py_macro_api  { color: #FF7000; }\n",
       ".cython.code .pyx_c_api  { color: #FF3000; }\n",
       ".cython.code .pyx_macro_api  { color: #FF7000; }\n",
       ".cython.code .refnanny  { color: #FFA000; }\n",
       ".cython.code .trace  { color: #FFA000; }\n",
       ".cython.code .error_goto  { color: #FFA000; }\n",
       "\n",
       ".cython.code .coerce  { color: #008000; border: 1px dotted #008000 }\n",
       ".cython.code .py_attr { color: #FF0000; font-weight: bold; }\n",
       ".cython.code .c_attr  { color: #0000FF; }\n",
       ".cython.code .py_call { color: #FF0000; font-weight: bold; }\n",
       ".cython.code .c_call  { color: #0000FF; }\n",
       "\n",
       ".cython.score-0 {background-color: #FFFFff;}\n",
       ".cython.score-1 {background-color: #FFFFe7;}\n",
       ".cython.score-2 {background-color: #FFFFd4;}\n",
       ".cython.score-3 {background-color: #FFFFc4;}\n",
       ".cython.score-4 {background-color: #FFFFb6;}\n",
       ".cython.score-5 {background-color: #FFFFaa;}\n",
       ".cython.score-6 {background-color: #FFFF9f;}\n",
       ".cython.score-7 {background-color: #FFFF96;}\n",
       ".cython.score-8 {background-color: #FFFF8d;}\n",
       ".cython.score-9 {background-color: #FFFF86;}\n",
       ".cython.score-10 {background-color: #FFFF7f;}\n",
       ".cython.score-11 {background-color: #FFFF79;}\n",
       ".cython.score-12 {background-color: #FFFF73;}\n",
       ".cython.score-13 {background-color: #FFFF6e;}\n",
       ".cython.score-14 {background-color: #FFFF6a;}\n",
       ".cython.score-15 {background-color: #FFFF66;}\n",
       ".cython.score-16 {background-color: #FFFF62;}\n",
       ".cython.score-17 {background-color: #FFFF5e;}\n",
       ".cython.score-18 {background-color: #FFFF5b;}\n",
       ".cython.score-19 {background-color: #FFFF57;}\n",
       ".cython.score-20 {background-color: #FFFF55;}\n",
       ".cython.score-21 {background-color: #FFFF52;}\n",
       ".cython.score-22 {background-color: #FFFF4f;}\n",
       ".cython.score-23 {background-color: #FFFF4d;}\n",
       ".cython.score-24 {background-color: #FFFF4b;}\n",
       ".cython.score-25 {background-color: #FFFF48;}\n",
       ".cython.score-26 {background-color: #FFFF46;}\n",
       ".cython.score-27 {background-color: #FFFF44;}\n",
       ".cython.score-28 {background-color: #FFFF43;}\n",
       ".cython.score-29 {background-color: #FFFF41;}\n",
       ".cython.score-30 {background-color: #FFFF3f;}\n",
       ".cython.score-31 {background-color: #FFFF3e;}\n",
       ".cython.score-32 {background-color: #FFFF3c;}\n",
       ".cython.score-33 {background-color: #FFFF3b;}\n",
       ".cython.score-34 {background-color: #FFFF39;}\n",
       ".cython.score-35 {background-color: #FFFF38;}\n",
       ".cython.score-36 {background-color: #FFFF37;}\n",
       ".cython.score-37 {background-color: #FFFF36;}\n",
       ".cython.score-38 {background-color: #FFFF35;}\n",
       ".cython.score-39 {background-color: #FFFF34;}\n",
       ".cython.score-40 {background-color: #FFFF33;}\n",
       ".cython.score-41 {background-color: #FFFF32;}\n",
       ".cython.score-42 {background-color: #FFFF31;}\n",
       ".cython.score-43 {background-color: #FFFF30;}\n",
       ".cython.score-44 {background-color: #FFFF2f;}\n",
       ".cython.score-45 {background-color: #FFFF2e;}\n",
       ".cython.score-46 {background-color: #FFFF2d;}\n",
       ".cython.score-47 {background-color: #FFFF2c;}\n",
       ".cython.score-48 {background-color: #FFFF2b;}\n",
       ".cython.score-49 {background-color: #FFFF2b;}\n",
       ".cython.score-50 {background-color: #FFFF2a;}\n",
       ".cython.score-51 {background-color: #FFFF29;}\n",
       ".cython.score-52 {background-color: #FFFF29;}\n",
       ".cython.score-53 {background-color: #FFFF28;}\n",
       ".cython.score-54 {background-color: #FFFF27;}\n",
       ".cython.score-55 {background-color: #FFFF27;}\n",
       ".cython.score-56 {background-color: #FFFF26;}\n",
       ".cython.score-57 {background-color: #FFFF26;}\n",
       ".cython.score-58 {background-color: #FFFF25;}\n",
       ".cython.score-59 {background-color: #FFFF24;}\n",
       ".cython.score-60 {background-color: #FFFF24;}\n",
       ".cython.score-61 {background-color: #FFFF23;}\n",
       ".cython.score-62 {background-color: #FFFF23;}\n",
       ".cython.score-63 {background-color: #FFFF22;}\n",
       ".cython.score-64 {background-color: #FFFF22;}\n",
       ".cython.score-65 {background-color: #FFFF22;}\n",
       ".cython.score-66 {background-color: #FFFF21;}\n",
       ".cython.score-67 {background-color: #FFFF21;}\n",
       ".cython.score-68 {background-color: #FFFF20;}\n",
       ".cython.score-69 {background-color: #FFFF20;}\n",
       ".cython.score-70 {background-color: #FFFF1f;}\n",
       ".cython.score-71 {background-color: #FFFF1f;}\n",
       ".cython.score-72 {background-color: #FFFF1f;}\n",
       ".cython.score-73 {background-color: #FFFF1e;}\n",
       ".cython.score-74 {background-color: #FFFF1e;}\n",
       ".cython.score-75 {background-color: #FFFF1e;}\n",
       ".cython.score-76 {background-color: #FFFF1d;}\n",
       ".cython.score-77 {background-color: #FFFF1d;}\n",
       ".cython.score-78 {background-color: #FFFF1c;}\n",
       ".cython.score-79 {background-color: #FFFF1c;}\n",
       ".cython.score-80 {background-color: #FFFF1c;}\n",
       ".cython.score-81 {background-color: #FFFF1c;}\n",
       ".cython.score-82 {background-color: #FFFF1b;}\n",
       ".cython.score-83 {background-color: #FFFF1b;}\n",
       ".cython.score-84 {background-color: #FFFF1b;}\n",
       ".cython.score-85 {background-color: #FFFF1a;}\n",
       ".cython.score-86 {background-color: #FFFF1a;}\n",
       ".cython.score-87 {background-color: #FFFF1a;}\n",
       ".cython.score-88 {background-color: #FFFF1a;}\n",
       ".cython.score-89 {background-color: #FFFF19;}\n",
       ".cython.score-90 {background-color: #FFFF19;}\n",
       ".cython.score-91 {background-color: #FFFF19;}\n",
       ".cython.score-92 {background-color: #FFFF19;}\n",
       ".cython.score-93 {background-color: #FFFF18;}\n",
       ".cython.score-94 {background-color: #FFFF18;}\n",
       ".cython.score-95 {background-color: #FFFF18;}\n",
       ".cython.score-96 {background-color: #FFFF18;}\n",
       ".cython.score-97 {background-color: #FFFF17;}\n",
       ".cython.score-98 {background-color: #FFFF17;}\n",
       ".cython.score-99 {background-color: #FFFF17;}\n",
       ".cython.score-100 {background-color: #FFFF17;}\n",
       ".cython.score-101 {background-color: #FFFF16;}\n",
       ".cython.score-102 {background-color: #FFFF16;}\n",
       ".cython.score-103 {background-color: #FFFF16;}\n",
       ".cython.score-104 {background-color: #FFFF16;}\n",
       ".cython.score-105 {background-color: #FFFF16;}\n",
       ".cython.score-106 {background-color: #FFFF15;}\n",
       ".cython.score-107 {background-color: #FFFF15;}\n",
       ".cython.score-108 {background-color: #FFFF15;}\n",
       ".cython.score-109 {background-color: #FFFF15;}\n",
       ".cython.score-110 {background-color: #FFFF15;}\n",
       ".cython.score-111 {background-color: #FFFF15;}\n",
       ".cython.score-112 {background-color: #FFFF14;}\n",
       ".cython.score-113 {background-color: #FFFF14;}\n",
       ".cython.score-114 {background-color: #FFFF14;}\n",
       ".cython.score-115 {background-color: #FFFF14;}\n",
       ".cython.score-116 {background-color: #FFFF14;}\n",
       ".cython.score-117 {background-color: #FFFF14;}\n",
       ".cython.score-118 {background-color: #FFFF13;}\n",
       ".cython.score-119 {background-color: #FFFF13;}\n",
       ".cython.score-120 {background-color: #FFFF13;}\n",
       ".cython.score-121 {background-color: #FFFF13;}\n",
       ".cython.score-122 {background-color: #FFFF13;}\n",
       ".cython.score-123 {background-color: #FFFF13;}\n",
       ".cython.score-124 {background-color: #FFFF13;}\n",
       ".cython.score-125 {background-color: #FFFF12;}\n",
       ".cython.score-126 {background-color: #FFFF12;}\n",
       ".cython.score-127 {background-color: #FFFF12;}\n",
       ".cython.score-128 {background-color: #FFFF12;}\n",
       ".cython.score-129 {background-color: #FFFF12;}\n",
       ".cython.score-130 {background-color: #FFFF12;}\n",
       ".cython.score-131 {background-color: #FFFF12;}\n",
       ".cython.score-132 {background-color: #FFFF11;}\n",
       ".cython.score-133 {background-color: #FFFF11;}\n",
       ".cython.score-134 {background-color: #FFFF11;}\n",
       ".cython.score-135 {background-color: #FFFF11;}\n",
       ".cython.score-136 {background-color: #FFFF11;}\n",
       ".cython.score-137 {background-color: #FFFF11;}\n",
       ".cython.score-138 {background-color: #FFFF11;}\n",
       ".cython.score-139 {background-color: #FFFF11;}\n",
       ".cython.score-140 {background-color: #FFFF11;}\n",
       ".cython.score-141 {background-color: #FFFF10;}\n",
       ".cython.score-142 {background-color: #FFFF10;}\n",
       ".cython.score-143 {background-color: #FFFF10;}\n",
       ".cython.score-144 {background-color: #FFFF10;}\n",
       ".cython.score-145 {background-color: #FFFF10;}\n",
       ".cython.score-146 {background-color: #FFFF10;}\n",
       ".cython.score-147 {background-color: #FFFF10;}\n",
       ".cython.score-148 {background-color: #FFFF10;}\n",
       ".cython.score-149 {background-color: #FFFF10;}\n",
       ".cython.score-150 {background-color: #FFFF0f;}\n",
       ".cython.score-151 {background-color: #FFFF0f;}\n",
       ".cython.score-152 {background-color: #FFFF0f;}\n",
       ".cython.score-153 {background-color: #FFFF0f;}\n",
       ".cython.score-154 {background-color: #FFFF0f;}\n",
       ".cython.score-155 {background-color: #FFFF0f;}\n",
       ".cython.score-156 {background-color: #FFFF0f;}\n",
       ".cython.score-157 {background-color: #FFFF0f;}\n",
       ".cython.score-158 {background-color: #FFFF0f;}\n",
       ".cython.score-159 {background-color: #FFFF0f;}\n",
       ".cython.score-160 {background-color: #FFFF0f;}\n",
       ".cython.score-161 {background-color: #FFFF0e;}\n",
       ".cython.score-162 {background-color: #FFFF0e;}\n",
       ".cython.score-163 {background-color: #FFFF0e;}\n",
       ".cython.score-164 {background-color: #FFFF0e;}\n",
       ".cython.score-165 {background-color: #FFFF0e;}\n",
       ".cython.score-166 {background-color: #FFFF0e;}\n",
       ".cython.score-167 {background-color: #FFFF0e;}\n",
       ".cython.score-168 {background-color: #FFFF0e;}\n",
       ".cython.score-169 {background-color: #FFFF0e;}\n",
       ".cython.score-170 {background-color: #FFFF0e;}\n",
       ".cython.score-171 {background-color: #FFFF0e;}\n",
       ".cython.score-172 {background-color: #FFFF0e;}\n",
       ".cython.score-173 {background-color: #FFFF0d;}\n",
       ".cython.score-174 {background-color: #FFFF0d;}\n",
       ".cython.score-175 {background-color: #FFFF0d;}\n",
       ".cython.score-176 {background-color: #FFFF0d;}\n",
       ".cython.score-177 {background-color: #FFFF0d;}\n",
       ".cython.score-178 {background-color: #FFFF0d;}\n",
       ".cython.score-179 {background-color: #FFFF0d;}\n",
       ".cython.score-180 {background-color: #FFFF0d;}\n",
       ".cython.score-181 {background-color: #FFFF0d;}\n",
       ".cython.score-182 {background-color: #FFFF0d;}\n",
       ".cython.score-183 {background-color: #FFFF0d;}\n",
       ".cython.score-184 {background-color: #FFFF0d;}\n",
       ".cython.score-185 {background-color: #FFFF0d;}\n",
       ".cython.score-186 {background-color: #FFFF0d;}\n",
       ".cython.score-187 {background-color: #FFFF0c;}\n",
       ".cython.score-188 {background-color: #FFFF0c;}\n",
       ".cython.score-189 {background-color: #FFFF0c;}\n",
       ".cython.score-190 {background-color: #FFFF0c;}\n",
       ".cython.score-191 {background-color: #FFFF0c;}\n",
       ".cython.score-192 {background-color: #FFFF0c;}\n",
       ".cython.score-193 {background-color: #FFFF0c;}\n",
       ".cython.score-194 {background-color: #FFFF0c;}\n",
       ".cython.score-195 {background-color: #FFFF0c;}\n",
       ".cython.score-196 {background-color: #FFFF0c;}\n",
       ".cython.score-197 {background-color: #FFFF0c;}\n",
       ".cython.score-198 {background-color: #FFFF0c;}\n",
       ".cython.score-199 {background-color: #FFFF0c;}\n",
       ".cython.score-200 {background-color: #FFFF0c;}\n",
       ".cython.score-201 {background-color: #FFFF0c;}\n",
       ".cython.score-202 {background-color: #FFFF0c;}\n",
       ".cython.score-203 {background-color: #FFFF0b;}\n",
       ".cython.score-204 {background-color: #FFFF0b;}\n",
       ".cython.score-205 {background-color: #FFFF0b;}\n",
       ".cython.score-206 {background-color: #FFFF0b;}\n",
       ".cython.score-207 {background-color: #FFFF0b;}\n",
       ".cython.score-208 {background-color: #FFFF0b;}\n",
       ".cython.score-209 {background-color: #FFFF0b;}\n",
       ".cython.score-210 {background-color: #FFFF0b;}\n",
       ".cython.score-211 {background-color: #FFFF0b;}\n",
       ".cython.score-212 {background-color: #FFFF0b;}\n",
       ".cython.score-213 {background-color: #FFFF0b;}\n",
       ".cython.score-214 {background-color: #FFFF0b;}\n",
       ".cython.score-215 {background-color: #FFFF0b;}\n",
       ".cython.score-216 {background-color: #FFFF0b;}\n",
       ".cython.score-217 {background-color: #FFFF0b;}\n",
       ".cython.score-218 {background-color: #FFFF0b;}\n",
       ".cython.score-219 {background-color: #FFFF0b;}\n",
       ".cython.score-220 {background-color: #FFFF0b;}\n",
       ".cython.score-221 {background-color: #FFFF0b;}\n",
       ".cython.score-222 {background-color: #FFFF0a;}\n",
       ".cython.score-223 {background-color: #FFFF0a;}\n",
       ".cython.score-224 {background-color: #FFFF0a;}\n",
       ".cython.score-225 {background-color: #FFFF0a;}\n",
       ".cython.score-226 {background-color: #FFFF0a;}\n",
       ".cython.score-227 {background-color: #FFFF0a;}\n",
       ".cython.score-228 {background-color: #FFFF0a;}\n",
       ".cython.score-229 {background-color: #FFFF0a;}\n",
       ".cython.score-230 {background-color: #FFFF0a;}\n",
       ".cython.score-231 {background-color: #FFFF0a;}\n",
       ".cython.score-232 {background-color: #FFFF0a;}\n",
       ".cython.score-233 {background-color: #FFFF0a;}\n",
       ".cython.score-234 {background-color: #FFFF0a;}\n",
       ".cython.score-235 {background-color: #FFFF0a;}\n",
       ".cython.score-236 {background-color: #FFFF0a;}\n",
       ".cython.score-237 {background-color: #FFFF0a;}\n",
       ".cython.score-238 {background-color: #FFFF0a;}\n",
       ".cython.score-239 {background-color: #FFFF0a;}\n",
       ".cython.score-240 {background-color: #FFFF0a;}\n",
       ".cython.score-241 {background-color: #FFFF0a;}\n",
       ".cython.score-242 {background-color: #FFFF0a;}\n",
       ".cython.score-243 {background-color: #FFFF0a;}\n",
       ".cython.score-244 {background-color: #FFFF0a;}\n",
       ".cython.score-245 {background-color: #FFFF0a;}\n",
       ".cython.score-246 {background-color: #FFFF09;}\n",
       ".cython.score-247 {background-color: #FFFF09;}\n",
       ".cython.score-248 {background-color: #FFFF09;}\n",
       ".cython.score-249 {background-color: #FFFF09;}\n",
       ".cython.score-250 {background-color: #FFFF09;}\n",
       ".cython.score-251 {background-color: #FFFF09;}\n",
       ".cython.score-252 {background-color: #FFFF09;}\n",
       ".cython.score-253 {background-color: #FFFF09;}\n",
       ".cython.score-254 {background-color: #FFFF09;}\n",
       "pre { line-height: 125%; }\n",
       "td.linenos .normal { color: inherit; background-color: transparent; padding-left: 5px; padding-right: 5px; }\n",
       "span.linenos { color: inherit; background-color: transparent; padding-left: 5px; padding-right: 5px; }\n",
       "td.linenos .special { color: #000000; background-color: #ffffc0; padding-left: 5px; padding-right: 5px; }\n",
       "span.linenos.special { color: #000000; background-color: #ffffc0; padding-left: 5px; padding-right: 5px; }\n",
       ".cython .hll { background-color: #ffffcc }\n",
       ".cython { background: #f8f8f8; }\n",
       ".cython .c { color: #3D7B7B; font-style: italic } /* Comment */\n",
       ".cython .err { border: 1px solid #FF0000 } /* Error */\n",
       ".cython .k { color: #008000; font-weight: bold } /* Keyword */\n",
       ".cython .o { color: #666666 } /* Operator */\n",
       ".cython .ch { color: #3D7B7B; font-style: italic } /* Comment.Hashbang */\n",
       ".cython .cm { color: #3D7B7B; font-style: italic } /* Comment.Multiline */\n",
       ".cython .cp { color: #9C6500 } /* Comment.Preproc */\n",
       ".cython .cpf { color: #3D7B7B; font-style: italic } /* Comment.PreprocFile */\n",
       ".cython .c1 { color: #3D7B7B; font-style: italic } /* Comment.Single */\n",
       ".cython .cs { color: #3D7B7B; font-style: italic } /* Comment.Special */\n",
       ".cython .gd { color: #A00000 } /* Generic.Deleted */\n",
       ".cython .ge { font-style: italic } /* Generic.Emph */\n",
       ".cython .gr { color: #E40000 } /* Generic.Error */\n",
       ".cython .gh { color: #000080; font-weight: bold } /* Generic.Heading */\n",
       ".cython .gi { color: #008400 } /* Generic.Inserted */\n",
       ".cython .go { color: #717171 } /* Generic.Output */\n",
       ".cython .gp { color: #000080; font-weight: bold } /* Generic.Prompt */\n",
       ".cython .gs { font-weight: bold } /* Generic.Strong */\n",
       ".cython .gu { color: #800080; font-weight: bold } /* Generic.Subheading */\n",
       ".cython .gt { color: #0044DD } /* Generic.Traceback */\n",
       ".cython .kc { color: #008000; font-weight: bold } /* Keyword.Constant */\n",
       ".cython .kd { color: #008000; font-weight: bold } /* Keyword.Declaration */\n",
       ".cython .kn { color: #008000; font-weight: bold } /* Keyword.Namespace */\n",
       ".cython .kp { color: #008000 } /* Keyword.Pseudo */\n",
       ".cython .kr { color: #008000; font-weight: bold } /* Keyword.Reserved */\n",
       ".cython .kt { color: #B00040 } /* Keyword.Type */\n",
       ".cython .m { color: #666666 } /* Literal.Number */\n",
       ".cython .s { color: #BA2121 } /* Literal.String */\n",
       ".cython .na { color: #687822 } /* Name.Attribute */\n",
       ".cython .nb { color: #008000 } /* Name.Builtin */\n",
       ".cython .nc { color: #0000FF; font-weight: bold } /* Name.Class */\n",
       ".cython .no { color: #880000 } /* Name.Constant */\n",
       ".cython .nd { color: #AA22FF } /* Name.Decorator */\n",
       ".cython .ni { color: #717171; font-weight: bold } /* Name.Entity */\n",
       ".cython .ne { color: #CB3F38; font-weight: bold } /* Name.Exception */\n",
       ".cython .nf { color: #0000FF } /* Name.Function */\n",
       ".cython .nl { color: #767600 } /* Name.Label */\n",
       ".cython .nn { color: #0000FF; font-weight: bold } /* Name.Namespace */\n",
       ".cython .nt { color: #008000; font-weight: bold } /* Name.Tag */\n",
       ".cython .nv { color: #19177C } /* Name.Variable */\n",
       ".cython .ow { color: #AA22FF; font-weight: bold } /* Operator.Word */\n",
       ".cython .w { color: #bbbbbb } /* Text.Whitespace */\n",
       ".cython .mb { color: #666666 } /* Literal.Number.Bin */\n",
       ".cython .mf { color: #666666 } /* Literal.Number.Float */\n",
       ".cython .mh { color: #666666 } /* Literal.Number.Hex */\n",
       ".cython .mi { color: #666666 } /* Literal.Number.Integer */\n",
       ".cython .mo { color: #666666 } /* Literal.Number.Oct */\n",
       ".cython .sa { color: #BA2121 } /* Literal.String.Affix */\n",
       ".cython .sb { color: #BA2121 } /* Literal.String.Backtick */\n",
       ".cython .sc { color: #BA2121 } /* Literal.String.Char */\n",
       ".cython .dl { color: #BA2121 } /* Literal.String.Delimiter */\n",
       ".cython .sd { color: #BA2121; font-style: italic } /* Literal.String.Doc */\n",
       ".cython .s2 { color: #BA2121 } /* Literal.String.Double */\n",
       ".cython .se { color: #AA5D1F; font-weight: bold } /* Literal.String.Escape */\n",
       ".cython .sh { color: #BA2121 } /* Literal.String.Heredoc */\n",
       ".cython .si { color: #A45A77; font-weight: bold } /* Literal.String.Interpol */\n",
       ".cython .sx { color: #008000 } /* Literal.String.Other */\n",
       ".cython .sr { color: #A45A77 } /* Literal.String.Regex */\n",
       ".cython .s1 { color: #BA2121 } /* Literal.String.Single */\n",
       ".cython .ss { color: #19177C } /* Literal.String.Symbol */\n",
       ".cython .bp { color: #008000 } /* Name.Builtin.Pseudo */\n",
       ".cython .fm { color: #0000FF } /* Name.Function.Magic */\n",
       ".cython .vc { color: #19177C } /* Name.Variable.Class */\n",
       ".cython .vg { color: #19177C } /* Name.Variable.Global */\n",
       ".cython .vi { color: #19177C } /* Name.Variable.Instance */\n",
       ".cython .vm { color: #19177C } /* Name.Variable.Magic */\n",
       ".cython .il { color: #666666 } /* Literal.Number.Integer.Long */\n",
       "    </style>\n",
       "</head>\n",
       "<body class=\"cython\">\n",
       "<p><span style=\"border-bottom: solid 1px grey;\">Generated by Cython 0.29.32</span></p>\n",
       "<p>\n",
       "    <span style=\"background-color: #FFFF00\">Yellow lines</span> hint at Python interaction.<br />\n",
       "    Click on a line that starts with a \"<code>+</code>\" to see the C code that Cython generated for it.\n",
       "</p>\n",
       "<div class=\"cython\"><pre class=\"cython line score-16\" onclick=\"(function(s){s.display=s.display==='block'?'none':'block'})(this.nextElementSibling.style)\">+<span class=\"\">01</span>: <span class=\"k\">import</span> <span class=\"nn\">numpy</span> <span class=\"k\">as</span> <span class=\"nn\">np</span></pre>\n",
       "<pre class='cython code score-16 '>  __pyx_t_1 = <span class='pyx_c_api'>__Pyx_Import</span>(__pyx_n_s_numpy, 0, 0);<span class='error_goto'> if (unlikely(!__pyx_t_1)) __PYX_ERR(0, 1, __pyx_L1_error)</span>\n",
       "  <span class='refnanny'>__Pyx_GOTREF</span>(__pyx_t_1);\n",
       "  if (<span class='py_c_api'>PyDict_SetItem</span>(__pyx_d, __pyx_n_s_np, __pyx_t_1) &lt; 0) <span class='error_goto'>__PYX_ERR(0, 1, __pyx_L1_error)</span>\n",
       "  <span class='pyx_macro_api'>__Pyx_DECREF</span>(__pyx_t_1); __pyx_t_1 = 0;\n",
       "/* … */\n",
       "  __pyx_t_1 = <span class='pyx_c_api'>__Pyx_PyDict_NewPresized</span>(0);<span class='error_goto'> if (unlikely(!__pyx_t_1)) __PYX_ERR(0, 1, __pyx_L1_error)</span>\n",
       "  <span class='refnanny'>__Pyx_GOTREF</span>(__pyx_t_1);\n",
       "  if (<span class='py_c_api'>PyDict_SetItem</span>(__pyx_d, __pyx_n_s_test, __pyx_t_1) &lt; 0) <span class='error_goto'>__PYX_ERR(0, 1, __pyx_L1_error)</span>\n",
       "  <span class='pyx_macro_api'>__Pyx_DECREF</span>(__pyx_t_1); __pyx_t_1 = 0;\n",
       "</pre><pre class=\"cython line score-0\">&#xA0;<span class=\"\">02</span>: <span class=\"k\">from</span> <span class=\"nn\">cython</span> <span class=\"k\">import</span> <span class=\"n\">boundscheck</span><span class=\"p\">,</span> <span class=\"n\">wraparound</span></pre>\n",
       "<pre class=\"cython line score-0\">&#xA0;<span class=\"\">03</span>: </pre>\n",
       "<pre class=\"cython line score-0\">&#xA0;<span class=\"\">04</span>: <span class=\"nd\">@boundscheck</span><span class=\"p\">(</span><span class=\"bp\">False</span><span class=\"p\">)</span></pre>\n",
       "<pre class=\"cython line score-0\">&#xA0;<span class=\"\">05</span>: <span class=\"nd\">@wraparound</span><span class=\"p\">(</span><span class=\"bp\">False</span><span class=\"p\">)</span></pre>\n",
       "<pre class=\"cython line score-24\" onclick=\"(function(s){s.display=s.display==='block'?'none':'block'})(this.nextElementSibling.style)\">+<span class=\"\">06</span>: <span class=\"k\">def</span> <span class=\"nf\">update_cython3</span><span class=\"p\">(</span><span class=\"n\">signed</span> <span class=\"n\">char</span><span class=\"p\">[:,</span> <span class=\"p\">:]</span> <span class=\"n\">grid</span><span class=\"p\">):</span></pre>\n",
       "<pre class='cython code score-24 '>/* Python wrapper */\n",
       "static PyObject *__pyx_pw_46_cython_magic_0ac7f5e3e1571b1a2d95a659f682ce03_1update_cython3(PyObject *__pyx_self, PyObject *__pyx_arg_grid); /*proto*/\n",
       "static PyMethodDef __pyx_mdef_46_cython_magic_0ac7f5e3e1571b1a2d95a659f682ce03_1update_cython3 = {\"update_cython3\", (PyCFunction)__pyx_pw_46_cython_magic_0ac7f5e3e1571b1a2d95a659f682ce03_1update_cython3, METH_O, 0};\n",
       "static PyObject *__pyx_pw_46_cython_magic_0ac7f5e3e1571b1a2d95a659f682ce03_1update_cython3(PyObject *__pyx_self, PyObject *__pyx_arg_grid) {\n",
       "  __Pyx_memviewslice __pyx_v_grid = { 0, 0, { 0 }, { 0 }, { 0 } };\n",
       "  PyObject *__pyx_r = 0;\n",
       "  <span class='refnanny'>__Pyx_RefNannyDeclarations</span>\n",
       "  <span class='refnanny'>__Pyx_RefNannySetupContext</span>(\"update_cython3 (wrapper)\", 0);\n",
       "  assert(__pyx_arg_grid); {\n",
       "    __pyx_v_grid = <span class='pyx_c_api'>__Pyx_PyObject_to_MemoryviewSlice_dsds_signed__char</span>(__pyx_arg_grid, PyBUF_WRITABLE);<span class='error_goto'> if (unlikely(!__pyx_v_grid.memview)) __PYX_ERR(0, 6, __pyx_L3_error)</span>\n",
       "  }\n",
       "  goto __pyx_L4_argument_unpacking_done;\n",
       "  __pyx_L3_error:;\n",
       "  <span class='pyx_c_api'>__Pyx_AddTraceback</span>(\"_cython_magic_0ac7f5e3e1571b1a2d95a659f682ce03.update_cython3\", __pyx_clineno, __pyx_lineno, __pyx_filename);\n",
       "  <span class='refnanny'>__Pyx_RefNannyFinishContext</span>();\n",
       "  return NULL;\n",
       "  __pyx_L4_argument_unpacking_done:;\n",
       "  __pyx_r = __pyx_pf_46_cython_magic_0ac7f5e3e1571b1a2d95a659f682ce03_update_cython3(__pyx_self, __pyx_v_grid);\n",
       "  int __pyx_lineno = 0;\n",
       "  const char *__pyx_filename = NULL;\n",
       "  int __pyx_clineno = 0;\n",
       "\n",
       "  /* function exit code */\n",
       "  <span class='refnanny'>__Pyx_RefNannyFinishContext</span>();\n",
       "  return __pyx_r;\n",
       "}\n",
       "\n",
       "static PyObject *__pyx_pf_46_cython_magic_0ac7f5e3e1571b1a2d95a659f682ce03_update_cython3(CYTHON_UNUSED PyObject *__pyx_self, __Pyx_memviewslice __pyx_v_grid) {\n",
       "  int __pyx_v_n;\n",
       "  int __pyx_v_m;\n",
       "  int __pyx_v_row;\n",
       "  int __pyx_v_col;\n",
       "  int __pyx_v_live_neighbors;\n",
       "  __Pyx_memviewslice __pyx_v_next_grid = { 0, 0, { 0 }, { 0 }, { 0 } };\n",
       "  PyObject *__pyx_r = NULL;\n",
       "  <span class='refnanny'>__Pyx_RefNannyDeclarations</span>\n",
       "  <span class='refnanny'>__Pyx_RefNannySetupContext</span>(\"update_cython3\", 0);\n",
       "/* … */\n",
       "  /* function exit code */\n",
       "  __pyx_L1_error:;\n",
       "  <span class='pyx_macro_api'>__Pyx_XDECREF</span>(__pyx_t_1);\n",
       "  <span class='pyx_macro_api'>__Pyx_XDECREF</span>(__pyx_t_2);\n",
       "  <span class='pyx_macro_api'>__Pyx_XDECREF</span>(__pyx_t_3);\n",
       "  <span class='pyx_macro_api'>__Pyx_XDECREF</span>(__pyx_t_4);\n",
       "  <span class='pyx_macro_api'>__Pyx_XDECREF</span>(__pyx_t_5);\n",
       "  __PYX_XDEC_MEMVIEW(&amp;__pyx_t_6, 1);\n",
       "  <span class='pyx_c_api'>__Pyx_AddTraceback</span>(\"_cython_magic_0ac7f5e3e1571b1a2d95a659f682ce03.update_cython3\", __pyx_clineno, __pyx_lineno, __pyx_filename);\n",
       "  __pyx_r = NULL;\n",
       "  __pyx_L0:;\n",
       "  __PYX_XDEC_MEMVIEW(&amp;__pyx_v_grid, 1);\n",
       "  __PYX_XDEC_MEMVIEW(&amp;__pyx_v_next_grid, 1);\n",
       "  <span class='refnanny'>__Pyx_XGIVEREF</span>(__pyx_r);\n",
       "  <span class='refnanny'>__Pyx_RefNannyFinishContext</span>();\n",
       "  return __pyx_r;\n",
       "}\n",
       "/* … */\n",
       "  __pyx_tuple__20 = <span class='py_c_api'>PyTuple_Pack</span>(8, __pyx_n_s_grid, __pyx_n_s_grid, __pyx_n_s_n, __pyx_n_s_m, __pyx_n_s_row, __pyx_n_s_col, __pyx_n_s_live_neighbors, __pyx_n_s_next_grid);<span class='error_goto'> if (unlikely(!__pyx_tuple__20)) __PYX_ERR(0, 6, __pyx_L1_error)</span>\n",
       "  <span class='refnanny'>__Pyx_GOTREF</span>(__pyx_tuple__20);\n",
       "  <span class='refnanny'>__Pyx_GIVEREF</span>(__pyx_tuple__20);\n",
       "/* … */\n",
       "  __pyx_t_1 = PyCFunction_NewEx(&amp;__pyx_mdef_46_cython_magic_0ac7f5e3e1571b1a2d95a659f682ce03_1update_cython3, NULL, __pyx_n_s_cython_magic_0ac7f5e3e1571b1a2d);<span class='error_goto'> if (unlikely(!__pyx_t_1)) __PYX_ERR(0, 6, __pyx_L1_error)</span>\n",
       "  <span class='refnanny'>__Pyx_GOTREF</span>(__pyx_t_1);\n",
       "  if (<span class='py_c_api'>PyDict_SetItem</span>(__pyx_d, __pyx_n_s_update_cython3, __pyx_t_1) &lt; 0) <span class='error_goto'>__PYX_ERR(0, 6, __pyx_L1_error)</span>\n",
       "  <span class='pyx_macro_api'>__Pyx_DECREF</span>(__pyx_t_1); __pyx_t_1 = 0;\n",
       "  __pyx_codeobj__21 = (PyObject*)<span class='pyx_c_api'>__Pyx_PyCode_New</span>(1, 0, 8, 0, CO_OPTIMIZED|CO_NEWLOCALS, __pyx_empty_bytes, __pyx_empty_tuple, __pyx_empty_tuple, __pyx_tuple__20, __pyx_empty_tuple, __pyx_empty_tuple, __pyx_kp_s_home_llestandi_cache_ipython_cy, __pyx_n_s_update_cython3, 6, __pyx_empty_bytes);<span class='error_goto'> if (unlikely(!__pyx_codeobj__21)) __PYX_ERR(0, 6, __pyx_L1_error)</span>\n",
       "</pre><pre class=\"cython line score-0\">&#xA0;<span class=\"\">07</span>:     <span class=\"k\">cdef</span> <span class=\"kt\">int</span> <span class=\"nf\">n</span><span class=\"p\">,</span> <span class=\"nf\">m</span><span class=\"p\">,</span> <span class=\"nf\">row</span><span class=\"p\">,</span> <span class=\"nf\">col</span><span class=\"p\">,</span> <span class=\"nf\">live_neighbors</span></pre>\n",
       "<pre class=\"cython line score-0\">&#xA0;<span class=\"\">08</span>:     <span class=\"k\">cdef</span> <span class=\"kt\">signed</span> <span class=\"kt\">char</span>[<span class=\"p\">:,</span> <span class=\"p\">:]</span> <span class=\"n\">next_grid</span></pre>\n",
       "<pre class=\"cython line score-0\">&#xA0;<span class=\"\">09</span>: </pre>\n",
       "<pre class=\"cython line score-0\" onclick=\"(function(s){s.display=s.display==='block'?'none':'block'})(this.nextElementSibling.style)\">+<span class=\"\">10</span>:     <span class=\"n\">n</span> <span class=\"o\">=</span> <span class=\"n\">grid</span><span class=\"o\">.</span><span class=\"n\">shape</span><span class=\"p\">[</span><span class=\"mf\">0</span><span class=\"p\">]</span></pre>\n",
       "<pre class='cython code score-0 '>  __pyx_v_n = (__pyx_v_grid.shape[0]);\n",
       "</pre><pre class=\"cython line score-0\" onclick=\"(function(s){s.display=s.display==='block'?'none':'block'})(this.nextElementSibling.style)\">+<span class=\"\">11</span>:     <span class=\"n\">m</span> <span class=\"o\">=</span> <span class=\"n\">grid</span><span class=\"o\">.</span><span class=\"n\">shape</span><span class=\"p\">[</span><span class=\"mf\">1</span><span class=\"p\">]</span></pre>\n",
       "<pre class='cython code score-0 '>  __pyx_v_m = (__pyx_v_grid.shape[1]);\n",
       "</pre><pre class=\"cython line score-43\" onclick=\"(function(s){s.display=s.display==='block'?'none':'block'})(this.nextElementSibling.style)\">+<span class=\"\">12</span>:     <span class=\"n\">next_grid</span> <span class=\"o\">=</span> <span class=\"n\">np</span><span class=\"o\">.</span><span class=\"n\">zeros</span><span class=\"p\">((</span><span class=\"n\">n</span><span class=\"p\">,</span> <span class=\"n\">m</span><span class=\"p\">),</span> <span class=\"n\">dtype</span><span class=\"o\">=</span><span class=\"n\">np</span><span class=\"o\">.</span><span class=\"n\">int8</span><span class=\"p\">)</span></pre>\n",
       "<pre class='cython code score-43 '>  <span class='pyx_c_api'>__Pyx_GetModuleGlobalName</span>(__pyx_t_1, __pyx_n_s_np);<span class='error_goto'> if (unlikely(!__pyx_t_1)) __PYX_ERR(0, 12, __pyx_L1_error)</span>\n",
       "  <span class='refnanny'>__Pyx_GOTREF</span>(__pyx_t_1);\n",
       "  __pyx_t_2 = <span class='pyx_c_api'>__Pyx_PyObject_GetAttrStr</span>(__pyx_t_1, __pyx_n_s_zeros);<span class='error_goto'> if (unlikely(!__pyx_t_2)) __PYX_ERR(0, 12, __pyx_L1_error)</span>\n",
       "  <span class='refnanny'>__Pyx_GOTREF</span>(__pyx_t_2);\n",
       "  <span class='pyx_macro_api'>__Pyx_DECREF</span>(__pyx_t_1); __pyx_t_1 = 0;\n",
       "  __pyx_t_1 = <span class='pyx_c_api'>__Pyx_PyInt_From_int</span>(__pyx_v_n);<span class='error_goto'> if (unlikely(!__pyx_t_1)) __PYX_ERR(0, 12, __pyx_L1_error)</span>\n",
       "  <span class='refnanny'>__Pyx_GOTREF</span>(__pyx_t_1);\n",
       "  __pyx_t_3 = <span class='pyx_c_api'>__Pyx_PyInt_From_int</span>(__pyx_v_m);<span class='error_goto'> if (unlikely(!__pyx_t_3)) __PYX_ERR(0, 12, __pyx_L1_error)</span>\n",
       "  <span class='refnanny'>__Pyx_GOTREF</span>(__pyx_t_3);\n",
       "  __pyx_t_4 = <span class='py_c_api'>PyTuple_New</span>(2);<span class='error_goto'> if (unlikely(!__pyx_t_4)) __PYX_ERR(0, 12, __pyx_L1_error)</span>\n",
       "  <span class='refnanny'>__Pyx_GOTREF</span>(__pyx_t_4);\n",
       "  <span class='refnanny'>__Pyx_GIVEREF</span>(__pyx_t_1);\n",
       "  <span class='py_macro_api'>PyTuple_SET_ITEM</span>(__pyx_t_4, 0, __pyx_t_1);\n",
       "  <span class='refnanny'>__Pyx_GIVEREF</span>(__pyx_t_3);\n",
       "  <span class='py_macro_api'>PyTuple_SET_ITEM</span>(__pyx_t_4, 1, __pyx_t_3);\n",
       "  __pyx_t_1 = 0;\n",
       "  __pyx_t_3 = 0;\n",
       "  __pyx_t_3 = <span class='py_c_api'>PyTuple_New</span>(1);<span class='error_goto'> if (unlikely(!__pyx_t_3)) __PYX_ERR(0, 12, __pyx_L1_error)</span>\n",
       "  <span class='refnanny'>__Pyx_GOTREF</span>(__pyx_t_3);\n",
       "  <span class='refnanny'>__Pyx_GIVEREF</span>(__pyx_t_4);\n",
       "  <span class='py_macro_api'>PyTuple_SET_ITEM</span>(__pyx_t_3, 0, __pyx_t_4);\n",
       "  __pyx_t_4 = 0;\n",
       "  __pyx_t_4 = <span class='pyx_c_api'>__Pyx_PyDict_NewPresized</span>(1);<span class='error_goto'> if (unlikely(!__pyx_t_4)) __PYX_ERR(0, 12, __pyx_L1_error)</span>\n",
       "  <span class='refnanny'>__Pyx_GOTREF</span>(__pyx_t_4);\n",
       "  <span class='pyx_c_api'>__Pyx_GetModuleGlobalName</span>(__pyx_t_1, __pyx_n_s_np);<span class='error_goto'> if (unlikely(!__pyx_t_1)) __PYX_ERR(0, 12, __pyx_L1_error)</span>\n",
       "  <span class='refnanny'>__Pyx_GOTREF</span>(__pyx_t_1);\n",
       "  __pyx_t_5 = <span class='pyx_c_api'>__Pyx_PyObject_GetAttrStr</span>(__pyx_t_1, __pyx_n_s_int8);<span class='error_goto'> if (unlikely(!__pyx_t_5)) __PYX_ERR(0, 12, __pyx_L1_error)</span>\n",
       "  <span class='refnanny'>__Pyx_GOTREF</span>(__pyx_t_5);\n",
       "  <span class='pyx_macro_api'>__Pyx_DECREF</span>(__pyx_t_1); __pyx_t_1 = 0;\n",
       "  if (<span class='py_c_api'>PyDict_SetItem</span>(__pyx_t_4, __pyx_n_s_dtype, __pyx_t_5) &lt; 0) <span class='error_goto'>__PYX_ERR(0, 12, __pyx_L1_error)</span>\n",
       "  <span class='pyx_macro_api'>__Pyx_DECREF</span>(__pyx_t_5); __pyx_t_5 = 0;\n",
       "  __pyx_t_5 = <span class='pyx_c_api'>__Pyx_PyObject_Call</span>(__pyx_t_2, __pyx_t_3, __pyx_t_4);<span class='error_goto'> if (unlikely(!__pyx_t_5)) __PYX_ERR(0, 12, __pyx_L1_error)</span>\n",
       "  <span class='refnanny'>__Pyx_GOTREF</span>(__pyx_t_5);\n",
       "  <span class='pyx_macro_api'>__Pyx_DECREF</span>(__pyx_t_2); __pyx_t_2 = 0;\n",
       "  <span class='pyx_macro_api'>__Pyx_DECREF</span>(__pyx_t_3); __pyx_t_3 = 0;\n",
       "  <span class='pyx_macro_api'>__Pyx_DECREF</span>(__pyx_t_4); __pyx_t_4 = 0;\n",
       "  __pyx_t_6 = <span class='pyx_c_api'>__Pyx_PyObject_to_MemoryviewSlice_dsds_signed__char</span>(__pyx_t_5, PyBUF_WRITABLE);<span class='error_goto'> if (unlikely(!__pyx_t_6.memview)) __PYX_ERR(0, 12, __pyx_L1_error)</span>\n",
       "  <span class='pyx_macro_api'>__Pyx_DECREF</span>(__pyx_t_5); __pyx_t_5 = 0;\n",
       "  __pyx_v_next_grid = __pyx_t_6;\n",
       "  __pyx_t_6.memview = NULL;\n",
       "  __pyx_t_6.data = NULL;\n",
       "</pre><pre class=\"cython line score-0\">&#xA0;<span class=\"\">13</span>: </pre>\n",
       "<pre class=\"cython line score-0\" onclick=\"(function(s){s.display=s.display==='block'?'none':'block'})(this.nextElementSibling.style)\">+<span class=\"\">14</span>:     <span class=\"k\">for</span> <span class=\"n\">row</span> <span class=\"ow\">in</span> <span class=\"nb\">range</span><span class=\"p\">(</span><span class=\"n\">n</span><span class=\"p\">):</span></pre>\n",
       "<pre class='cython code score-0 '>  __pyx_t_7 = __pyx_v_n;\n",
       "  __pyx_t_8 = __pyx_t_7;\n",
       "  for (__pyx_t_9 = 0; __pyx_t_9 &lt; __pyx_t_8; __pyx_t_9+=1) {\n",
       "    __pyx_v_row = __pyx_t_9;\n",
       "</pre><pre class=\"cython line score-0\" onclick=\"(function(s){s.display=s.display==='block'?'none':'block'})(this.nextElementSibling.style)\">+<span class=\"\">15</span>:         <span class=\"k\">for</span> <span class=\"n\">col</span> <span class=\"ow\">in</span> <span class=\"nb\">range</span><span class=\"p\">(</span><span class=\"n\">m</span><span class=\"p\">):</span></pre>\n",
       "<pre class='cython code score-0 '>    __pyx_t_10 = __pyx_v_m;\n",
       "    __pyx_t_11 = __pyx_t_10;\n",
       "    for (__pyx_t_12 = 0; __pyx_t_12 &lt; __pyx_t_11; __pyx_t_12+=1) {\n",
       "      __pyx_v_col = __pyx_t_12;\n",
       "</pre><pre class=\"cython line score-0\">&#xA0;<span class=\"\">16</span>:             <span class=\"n\">live_neighbors</span> <span class=\"o\">=</span>  <span class=\"p\">(</span></pre>\n",
       "<pre class=\"cython line score-0\" onclick=\"(function(s){s.display=s.display==='block'?'none':'block'})(this.nextElementSibling.style)\">+<span class=\"\">17</span>:                 <span class=\"n\">grid</span><span class=\"p\">[</span><span class=\"n\">row</span><span class=\"o\">-</span><span class=\"mf\">1</span><span class=\"p\">,</span> <span class=\"n\">col</span><span class=\"o\">-</span><span class=\"mf\">1</span><span class=\"p\">]</span> <span class=\"o\">+</span> <span class=\"n\">grid</span><span class=\"p\">[</span><span class=\"n\">row</span><span class=\"o\">-</span><span class=\"mf\">1</span><span class=\"p\">,</span> <span class=\"n\">col</span><span class=\"p\">]</span> <span class=\"o\">+</span> <span class=\"n\">grid</span><span class=\"p\">[</span><span class=\"n\">row</span><span class=\"o\">-</span><span class=\"mf\">1</span><span class=\"p\">,</span> <span class=\"n\">col</span><span class=\"o\">+</span><span class=\"mf\">1</span><span class=\"p\">]</span> <span class=\"o\">+</span></pre>\n",
       "<pre class='cython code score-0 '>      __pyx_t_13 = (__pyx_v_row - 1);\n",
       "      __pyx_t_14 = (__pyx_v_col - 1);\n",
       "      __pyx_t_15 = (__pyx_v_row - 1);\n",
       "      __pyx_t_16 = __pyx_v_col;\n",
       "      __pyx_t_17 = (__pyx_v_row - 1);\n",
       "      __pyx_t_18 = (__pyx_v_col + 1);\n",
       "</pre><pre class=\"cython line score-0\" onclick=\"(function(s){s.display=s.display==='block'?'none':'block'})(this.nextElementSibling.style)\">+<span class=\"\">18</span>:                 <span class=\"n\">grid</span><span class=\"p\">[</span><span class=\"n\">row</span><span class=\"p\">,</span> <span class=\"n\">col</span><span class=\"o\">-</span><span class=\"mf\">1</span><span class=\"p\">]</span> <span class=\"o\">+</span>                      <span class=\"n\">grid</span><span class=\"p\">[</span><span class=\"n\">row</span><span class=\"p\">,</span> <span class=\"n\">col</span><span class=\"o\">+</span><span class=\"mf\">1</span><span class=\"p\">]</span> <span class=\"o\">+</span></pre>\n",
       "<pre class='cython code score-0 '>      __pyx_t_19 = __pyx_v_row;\n",
       "      __pyx_t_20 = (__pyx_v_col - 1);\n",
       "/* … */\n",
       "      __pyx_t_21 = __pyx_v_row;\n",
       "      __pyx_t_22 = (__pyx_v_col + 1);\n",
       "</pre><pre class=\"cython line score-0\" onclick=\"(function(s){s.display=s.display==='block'?'none':'block'})(this.nextElementSibling.style)\">+<span class=\"\">19</span>:                 <span class=\"n\">grid</span><span class=\"p\">[</span><span class=\"n\">row</span><span class=\"o\">+</span><span class=\"mf\">1</span><span class=\"p\">,</span> <span class=\"n\">col</span><span class=\"o\">-</span><span class=\"mf\">1</span><span class=\"p\">]</span> <span class=\"o\">+</span> <span class=\"n\">grid</span><span class=\"p\">[</span><span class=\"n\">row</span><span class=\"o\">+</span><span class=\"mf\">1</span><span class=\"p\">,</span> <span class=\"n\">col</span><span class=\"p\">]</span> <span class=\"o\">+</span> <span class=\"n\">grid</span><span class=\"p\">[</span><span class=\"n\">row</span><span class=\"o\">+</span><span class=\"mf\">1</span><span class=\"p\">,</span> <span class=\"n\">col</span><span class=\"o\">+</span><span class=\"mf\">1</span><span class=\"p\">]</span></pre>\n",
       "<pre class='cython code score-0 '>      __pyx_t_23 = (__pyx_v_row + 1);\n",
       "      __pyx_t_24 = (__pyx_v_col - 1);\n",
       "/* … */\n",
       "      __pyx_t_25 = (__pyx_v_row + 1);\n",
       "      __pyx_t_26 = __pyx_v_col;\n",
       "/* … */\n",
       "      __pyx_t_27 = (__pyx_v_row + 1);\n",
       "      __pyx_t_28 = (__pyx_v_col + 1);\n",
       "      __pyx_v_live_neighbors = ((((((((*((signed char *) ( /* dim=1 */ (( /* dim=0 */ (__pyx_v_grid.data + __pyx_t_13 * __pyx_v_grid.strides[0]) ) + __pyx_t_14 * __pyx_v_grid.strides[1]) ))) + (*((signed char *) ( /* dim=1 */ (( /* dim=0 */ (__pyx_v_grid.data + __pyx_t_15 * __pyx_v_grid.strides[0]) ) + __pyx_t_16 * __pyx_v_grid.strides[1]) )))) + (*((signed char *) ( /* dim=1 */ (( /* dim=0 */ (__pyx_v_grid.data + __pyx_t_17 * __pyx_v_grid.strides[0]) ) + __pyx_t_18 * __pyx_v_grid.strides[1]) )))) + (*((signed char *) ( /* dim=1 */ (( /* dim=0 */ (__pyx_v_grid.data + __pyx_t_19 * __pyx_v_grid.strides[0]) ) + __pyx_t_20 * __pyx_v_grid.strides[1]) )))) + (*((signed char *) ( /* dim=1 */ (( /* dim=0 */ (__pyx_v_grid.data + __pyx_t_21 * __pyx_v_grid.strides[0]) ) + __pyx_t_22 * __pyx_v_grid.strides[1]) )))) + (*((signed char *) ( /* dim=1 */ (( /* dim=0 */ (__pyx_v_grid.data + __pyx_t_23 * __pyx_v_grid.strides[0]) ) + __pyx_t_24 * __pyx_v_grid.strides[1]) )))) + (*((signed char *) ( /* dim=1 */ (( /* dim=0 */ (__pyx_v_grid.data + __pyx_t_25 * __pyx_v_grid.strides[0]) ) + __pyx_t_26 * __pyx_v_grid.strides[1]) )))) + (*((signed char *) ( /* dim=1 */ (( /* dim=0 */ (__pyx_v_grid.data + __pyx_t_27 * __pyx_v_grid.strides[0]) ) + __pyx_t_28 * __pyx_v_grid.strides[1]) ))));\n",
       "</pre><pre class=\"cython line score-0\">&#xA0;<span class=\"\">20</span>:             <span class=\"p\">)</span></pre>\n",
       "<pre class=\"cython line score-0\">&#xA0;<span class=\"\">21</span>: </pre>\n",
       "<pre class=\"cython line score-0\" onclick=\"(function(s){s.display=s.display==='block'?'none':'block'})(this.nextElementSibling.style)\">+<span class=\"\">22</span>:             <span class=\"k\">if</span> <span class=\"n\">live_neighbors</span> <span class=\"o\">&lt;</span> <span class=\"mf\">2</span> <span class=\"ow\">or</span> <span class=\"n\">live_neighbors</span> <span class=\"o\">&gt;</span> <span class=\"mf\">3</span><span class=\"p\">:</span></pre>\n",
       "<pre class='cython code score-0 '>      __pyx_t_30 = ((__pyx_v_live_neighbors &lt; 2) != 0);\n",
       "      if (!__pyx_t_30) {\n",
       "      } else {\n",
       "        __pyx_t_29 = __pyx_t_30;\n",
       "        goto __pyx_L8_bool_binop_done;\n",
       "      }\n",
       "      __pyx_t_30 = ((__pyx_v_live_neighbors &gt; 3) != 0);\n",
       "      __pyx_t_29 = __pyx_t_30;\n",
       "      __pyx_L8_bool_binop_done:;\n",
       "      if (__pyx_t_29) {\n",
       "/* … */\n",
       "        goto __pyx_L7;\n",
       "      }\n",
       "</pre><pre class=\"cython line score-0\" onclick=\"(function(s){s.display=s.display==='block'?'none':'block'})(this.nextElementSibling.style)\">+<span class=\"\">23</span>:                 <span class=\"n\">next_grid</span><span class=\"p\">[</span><span class=\"n\">row</span><span class=\"p\">][</span><span class=\"n\">col</span><span class=\"p\">]</span> <span class=\"o\">=</span> <span class=\"mf\">0</span></pre>\n",
       "<pre class='cython code score-0 '>        __pyx_t_28 = __pyx_v_row;\n",
       "        __pyx_t_27 = __pyx_v_col;\n",
       "        *((signed char *) ( /* dim=1 */ (( /* dim=0 */ (__pyx_v_next_grid.data + __pyx_t_28 * __pyx_v_next_grid.strides[0]) ) + __pyx_t_27 * __pyx_v_next_grid.strides[1]) )) = 0;\n",
       "</pre><pre class=\"cython line score-0\" onclick=\"(function(s){s.display=s.display==='block'?'none':'block'})(this.nextElementSibling.style)\">+<span class=\"\">24</span>:             <span class=\"k\">elif</span> <span class=\"n\">live_neighbors</span> <span class=\"o\">==</span> <span class=\"mf\">3</span> <span class=\"ow\">and</span> <span class=\"n\">grid</span><span class=\"p\">[</span><span class=\"n\">row</span><span class=\"p\">][</span><span class=\"n\">col</span><span class=\"p\">]</span> <span class=\"o\">==</span> <span class=\"mf\">0</span><span class=\"p\">:</span></pre>\n",
       "<pre class='cython code score-0 '>      __pyx_t_30 = ((__pyx_v_live_neighbors == 3) != 0);\n",
       "      if (__pyx_t_30) {\n",
       "      } else {\n",
       "        __pyx_t_29 = __pyx_t_30;\n",
       "        goto __pyx_L10_bool_binop_done;\n",
       "      }\n",
       "      __pyx_t_27 = __pyx_v_row;\n",
       "      __pyx_t_28 = __pyx_v_col;\n",
       "      __pyx_t_30 = (((*((signed char *) ( /* dim=1 */ (( /* dim=0 */ (__pyx_v_grid.data + __pyx_t_27 * __pyx_v_grid.strides[0]) ) + __pyx_t_28 * __pyx_v_grid.strides[1]) ))) == 0) != 0);\n",
       "      __pyx_t_29 = __pyx_t_30;\n",
       "      __pyx_L10_bool_binop_done:;\n",
       "      if (__pyx_t_29) {\n",
       "/* … */\n",
       "        goto __pyx_L7;\n",
       "      }\n",
       "</pre><pre class=\"cython line score-0\" onclick=\"(function(s){s.display=s.display==='block'?'none':'block'})(this.nextElementSibling.style)\">+<span class=\"\">25</span>:                 <span class=\"n\">next_grid</span><span class=\"p\">[</span><span class=\"n\">row</span><span class=\"p\">][</span><span class=\"n\">col</span><span class=\"p\">]</span> <span class=\"o\">=</span> <span class=\"mf\">1</span></pre>\n",
       "<pre class='cython code score-0 '>        __pyx_t_28 = __pyx_v_row;\n",
       "        __pyx_t_27 = __pyx_v_col;\n",
       "        *((signed char *) ( /* dim=1 */ (( /* dim=0 */ (__pyx_v_next_grid.data + __pyx_t_28 * __pyx_v_next_grid.strides[0]) ) + __pyx_t_27 * __pyx_v_next_grid.strides[1]) )) = 1;\n",
       "</pre><pre class=\"cython line score-0\">&#xA0;<span class=\"\">26</span>:             <span class=\"k\">else</span><span class=\"p\">:</span></pre>\n",
       "<pre class=\"cython line score-0\" onclick=\"(function(s){s.display=s.display==='block'?'none':'block'})(this.nextElementSibling.style)\">+<span class=\"\">27</span>:                 <span class=\"n\">next_grid</span><span class=\"p\">[</span><span class=\"n\">row</span><span class=\"p\">][</span><span class=\"n\">col</span><span class=\"p\">]</span> <span class=\"o\">=</span> <span class=\"n\">grid</span><span class=\"p\">[</span><span class=\"n\">row</span><span class=\"p\">][</span><span class=\"n\">col</span><span class=\"p\">]</span></pre>\n",
       "<pre class='cython code score-0 '>      /*else*/ {\n",
       "        __pyx_t_27 = __pyx_v_row;\n",
       "        __pyx_t_28 = __pyx_v_col;\n",
       "        __pyx_t_26 = __pyx_v_row;\n",
       "        __pyx_t_25 = __pyx_v_col;\n",
       "        *((signed char *) ( /* dim=1 */ (( /* dim=0 */ (__pyx_v_next_grid.data + __pyx_t_26 * __pyx_v_next_grid.strides[0]) ) + __pyx_t_25 * __pyx_v_next_grid.strides[1]) )) = (*((signed char *) ( /* dim=1 */ (( /* dim=0 */ (__pyx_v_grid.data + __pyx_t_27 * __pyx_v_grid.strides[0]) ) + __pyx_t_28 * __pyx_v_grid.strides[1]) )));\n",
       "      }\n",
       "      __pyx_L7:;\n",
       "    }\n",
       "  }\n",
       "</pre><pre class=\"cython line score-0\">&#xA0;<span class=\"\">28</span>: </pre>\n",
       "<pre class=\"cython line score-1\" onclick=\"(function(s){s.display=s.display==='block'?'none':'block'})(this.nextElementSibling.style)\">+<span class=\"\">29</span>:     <span class=\"k\">return</span> <span class=\"n\">next_grid</span></pre>\n",
       "<pre class='cython code score-1 '>  <span class='pyx_macro_api'>__Pyx_XDECREF</span>(__pyx_r);\n",
       "  __pyx_t_5 = __pyx_memoryview_fromslice(__pyx_v_next_grid, 2, (PyObject *(*)(char *)) __pyx_memview_get_signed__char, (int (*)(char *, PyObject *)) __pyx_memview_set_signed__char, 0);;<span class='error_goto'> if (unlikely(!__pyx_t_5)) __PYX_ERR(0, 29, __pyx_L1_error)</span>\n",
       "  <span class='refnanny'>__Pyx_GOTREF</span>(__pyx_t_5);\n",
       "  __pyx_r = __pyx_t_5;\n",
       "  __pyx_t_5 = 0;\n",
       "  goto __pyx_L0;\n",
       "</pre></div></body></html>"
      ],
      "text/plain": [
       "<IPython.core.display.HTML object>"
      ]
     },
     "execution_count": 14,
     "metadata": {},
     "output_type": "execute_result"
    }
   ],
   "source": [
    "%%cython -a\n",
    "import numpy as np\n",
    "from cython import boundscheck, wraparound\n",
    "\n",
    "@boundscheck(False)\n",
    "@wraparound(False)\n",
    "def update_cython3(signed char[:, :] grid):\n",
    "    cdef int n, m, row, col, live_neighbors\n",
    "    cdef signed char[:, :] next_grid\n",
    "    \n",
    "    n = grid.shape[0]\n",
    "    m = grid.shape[1]\n",
    "    next_grid = np.zeros((n, m), dtype=np.int8)\n",
    "\n",
    "    for row in range(n):\n",
    "        for col in range(m):\n",
    "            live_neighbors =  (\n",
    "                grid[row-1, col-1] + grid[row-1, col] + grid[row-1, col+1] +\n",
    "                grid[row, col-1] +                      grid[row, col+1] +\n",
    "                grid[row+1, col-1] + grid[row+1, col] + grid[row+1, col+1]\n",
    "            )\n",
    "                        \n",
    "            if live_neighbors < 2 or live_neighbors > 3:\n",
    "                next_grid[row][col] = 0\n",
    "            elif live_neighbors == 3 and grid[row][col] == 0:\n",
    "                next_grid[row][col] = 1\n",
    "            else:\n",
    "                next_grid[row][col] = grid[row][col]\n",
    "    \n",
    "    return next_grid"
   ]
  },
  {
   "cell_type": "code",
   "execution_count": 15,
   "id": "fce41a33",
   "metadata": {
    "slideshow": {
     "slide_type": "subslide"
    }
   },
   "outputs": [
    {
     "name": "stdout",
     "output_type": "stream",
     "text": [
      "3.08 µs ± 42.2 ns per loop (mean ± std. dev. of 7 runs, 100000 loops each)\n"
     ]
    }
   ],
   "source": [
    "%timeit update_cython3(grid)"
   ]
  },
  {
   "cell_type": "code",
   "execution_count": 16,
   "id": "6d359e3d",
   "metadata": {
    "slideshow": {
     "slide_type": "subslide"
    }
   },
   "outputs": [],
   "source": [
    "import numba\n",
    "\n",
    "@numba.jit(nopython=True)\n",
    "def update_numba(grid: np.ndarray) -> np.ndarray:\n",
    "    next_grid = np.zeros(grid.shape, dtype=np.int8)\n",
    "    n, m = grid.shape\n",
    "    \n",
    "    for row in range(n):\n",
    "        for col in range(m):\n",
    "            live_neighbors =  (\n",
    "                grid[row-1, col-1] + grid[row-1, col] + grid[row-1, col+1] +\n",
    "                grid[row, col-1] +                      grid[row, col+1] +\n",
    "                grid[row+1, col-1] + grid[row+1, col] + grid[row+1, col+1]\n",
    "            )\n",
    "            \n",
    "            # If the number of surrounding live cells is < 2 or > 3 then we make the cell at grid[row][col] a dead cell\n",
    "            if live_neighbors < 2 or live_neighbors > 3:\n",
    "                next_grid[row][col] = 0\n",
    "            # If the number of surrounding live cells is 3 and the cell at grid[row][col] was previously dead then make\n",
    "            # the cell into a live cell\n",
    "            elif live_neighbors == 3 and grid[row][col] == 0:\n",
    "                next_grid[row][col] = 1\n",
    "            # If the number of surrounding live cells is 3 and the cell at grid[row][col] is alive keep it alive\n",
    "            else:\n",
    "                next_grid[row][col] = grid[row][col]\n",
    "    \n",
    "    return next_grid"
   ]
  },
  {
   "cell_type": "code",
   "execution_count": 17,
   "id": "ba607853",
   "metadata": {
    "slideshow": {
     "slide_type": "subslide"
    }
   },
   "outputs": [
    {
     "name": "stdout",
     "output_type": "stream",
     "text": [
      "3.88 µs ± 56.1 ns per loop (mean ± std. dev. of 7 runs, 100000 loops each)\n"
     ]
    }
   ],
   "source": [
    "%timeit update_numba(grid)"
   ]
  },
  {
   "cell_type": "markdown",
   "id": "50ff5b7f",
   "metadata": {
    "slideshow": {
     "slide_type": "slide"
    }
   },
   "source": [
    "### Parallélisme  et concurrence en python"
   ]
  },
  {
   "cell_type": "markdown",
   "id": "de819f64",
   "metadata": {
    "slideshow": {
     "slide_type": "fragment"
    }
   },
   "source": [
    "<div class=\"alert alert-danger\" role=\"alert\"><p>\n",
    "   <b> Attention : </b> concurrence $\\neq$ parallèlisme. <br>\n",
    "   La <b>concurrence</b> c'est l'exécutions de plusieurs taches (plus ou moins) en même temps. Penser <i> thread</i> avec mémoire généralement partagée et chemins d'exécution variable.<br>\n",
    "   Le <b> parallèlisme </b>, c'est l'usage de plusieurs coeurs (ou machines) en même temps pour diviser le temps de calcul. La mémoire peut etre partager ou non. Ex: MPI ou openMP. <br>\n",
    "</p></div>"
   ]
  },
  {
   "cell_type": "markdown",
   "id": "9b5f9ff6",
   "metadata": {
    "slideshow": {
     "slide_type": "slide"
    }
   },
   "source": [
    "#### Appels concurrents\n",
    "<div class=\"alert alert-success\" role=\"alert\"><p>\n",
    "   <b>Global Interpreter Lock (GIL)</b>  est un mécanisme intégré à l'interpréteur le plus courant (CPython) qui garanti qu'un seul processus à la fois peut accéder à certaines resssources pour en assurer le bon fonctionnement. <br>\n",
    "    $\\Longrightarrow$ bloque l'exécution parallèle de threads python... Deux conséquences : \n",
    "    <ol>\n",
    "        <li>Les calculs couteux ne sont pas plus rapides</li>\n",
    "        <li>Les IOs ou appels systems ne sont pas impactés</li>\n",
    "    </ol>\n",
    "</p></div>"
   ]
  },
  {
   "cell_type": "markdown",
   "id": "be7ab5a4",
   "metadata": {
    "slideshow": {
     "slide_type": "fragment"
    }
   },
   "source": [
    "##### Bon usage du multithreading\n",
    "On va télécharger tout un tas de drapeaux avec et sans le module `threading.Thread`."
   ]
  },
  {
   "cell_type": "code",
   "execution_count": 32,
   "id": "58cd35fb",
   "metadata": {
    "slideshow": {
     "slide_type": "fragment"
    }
   },
   "outputs": [],
   "source": [
    "import requests\n",
    "r = requests.get(\"https://flagcdn.com/fr/codes.json\")\n",
    "codes = r.json()"
   ]
  },
  {
   "cell_type": "code",
   "execution_count": 33,
   "id": "0979b87b",
   "metadata": {
    "slideshow": {
     "slide_type": "fragment"
    }
   },
   "outputs": [
    {
     "name": "stdout",
     "output_type": "stream",
     "text": [
      "CPU times: user 1.94 s, sys: 220 ms, total: 2.16 s\n",
      "Wall time: 27.2 s\n"
     ]
    }
   ],
   "source": [
    "%%time\n",
    "for c in codes.keys():\n",
    "    url = f\"https://flagcdn.com/256x192/{c}.png\"\n",
    "    r = requests.get(url)"
   ]
  },
  {
   "cell_type": "code",
   "execution_count": 37,
   "id": "ce96664f-0f44-4d2e-9449-158f643994a7",
   "metadata": {
    "scrolled": true
   },
   "outputs": [
    {
     "data": {
      "text/plain": [
       "b'\\x89PNG\\r\\n\\x1a\\n\\x00\\x00\\x00\\rIHDR\\x00\\x00\\x01\\x00\\x00\\x00\\x00\\xc0\\x08\\x03\\x00\\x00\\x00\\xdc3MT\\x00\\x00\\x01MPLTEGpL\\x00B\\x00\\x06_\\x05\\x00F\\x00\\x01R\\x01\\x07R\\x07\\x01Q\\x01\\x02P\\x02\\x02P\\x02\\x08Q\\x08\\x01_\\x01\\x04\\x03\\x03\\x00\\x00\\x00\\xff\\xff\\xff\\xd7\\x00\\x00\\xff\\xd2\\x00\\xcd\\x00\\x00\\xd9\\x00\\x00\\xd2\\x00\\x00\\xd0\\x00\\x00\\xff\\xd1\\x00\\xff\\xd5\\x00\\xff\\xda\\x00\\x00J\\x00\\xd5\\x00\\x00\\x00w\\x00\\xd3\\x00\\x00\\x00`\\x00\\x00k\\x00\\xff\\xcd\\x00\\xff\\xcc\\x00\\x00n\\x00\\x00V\\x00\\x00r\\x00\\xff\\xca\\x00\\x00N\\x00\\xca\\x00\\x00\\xff\\xd8\\x00\\xff\\xd6\\x00\\xff\\xc5\\x00\\x00b\\x00\\x00S\\x00\\x00Y\\x00\\xff\\xc8\\x00\\xff\\xd4\\x00\\x01{\\x00\\x00P\\x00\\x00d\\x00\\x00h\\x00\\x00]\\x00\\x00[\\x00\\xd9\\xd9\\xd9\\xff\\xcf\\x00\\xd5\\xd5\\xd5\\x00G\\x00\\x009\\x00\\xd1\\xd1\\xd1\\x00>\\x00\\x00B\\x00\\xa3\\x00\\x00\\x97\\x00\\x00\\xca\\xa5\\x04\\x00g\\x00\\x00f\\x00\\x006\\x00\\xd6\\x14\\x05\\xbe\\x94\\x00\\xce\\xce\\xce\\xb6\\x01\\x00\\xd3\\xba\\x00&\\x00\\x00J\\x00\\x00\\xf9\\xf5\\xf5\\x10\\x14\\r\\xf5\\xd3\\x00\\xe1\\xc4\\x00\\xdfA%\\xb5\\xb3\\x00\\xec\\xcb\\x00p\\x01\\x00>\\x7f\\x00\\xf4\\xea\\xea\\x9b\\xa5\\x00\\xe6\\\\\\x00\\xdb)\\r\\x9e\\x84\\x0c\\xecw\\x00)o\\x00V\\x8c\\x00\\x93o\\x01\\xf7\\xad\\x00\\xab\\x90\\x06,(\\x1e\\xf2\\x92\\x00C@5\\x99\\x98\\x92|\\x97\\x00\\xb9\\xb8\\xb6\\xe5mm\\xbb\\x9f\\x04\\xf3\\xbf\\xbf\\xf8\\xdc\\xdc!`\\x00}{w\\xee\\x98\\x98\\xfa\\xbd\\x00lX\\x03\\x9f>\\x05ba_?m\\x00\\x9d \\x01e\\xfb\\xea+\\x00\\x00\\x00\\x0ctRNS\\x00\\xb7\\xb8\\xda\\x98\\x13y[D,\\xd7\\xbcu\\x1b$\\x99\\x00\\x00\\x19\\xf4IDATx\\xda\\xe5\\x9d\\xfb_\\x12]\\xd7\\xc6\\xad<\\xf6\\x06\\x1ePD\\xf0\\x80rP\\xcc\\xf0\\x90\\x9a\\x89X\\xa8\\xa3\\x08\\x84R\\x92!e)\\xda\\x9dz\\xe7\\xff\\xff\\xe3\\xbb\\xd6\\xda3\\xc3\\x9cg\\x0f\\x0c\\xa8\\xf7\\xb30A4?~\\xafu\\xed\\xb5\\xd7\\xde3\\x0c\\x1d\\x1d\\xff\\xd3\\xd1\\xfb\\xac\\xd1\\xff\\xd9\\xd5\\xd5\\xd7\\xd7\\x8b\\xd1\\x83\\x81\\x0f\\xfa\\xfa\\xba\\xba\\x9e\\x18~\\xcf\\xcbd\\xd2\\x19u_oOw\\xe7\\xf3\\xe7/\\xc7\\xc7\\x97\\x96\\x96\\xc6\\x95\\x01_ooo\\x7f\\xd8~\\xf9\\xf2\\xf9\\xf3\\xce\\xcen\\xd0\\xa4\\xef\\x91\\xd3wu\\xbfHF\"I^\\xf2\\x9en\\xc4\\x1e\\x9f\\xa2 ^ElK\\xf1a{\\x89\\x94\\xc1\\xe7\\x16\\x17\\xb7_>\\x07)z\\xfb\\x1e\\xa31\\xfa:\\x13\\xc9D2\\xc9\\xe1\\x80\\xae^D\\x17\\xb9\\x01\\x8d\\xa5{\\xdc\\x88\\xff\\x03\\x06~^d\\xf1a\\x1b\\xf4\\xd8\\xc6/Q\\x89Gd\\x89.\\xf4\\xbe\\x18\\xd62\\x11\\xfb4C\\x97\\xe85\\xd9W\\xa4_\\x8cE]|XdO\\x93#\\x1e\\\\\\x87^H~\\xc4^\\x00\\x80\\x9f\\x1a\\x9f\\x9e\\x9e\\x9e\\xaa\\x0f\\xf3q+\\xfe\\x0f\\xe6\\xfcss\\x8bp\\x83\\xcf \\xc5\\x07x\\xf0\\x90~\\xe8\\xed|!z\\xdfJ\\x80\\xae\\x9e\\xce\\xf1\\xa9\\xf1\\xa9\\xa9q\\x83\\xa8\\xa3\\xeb\\x9e\\xdf6\\xc4\\x07x\\xc6_\\x0f|2\\x84:\\xf4\\xf4v\\xb5\\x9b\\x1e#i)@\\x17\\xa4~j\\xda\\x10\\x1e\\x8b \\x98b\\x0c\\xe2\\r\\xc5\\x98.\\xa6\\xd14X%\\xb7\\xe5\\xf4\\x1bD\\x88\\x02\\x95\\t\\xfd~\\xd9\\x9ea\\xd1\\xd5\\xf3<!\\x86\\x92?\\xa2\\xa3\\x7f\\x89c^\\x9f\\xfc)\\xe4~\\xa3\\x891\\xe9f\\x1c$\\x05(aH/\\x07\\xba#\\x14j\\xe9\\xb0\\xe8\\xea\\xed|\\t\\xdc*\\xfe\\xc4\\xbc^\\x00\\x10ijzzJ\\xc3\\x8f\\xe8o\\x0cc\\x8c3\\x98\\x10\\x1f\\x0c\\xf1\\x15B\\xc0\\xb7\\x96iX\\xb8\\xaaC_\\x0f\\xc23\\xfa\\xa4\\xcc\\x1f^\\x9e\\x9b#\\xfe\\x88rf\\x94\\xe8\\xeb\\xfcSf\\xec\\x0c\\xdf*\\xfd\\x08.\\xdeh\\\\\\x88cci\\xd1\\\\\\x82\\xd02\\xdc\\xe83\\x9b.\\xba\\x9af\\xef~\\x1eN\\xc8\\x91\\x94\\xf2\\x1f^\\xa1T\\x10\\x7f\\xa4\\xde\\x15\\x8a\\xf8\\xe3\\x12\\xbf\\x15<\\xf1\\xbf\\xe16\\x80\\xa4\\x84\\xa4\\xc3\\xf8\\xf8\\xf6\\xa2\\x11\\xbf\"\\xd8W\\rvR\\xd8\\xb7u\\xbe\\x0c\\x87\\x89^!\\x01\\xf2\\x03\\xbd8&\\x89\\x9f\\t\\xd0\\xd59>%%\\x9f\\xf8m\\xe0y\\xd2?V\\xa7\\x96\\x1d\\xa0\\n\\xad\\x1d\\x96\\rb\\x85}^Yy\\x89R\\x80\\x16\\xbd\\x16\\x0b\\x0el\\xd4\\xb1SGr\\x82\\xa7\\x0f\\x15?\\xd2\\xcbu\\x99\\xf8Q\\x80\\xbe\\xff{\\xf5\\xea}\\xa8\\xceoK\\xcf\\x93\\xfeie\\xfaU\\xf9\\xd7\\xea\\xc0d0\\xc4\\xc7\\x10\\xef\\xe6\\xf1\\x11<\\x9c\\x9f\\x9fG9p\\xc9Q\\x0f\\xf8r>,G\\x82>\\xc4\\xfc+b>\\xa4\\x9e\\x98\"L\\x00\\xc4\\x878\\x1c]\\x12\\xe9\\xdf\\xd8\\x07\\xf1[\\xe5\\x7fZr\\xc0\\xb4\\xb9\\x0342\\xe0\\xa8\\xd0\\xe3\\xabc\\x9e\\x02\\xee\\xc2a%/\\xde\\xc2\\xf3\\xaa\\xa7\\xb4\\xfc\\xf3\\xcbs\\x8a\\xbeL%\\xc0\\xcf\\x7f\\x0fI\\x81W\\x1f\\xe7yr_\\xb7\\xff\\x98\\r>\\xa5\\x9f_\\x02q\\xf6A;X\\xe2\\xab\"\\xcc>\\x0cC\\xb6\\xbd\\x12^\\xd9\\x98\\x88\\x02\\xbc\\xdd\\xfdy\\xfeJ4\\x01\\x0f\\xbe\\xdd\\xd0\\x97\\xf0\\xa7\\xeb\\xf8\\xd3\\\\\\xf8\\xd3\\x8a2\\xc4t\\xb0\\xe5\\'\\xfcys\\xfc\\xf0\\xcarhQ\\xd3\\x9e\\xce\\xe9\\x04x\\xbbv\\xf1\\xcfw\\xd1\\x04K\\\\\\xf9\\xe7r@=\\xf5c\\\\\\xd9g\\xff\\x14\\xa5\\x98-\\xbb\\xa9>\\x98\\xe13\\r\\x8cb\\x9e\\xd0\\xb7\\xf5\\xab\\x13E?&\\x0b\\xa0\\x90\\xe002\\xc6\\x93\\x7f\\x9b\\xb9_\\xe9\\x801\\xee\\xeck\\xe95J|`\\xa5r\\xc5\\x02\\x1f\\xeb\\xe32\\xb6\\x96\\xea\\x05\\x9a1\\xbfJ\\x80\\xb7o\\xb3\\x17\\xe7\\x87\\x1c&\\x18\\xe3\\xaa\\xfd\\x12\\xf5\\x98\\x93\\xec\\xdb\\x85n\\xdd%\\xaf\\xb4h\\x91\\xc9\\xb6bT+\\xd4\\x0f\\xd6\\xfcj\\x01<\\x9e\\xd2O\\xd1\\x04\\x891\\xcb\\xeao\\x91\\xffz\\xed\\xb7\\x98\\xf6L\\xb3?\\xcd\\xcbo\\xb5Bu\\xc0\\xaf\\x15\\xc0\\x93\\xdd\\xfd\\x97U\\x82\\xf7\\xe3\\x8d\\xcd\\xfe\\xd3\\xaa\\xda\\xcf5\\xf89\\xb3o\\x8do\\xbc?g\\xb09\\xa1Y\\x90i\\x05\\xf0de\\x13,\\x8f9\\xcf\\xff\\xb4\\xa6\\xf6\\x8fqW~\\xdb\\xf4\\x8f;O?\\x07\\xbf^\\x002\\x01U\\x82\\xc3\\xf7S\\xc6\\xb3\\xbf]\\xfa\\xf9G\\xbe\\xc8\\xcf\\xe3\\x80\\x16\\xf1\\x93\\x00\\xa3j\\x01\\xea\\x95\\xe0c\\xc8p\\xf67\\xd9\\x01Q\\x84\\x03|)\\xf5M\\x0c~K\\xfb\\xdb\\xf0\\x87\"\\xa3\\xa3\\x91\\xbfe\\x8d\\x00\\x1e\\xcf\\x05\\xab\\x04\\x87\\xc91}\\xf9\\x97\\xee\\xde\\xbc9\\x86\\xf8\\xa6\\x8e\\xe3o\\xf0\\x1c\\xfe$7>k\\xbd\\xdd\\xc3w\\xc6\\x1f\\x1aM\\xfc-\\xd7\\xd2:\\x01<\\xa5\\x7f\\xf4\\xc3\\x80q#\\xf3\\xaf_\\x9f?}\\x12\\x84|\\xbeX,\\xe60\\xfc\\x10\\xf4\\x00\\x9e\\xc8\\xe7\\xf3\\x82\\xf0\\xe9\\xd3\\xe7\\xcf\\xbfP\\x90\\xe37cD\\xd7\\xa2\\xd2\\xdf$\\xff\\xf2\\xe9\\xdfj\\x1aB/\\x80G\\xea\\t>\\xce\\x8d\\x89\\xeco\\x80\\x1c\\xb8\\xf3y\\xc6\\xab\\x8bX\\xcc\\x1fc\\x8f\\xe4\\xef\\x83 y\\xd4\\xe2\\x17)!e\\xdbQ\\xe9o,\\xfdF\\xc3\\x7fQ\\x87\\xbfx\\xfcKH\\xa7M\\x04\\xf0x6D\\x13\\x84\\x89\\xfd\\xd7\\'!o\\x0c\\xeeGn\\x80\\x97\\x83\\xc4`\\x8fb\\xa2$1\\xa6\\x04\\t!:\\x82+\\xfb.\\xa6_\\xc7\\x7f\\xfa\\xedS~x\\xd5B\\x00\\xa9\\x16\\x1e\\xfe\\xfe,\\x14c\\xc6\\xe0\\xc4\\xad\\xa27\\x88x\\x1c?H%?\\t\\x01\\x8e\\x00\\x1d\\x9a\\xcf\\xbe\\x16\\x9f\\x9f\\x7fy\\xe9\\xf8\\xb3\\xb0\\x8aa%\\x00L\\x884\\x0c\\x0e+y\\rvL\\xfe\\xa4\\xcd\\xbe\\x11>F\\x0co\\xa8\\x83?\\x87\\xffQ\\xd6\\x01\\xc6\\xc5x\\xa3\\xf86GgL\\xf8\\x01\\x7f\\xfc\\xf8\\xd7\\xa7\\xe2\\xf0\\xf0\\xb0\\xad\\x00\\x1e\\xcf[6\\x0cn\\x85\\x98:\\xed\\xca\\x9b\\x15\\x7f\\xbc\\x1e(\\x01\\xde\\xe1\\xb3\\xf8)\\xe7\\x8f\\x83\\x0e4.\\xd0\\x0e\\xf21\\xd7F\\xf1\\x97,\\x8e\\xcd)\\xe9O\\x91\\xbe\\x7f\\x95\\xe8\\xed\\x05\\x90\\x86\\xc1\\xf7Z\\xce\\x04\\xdf*\\xffq\\x83\\x88I7Y\\x8e\\x98_\\x1e\\x16\\xd3\\xe2q\\x97\\x06\\xdc\\xcfQ\\xfd\\xa1\\xea\\x9d~\\x83\\xe1\\xdc?,\\xd1s\\x08\\x80\\xb3\\x01)P\\xcd)\\xf1\\xc5\\x12g\\xc9\\x1f7\\x0b\\xd1\\x0b\\x8a\\'(`X0;\\x9c\\xdag\\xdf,\\xfd\\xa6\\xfc\\xa1\\xd0\\x07L}~\\x18\\xe8\\x95\\xfc\\xf6\\x02\\xc0l\\xf0/+\\x04E\\x1d\\xaa\\x9f\\xd3\\xfd|\\x11\\xcb\\xc1\\xff\\xf1\\xc7s\\x92\\x1dN\\xa7\\xf4\\xc7\\x1e\\xf9\\xd2\\xaf\\xb1?\\x0cz\\x84\\xa7\\xd4\\x0fk\\xf8y\\x04\\x10\\x0b\\x01\\x94\\xc2\\x18\\x7f\\xc4\\x9b\\t\\xfc\\xef\\xac\\x81\\xf8&\\x0b\\xa1\\xd4\\x82\\x93\\x1f\\x13\\xbfxz|\\x0c][>\\xd7\\xdf?l\\xc4\\xcf%\\x80\\'\\xcb\\n\\xc1\\xad\\xe0o=\\xff\\x88\\x188NF\\xe2q\\xb9\\x93:\\xa6\\xa1\\x81\\'[,m[\\xd9_\\x1a\\xf2K\\xa7\\x80\\x0e\\x8d\\x1bt/\\x0b\\xfd\\x12\\xba\\x9e\\x9fO\\x00X\\x1b\\x90\\x02\\xe7\\xe9\\x96\\xa7\\x7fD\\x17\\xe27D%\\xc4\\xfe\\xfa\\xf4\\xf8\\xf4\\xf4\\x14\\xbdP\\xb7:Z\\x04\\x9e<\\xc5\\xf5\\xc9\\xaf\\xcfH^Dt\\ns~^\\x01<\\x1b\\xe7\\xe2d\\xd0f|9\\x16Fr\\xf1\\x05\\xd2c\\x04\\xb4\\x80\\xd5\\x06\\xc8\\xc1\\xe23\\x84\\xf4\\x98\\xd6\\'9\\xf8i\\xa0\\xce\\r\\xf7\\xdb\\xf3s\\x0b\\xe0yK\\xa5\\xf0\\xfbN\\xae\\xf5\\xee7\\x16@\\x198\\x93@\\xc9\\x1cY\\xc8-\\xe4\\xe8\\x9b\\xfd9\\xb8-\\xa0:\\xf0\\x83\\xfd\\x9a\\xb0\\xe2\\xe7\\x17@\\\\\\x1f\\x1e\\x96s\\x0f\\x81\\xaf\\xe6W\\x85\\x8au\\xa1_\\x87o\\xcd?\\xc1/\\x00\\x94Bq:l\\x05\\x7f\\xa3\\xf8z^G\\xfc\\x8e\\x04\\x80\\x9e\\x88J\\xa1\\xb9\\x02\\x8f\\x10\\xbf\\xdf\\x12\\x7fu\\x82\\x04\\x906D\\xd6<\\xb6\\nP)\\xbc\\xcd\\xbb\\xcb\\xdf0\\xbe\\x0b\\xfc*\\x07\\xd8\\n\\xe0\\xf1\\xec\\x8a\\n\\xc4\\xdb\\x85\\xdf\\\\\\xfam\\xf8A\\x80I\\xcc\\xbf(\\xc0\\xda[{\\x01<k\\xa4\\xc0\\xb9\\xf0$\\xd2o\\xcf/:\\xa0\\xd6A\\xfc\\x1c\\x0e\\x80\\xc9\\x80\\xa6\\xc3s!\\xfe\\xa4\\xf0M\\xf9\\'\\xe5!\\xb0\\xc6\\xe7\\x80\\xba\\x02.\\xf0\\xb7\\x14\\x9f\\x8b\\x1f\\x1d\\xc0\\x86\\xc0\\x9a\\xb5\\x03\\xae\\xb3\\x8aRH\\r\\xc1\\xf7t\\xb3\\xfc#\\x8f\\x81\\x7fR\\x9c\\x05\\xd6l\\x1c\\xf0\\xe7Z\\xd7\\x10|O\\xe7\\x9a\\xe1o1\\xbe\\x8a\\x7f\\xd8\\x94\\x9f\\xd5\\x80\\x9d;;\\x07\\x94\\nW\\xfa\\x96\\x08\\x16\\x06\\xc0\\xb1z\\x83q\\x06A\\x0f&\\xd8\\xfaE^\\xc3\\xb8\\x8f\\xef.?\\x08P\\xbeK\\xa5\\xec\\x1cp\\x95\\xf9\\x93U=A\\xeb\\xe3\\xefw\\x85\\x13\\x88L=N(\\n\\x85/_\\xbe~\\xfd\\xfa\\xe3\\x07\\x88\\xb2\\xb0\\xa0X\\xd1\\xb90\\xf8\\x1b\\xc0\\xb7\\xe4\\x7f]\\x01|\\x10\\xc0\\xc6\\x01\\x7f2\\x97%\\x8f^\\x81\\xfd\\x94w\\xd0(\\xbc\\x14\\xa2$\\x05\\x10\\xe3\\xc7\\xd9\\xcd\\xc4\\x82,D\\xab\\xf1\\xb9\\xf9\\'o\\xbe\\x9e\\xa4(\\xec\\x1cp9X\\xb86\\xda!\\xd8\\xdf\\n\\xe8\\xe0\\xd9\\r\\x83}9(j\\x81J\\x90\\x10\\x0b\\xcc\\x15\\r\\xe0\\xbb\\xcb\\xff\\xfa\\xc7\\x97\\x8co@\\x14\\xc0\\xda\\x01\\xd9\\xc2`\\xe6\\xcac\\xac\\x80\\xd7\\x94\\x1f%\\x90\\xbe\\x10\\x8d1\\x88B|\\xc1\\xc11\\xd3o\\xa8\\x83\\x0b\\xf8|\\xfc\\x93g_O2\\x03>\\x9f\\x8f\\xcb\\x01\\xd7\\'\\x83^M\\x110\\xf6\\x80wP\\xc5\\xaf\\x8f\\x00|/\\x10\\xf0\\xca:\\xac\\xf6+ep\\x03\\xdfv\\xfa\\x03\\x01\\xc0\\xfa\\x85\\x8c\\xcf\\x87\\xfc>.\\x07\\\\e\\x06\\xbd\\xda\" -\\x0c\\x94\\x1e\\xf0\\xf2F\\x00Db:\\xd0\\xb8\\x98\\xc5\\x95\\xfc\\x82\\xfb\\xe97\\xa4_=Cz\\x82\\xf7\\xf1:\\xe0\\x12\\x04\\xd0\\x15\\x81\\xba\\x07\\x82\\x0e\\xf1\\x15\\x81:\\xc8\\xf5a\\x92th\\xe1\\xe0\\x87q\\x7fV\\xcf\\xbdJ\\x00k\\x07\\\\\\x02\\x9e\\xbe\\x08HK#\\xd1\\x03\\xde\\x06#\\x00\\x1a07\\xd0\\xb08\\xbb\\xe9\\xd7\\xe9\\xe0\\xc6\\xe0\\x87q\\x7f\\xf6\\xf5\\xcb\\t\\xe4^A\\xcf\\xe9\\x80\\xd2\\t\\x02\\xea\\x8b@}\\x14\\x04\\x1b\\xc7g\\x81\\x03\" \\x96\\x07q\\xba\\xe8\\x97\\x85h\\x04\\x7fX\\x97y\\x80\\x1f\\xd2\\xd2\\xab\\x1d\\xb0\\xb6f^\\x02\\x06\\r\\x8b\\x80\\xb4[\\x0c\\x1eh\\n_\\x1fby\\x00!^\\x0f7\\xc7\\x0f\\xec?\\xc0\\xf6\\x00o\\x18\\x03J\\x07\\xac\\x99\\xb6A(\\x80Q\\x11Px\\xc0M|\\xd1\\x14\\xc1\\xa0\\xd4?\\xa0#f\\x86\\x87\\x9d\\xf1O\\xcc\\x02\\xfa\\x17sv\\x95\\x00\\x98\\x7fS\\x01.i\\x8c\\x1b\\x16\\x81\\xba\\x07\\x02.\\xf3\\xb3\\x08\\xd2\\xa7`@T\\xe2\\x0b5\\xd877\\xc8\\xc7H\\xeb\\xecR\\xcagn\\xce~\\x00\\xf8\\x97\\x02\\xf4\\xe8A+v\\xe2W8\\xc0L\\x80\\xb5\\x9fw\\xa9\\xa0i\\x11\\x90=\\x90\\n\\xb8\\x8f\\xaf\\x10\"\\x18\\x14\\xe5\\x90W\\x1d\\xb8\\xe2\\xa0\\x80e\\xc7W\\xf1aA\\\\\\x99\\xc8\\xe0CC6\\xfc\\xb2\\x00\\xa6\\x0eX\\xab\\xe6\\xf3\\x95=\\xf4\\x80q\\x11\\x90=\\x90j\\x1d\\xbeV\\x8c\\x00\\xdd\\x82C(K\\x06\\xc5\\x81\\xc8\\x00\\xeb\\xd0\\x10<7D\\xdcR\\xd8\\xf1\\xdb:\\xa0T-\\xa6\\x8b\\xf9;\\x9fy\\x11@\\x0fP?\\xb0\\xd7&|\\x0cQ\\x02\\xe9KE\\x0c\\xa9\\xc2\\x96\\xdf\\xc6\\x01\\xd9\\x9f\\xe5|\\xba\\\\\\x8b\\x95\\xa3^\\xf3\"\\xe0\\xd4\\x03\\x81\\xe6\\xf9\\x99\\x02F\\xe1\\x94\\xdfF\\x80\\x9f\\xc2\\x88\\xbfVN\\xfbk4\\x06\\xcc\\x8a\\x803\\x0f\\xb8\\x81o\\x16C\\x8e\\xf9\\xad\\x05\\xc8\\xd6rBMH\\xe7\\xfci\\x14\\xc0kZ\\x04d\\x0f\\xec\\xb5\\'\\xfd|\\xfc>\\x1e~k\\x01J\\xe5\\xf2mm$\\x16\\xf3\\x0b\\xf7(@\\xc1B\\x00\\xb6.8\\xd8{@\\xfc\\x86\\xf8m\\x1c\\xb0\\xf1\\xf6\\x02\\xb7>\\xfdy\\x14\\xc0\\xaa\\x08H\\xa3\\xc0R\\x81@\\xe0\\xb1\\xd8\\xbf\\xceo;\\r\\x96D\\x01\\x02\\xfaN \\x9b-\\x95\\xae\\xaf\\xafKj\\x0fD\\x1f\\x06\\xbfQ~[\\x01\\xb2tNH\\xf1. /\\x07\\xb2H}\\xf5\\xe7\\xcf%D\\x01\\xe2Z}\\xf0\\xf8`\\xa0\\xfd\\xb5\\xcf\\xa1\\xfd\\x95\\xfc\\xce\\x04(\\\\]\\x017\\xf4\\x98\\xf5\\xe5\\xfc\\xc9UV[\\x07\\xa2\\x0f\\x8d\\xef\\x84\\x9fK\\x808\\x08\\x10\\x95\\xf7\\xbc\\xeak\\x7f\\xb8Wo\\x97\\xb3\\xe3\\x05G\\x03m\\xc6o\"\\xff$\\xc0\\xd6\\xd6\\x81\\xa5\\x00\\xf1x\\xaeZ\\xbd\\xdb\\xf3\\xea6\\xbe\\xb5\\xfc\\xd880\\x05T[D-\\xc7\\x0f:\\xc1\\xd7\\xf0\\x83\\x00[\\x07\\xfb\\xafL;\\xc1\\xeb\\xab2\\x08P\\x15\\xfc\\x82\\xac\\x80b\\xcf3\\xa3o\\x8d\\xe8\\xb8\\xe1\\xc1\\xd1\\xd1\\xd1\\xd6\\xd6\\x1eD4\\xeac\\x1b\\xe3\\x8f\\x94\\xdf\\x17=:\\xc0\\xe3\\xfd\\x86\\x02\\x94\\xae\\xff\\\\\\x9e\\xf8*9\\xffN:\\x1e\\x8f\\xe5\\xef\\xf6\\x02\\xda\\x9d/\\x83\\xd6\\x90\\x1d9\\x15c\\x7f\\x7f\\xff\\x00\\xc4\\xd8J\\xa1\\x14L\\x89\\x16\\xe3;\\xe3\\xf7\\xedm\\x1d\\xb0\\xbfT/@\\xe9\\xea\\xb2@\\xfb \\x95\\\\\\x1aGA\\xdc\\x9f\\xaf\\xa4\\x02J\\xfc\\xc1\\x8cak\\xacR@!\\x05)ABp\\xea\\x10lA\\xfa}\\xaa\\xe4\\xa7\\x8e\\xf6\\xa5\\xbfO#\\x00\\xd2\\x8b\\x83}\\xa8\\x92\\xae\\xe6\\xd8\\t\\xbc\\xc5\\xca\\xfd\\x902\\xff\\x97Y\\x93\\xf3\\x07^Y\\x04\\t\\x91\"CX\\xcb\\xe0<\\xf9N\\xf8}\\x03r\\xf2u\\x02\\x80\\xf3\\x0b\\xf5j\\x17\\xbc+\\x17\\xa5S\\x98\\xfb+)\\x9f\\xec\\x81\\x80\\xe9\\xca k\\xa9@]\\x07\\x1c\\x19\\xd1!c;\\x04[\\xc9\\xefC\\xeb\\xef\\xab\\xfe\\x1eY\\x80,\\xd0g\\x94\\xe5>p\\x97\\x8f\\xc7\\x8b\\x0bL\\x81\\x91j\\xdd\\x03\\x97\\xe6K\\xc3\\xd2\\xf9+\\xce\\x10u\\x88\\x0e\\x04T2\\xb4\\x06\\xdf\\xc7\\xe0\\x07t\\xf4u\\x01\\xb2W\\x97\\'\\x9ac\\x9dQ\\x98\\x05\\xfawr\\xd2\\x19\\xfd\\xd5\\xfb(\\x9b\\x00/\\xaf\\xadN\\xab\\xe5V@*\\x10\\xe2\\xb0`vh\\x19\\xbf\\xcf\\x175\\xa2\\x97\\x05\\xb8\\xb8\\xd4\\x1f\\xe9\\xde\\xdb\\xc9\\xc5\\x8a\\x92\\x00 \\xc1\\x0e)\\x10(\\\\[\\x9eG\\xe4P\\x01\\xed\\xb0@\\x19\\x9c\\xe1s\\xf0\\x07\\x01\\xfe\\xc8\\x90^\\x16`\\xf7Jm\\x7f\\x12 \\x8dy/\\xd6_\\xcbPC\\x05l\\xf8\\xc5\\xa5aC\\xb1\\xcf\\xa1\\x83S\\xfc\\xa0\\xcf\\n\\xbe.\\xc0\\x86\\xa7\\xf4\\xe7\\xc4\\xab\\x15 \\x17_(\\xa7s\\xf2\\x89@\\xfe\\xf4}\\xf4\\xe4\\xca\\xf6\\\\\\xb2\\x8b\\x86\\x15\\xd0\\xea0\\x10\\xf4z\\x03\\x8d\\xf2\\x0f!{\\xea\\xe8\\xc0\\n^S\\x04/3^\\xcd\\x10\\xf0\\xa7k\\xe5jZ\\xc8\\x8dH\\n\\xdc]e=-W@-D\\x8a5\\x95b\\x85\\xb4\\xc5\\x1f\\x1a\\n\"\\xf9^j\\xcb\\x9e];\\r\\x96\\xae\\n\\x83^u\\r\\xd8)\\x16\\xd3\\xd5\\xf2m\\xb9*\\xe4\\xc9\\t\\xc2\\xcf\\x92\\xbd\\x00la\\xe4Z\\xc8Me\\x8au\\xd8\\x03\\x03C^\\xcd\\xb4\\x81\\x0f\\x06\\x06\\xa2\\xc0\\x8d\\xe0H\\xbe\\xcf\\xfd\\xebU\\x8dP\\xe9\\xf2\\xc4\\xebU\\xcc\\x02 \\x00\\xbe>\\xa1*\\xa4+\\x95\\nZ\\xc1_\\xdb\\xe5\\xb0\\x80\\xc7]\\x05TZ\\x80\\x18\\x07\\xa8\\x07\\xae9`\\xd5\\x01\\x01\\xf7G\\x08\\x8d\\xd8\\xfb\\xce\\x7f\\xa7\\xa6\\x13\\xbc*Hg\\xb5\\xa0\\x00\\xfd\\xd8\\n\\xc6\\x84Z\\xb1X\\x16\\xc0\\n B\\x99\\xeb\\x9c\\xd2\\xd2\\xf9\\xab\\'\\x13\\xda\\xb5\\x00\\x16C\\xaf4\\x04\\xf2\\xb8\\x16\\xf0\\x97!\\xfd\\x02\\x9e\\x01\\x18+\\xff\\xbc\\xe01@\\xe9\\x9f\\xc3\\xa7+\\x80\\'\\x0b3\"Ip/\\xf8\\xaby\\x1c\\xf7\\xd5|N\\xac\\x81\\\\\\xf8&\\x8b\\xa2\\'#\\x00\\x9a\\x00\\x15\\x88Vr54@\\xbe\\x9c\\xc7\\x17~\\xe7\\x85t\\xf5\\x9f\\x92\\xe7\\xbf\\x96\\x7f\\xe3\\xfd\\x00\\xe8\\x8b3\\x83\\xf7y\\\\\\x0c\\xc6\\x84\\xb2\\x00\\xe8e\\x88\\xea\\xede\\xe9?\\x97\\x7f\\x93\\r\\x11\\xcfua\\xafR\\x84\\xc5`,}^\\x01\\xf4Z\\xb9\\x96\\x8f\\xe5\\xeeN\\xae\\xffs\\xf97\\x13\\xa0tr\\x9f\\xdf\\x81\\xc2\\x97.W\\xa1\\x0e\\xf8\\xc1\\x02\\xe9Xz/p\\xf5\\x9f\\xcb\\xbf\\x99\\x00W\\x99J\\x11\\x06@\\xb5*\\x94\\xcb\\xb5\\\\\\xae\\x9a\\x13j\\xb9J4\\xf0\\xc7\\xae\\x08\\x96\\xfe}j\\xfc&\\x02\\xfc\\xb9O\\x0b\\xe9x\\xb5\\x06\\x8b!X\\x10\\xc2\\x87\\x90\\xce\\xdd\\xf9\\x02vE\\xe0\\xe9\\xe5\\xdfL\\x80\\xcb\\xbbb-\\x0fY\\x87N\\x08\\xe8sP\\x04\\xf2\\xf9\\xfb`\\xa0P\\xfao\\x8d\\x7fS\\x01\\xb2\\x85\\n\\xf4\\xbf\\xe5\\xe2\\xc8H5]\\x85R \\x94kB9\\x15\\xf0Z\\x1f#}\\x8a\\xf97\\x11\\xe0:S\\xa9\\xc1\\x12(\\x17\\xf7\\xe7a\\x1dT\\x83V\\xf0\\xbc|\\xbb\\x170\\xdc\\r\\x7f\\xda\\xfc\\x07G\\x86\\x02\\\\e\\xeeooo\\xab\\xc5|\\xba\\\\\\x81\\xfb\\xdb\\xeaN\\xa5\\x8a\\x02X\\x15\\x01\\xc6\\xbf\\xffj\\xffI\\xe1om\\x19\\np\\x99IU\\xce+\\xa8\\xc1-\\xa6\\xbfV.\\xe7\\xab\\x15\\x14\\xc0\\xa2\\x08\\xd0\\n\\xf0 \\xb5\\x97\\xa2\\x15\\xe9Q\\x83k\\xb36\\xc6>\\xee6\\x98\\x08P\\x18\\xdc\\xbb\\xad`\\xf7W\\xaeU\\xaaBU\\x10\\xa0\\x1f\\xaeD\\xbd\\xde@\\xe6\\xda2\\xff\\x07{\\x01\\xe9\\x05#C\\x03\\r\\xad\\xce\\xdb\\x98|\\xf8\\xe3\\x80?%m\\x89\\xa9h2\\xb8\\x12(Vj\\xe9\\x1d\\xe8\\x83\\xcbB\\x05\\x85\\xf8\\x1e59$\\xa6\\xc8\\xff\\x9ej\\x87\\x7f0@\\xbb\\xc8>\\xdc\\xa8`B<\\x9e\\xe4\\xa7\\xf6|\\xd1\\xad-\\xd9\\x01\\x1bj\\x01\\xae\\x02\\xde\\xe0]1V\\xae\\xee\\x08\\x95j\\xb9v[\\xab\\xdc\\x96o\\xe9\\xd0w\\xc0\\xf8\\x98@\\xd6\\x88\\xbf\\x1eC\\x01\\x94\\xc2\\xd1FUK\\xe9\\xb7\\xf6p\\xfb(\\x8a\\xf8\\xcc\\x01\\x1b\\x1a\\x07\\xfc\\txq1\\\\\\xab\\x94o\\xd30\\x14\\xe0\\xa3&\\xe4\\xef\\xf0\\x88V\\xc6\\xb8\\x08X\\xf3\\xcb[\\x9a\\xa8\\xc3\\xe0\\xd0\\xc3\\xeapp\\x94\\x8a\"=\\n 9\\x00\\xf8\\xd55\\xe0\\x12\\x04H\\xa5a!X\\xb9\\xadTkB\\x8e.\\xees\\x87G\\x86\\x02F\\xeb!\\x96\\xff\\xfd\\xbd \\xe7\\x81.<\\x1f|p\\x80\\xc6E{\\xeb\\xc3>\\xd2\\xfbD|+\\x07\\x14 Q{e(\\x02\\xe9\"\\xb0\\xd3\\xcb\\x1fc\\xc5\\xfb \\x1d\\xbb1\\xd8\\x16f/\\x9f\\xd9s|\\x9c\\x0f\\xcf\\x8bo\\x9f\\x1d\\xc0\\xf9Jz\\x85\\x036\\xb4\\x0e(\\x89\\xfb!\\xc5Z\\x0e_\\xf0\\x18\\xc3\\xcd\\x90Z\\xf9\\xf2\\x84\\x8e]\\x99\\xbd\\x84,\\x15l\\xec8\\'\\x9e\\x07N\\xe5\\x01\\xcbd\\xab\\xec\\x80\\xa9\\xdf\\x1bP\\xd1\\xd7\\x1d@\\xfc\\x1b\\x9a\\x1a\\x08%\\xeb\\xae\\x08\\x02\\xc4\\xf3\\xb4\\x1b\\xf2\\xf3\\xe7\\xc5n\\xe9\\xaa\\x80L\\xdaV\\x88]s\\xceh\\xfc\\x07\\x9d\\x1c\\xe6\\xa7\\xb3\\x9fa\\xbaH\\xb9=,\\xf6\\t>\\xaa\\x85W8`CW\\x03\\xfe\\xd0d~/\\xc0\\n\\xa0\\x8a\\xeck%i\\xc78\\x13\\xd0\\x16\\x01v@\\xfch\\xa0a|\\xf5\\xa1\\x0eY\\x87\\x94\\x0b\\xfd\\xc3>\\xb5:{xX8j\\x14\\xe4\\x00\\x1c\\x02Z\\x07\\x14h\\xfe\\xbe+\\xff\\x83yW\\xcf\\x8f`\\x02\\xf5\\xc9a\\xff\\x1e\\xba\\xc9/\\x1d\\xee\\x19\\xc2\\xf14@\\xf5a\\xab\\x81\\x9e\\xb2~pM<1 j,\\x00\\x85\\xde\\x01\\xd9\\x13*\\xf7kk\\x063\\xdeUA5\\x06X\\xff\\xa7\\xe7o\\x0e_y|\\x0f,1$\\x1e\\xf1\\xa1^\\n\\xc50\\x96C<hr$\\x1eV\\x1cR\\x9c\\x14\\x12\\x8d:r\\xc05\\x9d\\x05f\\xb2\\xf0\\xbd.(:\\x81V\\xf3+\\x8f\\xf8\\x91\\x16>v\\xf8\\x0b\\xe4\\xa0s\\xfc\\xa4\\xc0\\xaf\\xd8a\\xb3({\\xc5\\xcc@TyBT4\\xea\\xcc\\x01X\\x03\\xcd7\\xbfJ\\xf5\\xf3#L\\xf8\\x1be\\xe7:\\xd4/\\xbe\\xf2\\x93^$\\xa3\\xfdo\\x03jn;~I\\x00\\x9d\\x03\\xa0\\r\\xcaX\\x9d\\x05\\x93U\\x9f\\x1a\\x19u\\xe3\\x1c\\x1f^|\\x8b\\xd3\\x1e\\xcd\"\\x1au\\xea\\x80\\x82a\\xb7c\\xd2\\xffi\\xf9\\x1bO\\x7fk\\xf0-\\xf8\\xcd\\x1cp\\r+\\x1e\\x9e\\x03@\\xe2\\xe9\\xd1.\\xa5\\xdf\\xd7~~3\\x07\\\\\\x05\\n\\xd9\\x06\\xf9\\x9f\\x14\\xbe\\xca\\x01\\xca\\xe5\\xf0e\\xe6\\x9a\\x9b\\x7f\\xaf\\xe9\\x13\\x1c[\\x89o\\xc3o\\xe6\\x80\\xc2\\x15\\x07?\\xbdPJ\\xcd\\xdf\\xae\\xda\\xe7\\x1a\\xbf\\x89\\x03J\\x7f8\\xf8\\xdf\\x9e\\xeb\\xd6\\x7f\\x8f.\\xfd\\xb6\\xfc*\\x07l\\x18\\xccr\\xb6\\xfc\\xc1\\xa6^\\xdb\\xd1\\x10\\xbe\\x9b\\xfc\\xb2\\x00\\x14\\x1e\\x07A\\x0b U\\xfe\\x1f\\x1f>\\x07\\xbf\\xc2\\x01\\xce\\x04`\\xfc)\\xe9\\xec,.\\xfeG\\x88O\\x02\\xdc\\xdfU\\x1d;\\x80\\x1a\\xe0\\xc3;|E?{\\xfd:\\x0b\\xf6\\x1av\\xe9E\\xec\\x99:\\xb3[\\xf8\\xae\\xf3G\\x01\\x7fgg\\xc7\\xb1\\x00\\xd8\\x00\\x1eV\\'\\xf0\\xea\\x05\\xfd#x\\xa9\\x0fv\\x15\\x87\\x05\\xb8\\xad\\xd2\\xc5\\x0cfo\\xce\\xce~|\\x15\\xafc\\x80R\\xc8\\xeb\\x996\\xe1s\\xf2\\x17*;;\\r\\x08@\\rp\\xa5huA\\x8b\\xd5\\xd5\\x89\\xe1\\x85\\xfeU|#\\x83\\x1b\\x92\\x82\\x94\\x90\\xael\\xd0j\\xf7\\xf3\\xf1g\\xbe\\xfc\\x98\\xddiD\\x00j\\x80\\xac\\xf9\\xd5W\\xf4\\x18\\xee\\x17/g\\xf2\\x83\\t\\xd1@\\xf2\\xddO\\x7f\\xe1\\xeb\\xcd\\xeclC\\x02l \\xffm\\x91\\x17\\xbf~y\\x8f\\x85\\xd5\\x89\\t\\xf8\\xb89k@\\x07\\x97\\xd3\\x7f\\xf2\\xe5l\\x16\\xe3u\\x03\\x02P\\x03p\\x9bw\\xce\\xaf\\xb8\\x98\\x17^\\xcf\\x8ct\\xc0q\\xe16\\xfe\\x80=\\xfd\\x8fY)\\x9c\\x0b@g\\xc0\\x9e\\xe79\\xe1\\xcd.h\\x862\\xccLNN\\xd0e~\\xc8\\x0e\\xedJ\\xbf\\x92\\xbe\\x11\\x01\\xa8\\x01\\xf8.\\xf0\\xf1\\xaf\\xda\\xc7\\x84x}7\\xf1\\x9a?\\x19zi\\x8b\\xfa\\x82O\\xee\\xa5?S\\xf8\\n\\xce\\x7f\\xdd\\x94\\x00\\xd8\\x00|O7\\xe8}\\xf3K[NLb\\xcc\\xa0\\x0clXH/\\xf0r\\x88?`\\x05\\xff\\xe3fV\\x17N\\x05\\xa0\\x06\\xa0fp\\x11\\xfb\\xfe\\xa6\\xf0\\xa5\\xc0g\\'g^\\xd7up#\\xfd\\x03\\x19\\x11\\xfe\\xf5l\\xd3\\x02\\\\P\\x03\\x94k\\x11\\xbeR\\x89\\xc9\\x99\\x99\\x19y\\xda\\xcc\\xf8\\x1a\\xe4\\x17\\xafP\\x87\\xe5\\xfe\\xb5\\x11\\xbeS\\x016\\xcc\\x1a\\x00\\xe7\\xfc\\x13\\xd6A#b\\x15\\x06\\xc5\\xcc\\xa4(\\x84\\xd8S\\xfa8\\xfc\\x0e\\xdf\\x91/J7\\xcb\\xe0\\xcd\\xf8\\x9d\\t\\xc0&@\\x0e~W\\xf0\\xe5\\x80\\x81\\x81\\xf5a\\xe6\\xf5k\\xbcL\\x18k\\xb0\\x0b\\xaa\\xcb\\xf9fT\\x17\\xd8\\xa2\\x0b\\x8e\\xcd2\\xc7\\xbf\\x96c\\xb6y\\x01Jm\\xe2\\x9f4\\x88\\x19\\x16\\x13\\xab \\xc3kzHPg\\x8a\\xa0\\\\\\x8b\\xc4\\xec\\xdb\\xca\\x98m^\\x00\\x9a\\x00\\xcf\\x05G\\x972t\\x17_\\x1f\\x93\\xe2\\x8fCK\\xa1C\\xe6\\xe2w\"\\xc0O\\xe3\\t\\xf0\\x01\\xf1gd+\\xd8\\xc4\\xec\\xac\\x0b\\x02\\xd0\\x04\\xd04\\xff\\x84c\\xfe\\x99\\x96\\xf2\\xf3\\x0b\\x80/\\x865\\x98\\x00[\\x8d\\xefB\\xfa-\\xf9\\xb9\\x05\\xa0\\x02\\xa8\\x9b\\x00]M\\xffdk\\xd2o\\xcd\\xcf+\\x00\\x15\\xc0\\xdbb\\x0b\\xd3\\xdf*|K\\xfe\\x1bn\\x01p\\x05\\xa0[\\x01:\\xe2w\\x1f\\xbfY~\\xea\\x91n\\xf8\\x04\\xa0\\t@pz\\x15\\xeb\\xa6\\xf0\\xddI\\xbf\\xb5\\xff\\xb9w\\x84\\xa8\\x00\\xd6Z\\x95\\xfe\\xc9\\x07J\\xff\\r\\xdd\\xf1\\x08@\\x1dp9\\xd7p\\xf9{(\\xf7\\xdb\\x94?\\x85\\x03\\xca\\x96\\x02P\\x01\\xac\\x98\\xf0\\xdb\\xbf\\xa1\\xd1\\x83\\xe1\\xdb\\x0e\\x7f\\xa9\\x06\\x94\\xff\\xae[\\n\\xf0\\x8f\\xd1\\x04\\xb0Pdo\\xb1\\xfe\\xe93\\xbd\\xe1a=\\xe4\\xb7=d\\xc7\\x07V\\xdd\\xc7o\\x9e_\\xc2\\'\\x07\\x00\\xfe\\xc7\\x8fV\\x02\\\\(\\x0b\\xe0BN\\xf1\\x16\\xa0\\x10\\xdb\\x8b\\x8b\\xa1e\\x88\\x151\\x96\\xe7\\xe6B\\xa7K\\xcaw\\xbe\\xc4\\xb7\\xbe\\x9c0vBK\\xf1\\xed\\xf2/>\\xac\\xfd\\xde\\xfc\\xf8\\xee\\xdd;\\x0b\\x01p\\x0b\\xe00=\\x8c)\\'\\xf0\\xd3\\xd3%|\\xfff\\xe9\\r\\xdc\\xe7\\xe4GR,\\xb3@5V\\xe6WB\\xbfOO\\xff\\xcao\\x02\\xaa\\xdb\\x03{\\xa0\\xf4\\x83\\x06x\\x13\\xaa\\x7f\\x13\\x88o%\\x00u\\x80U\\xe1\\xd3g@\\x1f\\'r\\xf5;\\xd8+\\xc05\\n\\xb0\\x08\\x81\\x12\\xcb\\xf3\\x10\\xcb\\xbfO\\xe9\\x1dpQ\\x08<8\\xf0P\\xe9\\x97\\xf3\\x7fS\\xfb\\xf6{t}\\xf4\\x9d\\xb5\\x00T\\x007\\x8fO\\x97\\x00\\\\\\xf1\\x1e\\xde!\\xf3X\\xd6\\x854:VV\\xe6\\xe7\\xc3a\\x10\\x82\\x1c\\x81:\\xa8}\\xe0\\x1e\\xbe}\\xfeg\\xd3\\xbf\\xfe&\\xd6G!l\\x04\\xa0=\\xd0e\\x84\\x9f\\x9bS\\xbd\\x7f=7\\xff\\x8a.\\xc0\\x0e\\xe1\\xf9\\x15\\xd2\\x01\\xfdPd2\\xcc\\xb4%\\xfd\\xac\\xf6\\t\\xbf\\xfeb\\xf2G\\xed\\x05\\xd8E\\xfe\\xf0\\xa2\\x1a\\x7f\\xae\\x81\\xf4k\\x04\\x10C\\xf4\\x03\\xd9\\x01\\xb76\\xda\\x91\\xfe\\x9b4\\xd2K\\xf86\\x02\\x94p\\x0ft\\xd4\\xd5\\xf4+\\xf0\\xeb2\\x84\\x7f\\xff>e\\xc3\\x02\\xec0\\xd9\\x1c\\xbe%\\xbf\\xf0\\xf9\\x1b\\xd2+\\x83\\xf8M\\xa6A*\\x00\\xef\\xb9\\xf9\\x1b\\xc3\\x97DH$\\xc2+\\xcc\\x0e\\xa4\\xc3\\xa4\\xeb\\xf8B\\rR\\x9f\\x1c]_\\xd7\\x0b`\\xd6\\x07\\xe0\\x12\\xf0c\\xc8E\\xfey\\xcb\\x08\\xa3\\x17\\x12\\xc9\\x84B\\x07qT4\\xcb\\x9f\\x17>\\x03|bt42\\xaa\\x0b\\xe27\\x16\\x80\\xf6\\xc0\\x969\\xf9\\x9bI\\xbf<\\x12X\\x90\\x0e\\xa2\\x1fp\\\\`\\x81hl\\xef\\x0b\\x9e\\x80\\t\\xfc\\xd71f\\x1e\\xe9\\r\\xf8-\\x04x\\x8bg\\x81$\\x1a\\xe4o\\x1c_\\x19\\x89\\x84(\\xc4_\\xa9\\xa9\\xcc[)!Qc@\\xc3Z#tt=K\\xbd\\x11\\xfe\\xe8:\\xf1\\x1b\\t\\x90\\xc5\\x0eh}\\xce\\xad\\xf47\\x80/\\x8a\\x802\\x84\\x93\\x91\\x08(\\x81R\\x80)~\\xb1%\\x87 \\xe0\\x9a\\xe3F\\xfe\\xa0\\xf7cO\\x7f\\xc67\\xa8?\\xfe\\x0b\\xe4a\\xa2\\xa60\\xc3\\x87\\x8a@\\xfc\\xa2\\x00\\xbb\\xda%\\x10\\x14\\x00w\\xd2\\xdf0\\xbe\\xc2\\x0b\\xe4\\x87D\"\\x99\\x8c$\\x93\\xe1\\xf9\\xdf\\x18\\x7f\\x7f\\xff\\x05IX@\\xa3\\x89O\\xcd\\x87\\x13\\x11\\xd1\\xee\\x119\\xcc\\xf0\\x81\\x7f\\xfd\\xa3\\x89\\x00\\x17\\xc0\\x7f\\xb8\\xd2\\x0e\\xfe0\\x1f\\xbf&\\x92I\\xf8\\x80\\x88D\\x92\\xe2=DR\\xfa\\x97\\x8c(\\x83\\xf8#\\xf6\\x02\\xec*\\x04(\\xb1\\x0e\\x88\\x83\\xbf=\\xe97\\x8b\\xa4:H\\x00\\r~\\xc4\\x14\\x1f\\xf9\\x15\\x02\\xec*\\x05\\xc0\\x02\\x10\\x99s\\x83\\xbf\\x8d\\xf8\\x1ap9\\xffV\\xfcu\\x01v\\x95\\x02\\xfc\\x04\\xfew\\x1f\\xec\\xf9[\\xef\\xfeD\\xd3\\xfc\\x11\\x8b\\x02\\xa0\\x10`W)\\xc0.\\x16\\x80E\\x17\\xf8\\x1f\\x1c_d\\x8f\\x98\\xf2K\\x02\\xec*\\x05\\xc8\\xe2\\x12 \\xc4\\xc3\\xcf\\x10\\x95\\x7f2\\xa1\\xb5\\xae\\xf69\\xb7\\x7f\\xc4\\xca\\xff&\\x02\\xe0\\x12 \\xb9h\\xca\\xbf\\x0c\\x7f=\\xfc\\x01\\x11\\x13g\\x89\\x81\\xf5\\x08\\xe6\\xaep{\\xf0\\xcd\\xf8M\\xffF\\x11\\x7f\\xf3\\xbd\\x81\\x008\\x03~4\\xe2_Fp\\x1bn\\x9d\\xc2\\xb8\\xf8@-TR\\xb4\\x05?2\\x1a\\xb1\\xae\\x7f\\xeb\\x9b\\xac\\x0b\\xd2\\x08\\x80-\\xf0\\xa1\\xd6\\xff+\\xf3\\xe1\\xa4\\xcaU\\x91\\xd1\\x08\\x1f\\xbe2\\x98\\x12\\xcd\\xe2s\\xf3\\x8f\\x8eZ\\xd6\\xbf\\xf72\\xbeJ\\x00j\\x81\\xe7\\x15\\xfc\\xcb2\\xbb\\x8d\\xabl\\xf9\\x15\\x96@G\\xb46\\xfdV9Rx_/\\x00\\xce\\x80\\x9b\\xd2\\x00\\x08\\xa9\\xe0\\xa5\\x9e\\xda.\\xff\\xeb\\x9c\\x01\\x86H$Z\\x98~\\xd3\\x05\\xd0\\xa62\\xf9\\x10\\xcfz\\xeb\\x02l\\xc8\\x05 \\xb4\\x12N\\x1a\\x15\\x15\\xe5\\xef\\x8c\\xbc\\x80x\\xa6\\x08\\xfc\\xda^\\x80M\\xba\\xc1=\\x04\\xea\\xa0\\xf2C\\xc2\\xb5\\xf4\\x9b\\xd2k\\xf0\\xfb::d\\x01p\\x06<\\x0c\\x19\\xd2\\xd7U}\\xf1\\xac\\xb3\\xbb\\xbb\\xa7\\xb7\\xaf\\xab\\xc3$\\xba\\xba\\xfaz{z\\xba;;A\\x10#|\\xf1\\x1e\\xe87\\xa5\\x90tp\\x86o\\xcao\\xe6M\\xa4W\\xf3w\\xf7\\xd1\\x9f,\\t\\x80k\\xc0dh>a\\xf4\\xbbGG_tv\\xf7\\x98c\\x9b\\xa9\\x01bt\\x83\\x14Z\\x030\\xfcu\\x85\\x08\\xb2\\x0e\\xcd\\xa6\\xdfx\\xf6_\\x7f\\xcf6@\\x15\\xfc/z$\\x1aQ\\x00\\x9a\\x01\\xc3\\x06\\xbf\\xfc\\xc53@\\xefh.\\xba\\xfa\\x98\\x10\\x9b\\xf5\\xf4\\xab\\xe05:D\\x1aO\\x7fD_\\x956%\\xfa:\\xff\\xbbN\\x05\\x11\\x13 \\x8b3\\xa0\\xf6\\x97\\'_t6\\xcd\\xae\\np\\x04\\xe9`\\x1fR\\x0f\\xe1\\x04_7\\xfb+\\xd9\\x15\\xfc\\xcfzTVf\\x02`\\x0b8\\xaa\\xfa\\xf5/:{\\xbb:Z\\x13}\\xbd\\xe8\\x07{\\x15\\xde\\xbf\\x97\\x95\\xe0\\x1d\\xfd\\x11)\\xed\\x1av\\x99\\xffE\\xb7\\x96\\x8a\\xf8q\\x06\\xfcX_X\\'4\"\\xb5H\\x07\\x1c\\x17V\\xf8\\xca@)\\xd6G\\xe5\\x9d.C~\\x1a_\\xf0\\xb3\\xef\\x0c\\x03\\x9c\\xff\\xac\\xdb\\xc0\\xd0\\xc8\\x7f\\xa1\\x1c\\x00\\x90\\xfa\\x8e6F\\x17\\r\\x0b#\\xfcM\\xf1f\\x18:\\xa1\\xde\\xd9E\\xa7IR\\x81\\x9f^\\x0cO6K\\xb4\\x99\\xdelX\\x10\\xbe\\x83 \\xc2\\xf7t3L\\xbea\\xea\\xeb\\x02\\xe0\\x00x\\x8f\\xfc\\x0fE\\xaf\\x9d.\\x18\\xfc&\\x87\\x08\\x12\\xb5\\x19\\xfa\\xbbw/\\xac\\xe0\\x99\\x00l\\x00D^vwu<\\x96\\x10\\xfd`\\x8f\\xaft\\xbfV\\x84\\x8f8\\x83\\xdb3\\xed\\xd2\\x1b\\x88\\';\\xfb:\\x1e_H\\x9d\\xd4\\xa6\\x95\\x03\\x8c\\xccO\\xcd\\x0bg>q\\x00\\x1c>\\xa2\\xe4\\x9bv\\x10(\\x05.9\\x8c\\x86?\\xa9\\xf0\\x1e\\xd6&\\x9d\\x96\\x8d\\xbaa\\\\\\x1c\\xfe_O\\xc7\\xd3\\nXp\\xf4\\xf5B\\xf4P\\xe0\\xa3\\xbe\\xbe\\xae\\x86S\\xf8\\xbc\\xb7\\xe3\\x7f:\\xfe\\x1fvq\\x1c<\\xc5\\xd0`x\\x00\\x00\\x00\\x00IEND\\xaeB`\\x82'"
      ]
     },
     "execution_count": 37,
     "metadata": {},
     "output_type": "execute_result"
    }
   ],
   "source": [
    "r.content"
   ]
  },
  {
   "cell_type": "code",
   "execution_count": 35,
   "id": "888c75d6",
   "metadata": {
    "slideshow": {
     "slide_type": "fragment"
    }
   },
   "outputs": [
    {
     "ename": "ImportError",
     "evalue": "cannot import name 'Image' from 'ipywidgets' (unknown location)",
     "output_type": "error",
     "traceback": [
      "\u001b[0;31m---------------------------------------------------------------------------\u001b[0m",
      "\u001b[0;31mImportError\u001b[0m                               Traceback (most recent call last)",
      "Cell \u001b[0;32mIn[35], line 1\u001b[0m\n\u001b[0;32m----> 1\u001b[0m \u001b[38;5;28;01mfrom\u001b[39;00m \u001b[38;5;21;01mipywidgets\u001b[39;00m \u001b[38;5;28;01mimport\u001b[39;00m Image\n\u001b[1;32m      2\u001b[0m Image(value\u001b[38;5;241m=\u001b[39mr\u001b[38;5;241m.\u001b[39mcontent)\n",
      "\u001b[0;31mImportError\u001b[0m: cannot import name 'Image' from 'ipywidgets' (unknown location)"
     ]
    }
   ],
   "source": [
    "from ipywidgets import Image\n",
    "Image(value=r.content)"
   ]
  },
  {
   "cell_type": "code",
   "execution_count": 21,
   "id": "c37fb2dd",
   "metadata": {
    "slideshow": {
     "slide_type": "fragment"
    }
   },
   "outputs": [],
   "source": [
    "from threading import Thread\n",
    "class Drapeau(Thread):\n",
    "    def __init__(self, code):\n",
    "        super().__init__()\n",
    "        self.code = code\n",
    "\n",
    "    def run(self):\n",
    "        url = f\"https://flagcdn.com/256x192/{self.code}.png\"\n",
    "        self.r = requests.get(url)"
   ]
  },
  {
   "cell_type": "code",
   "execution_count": 22,
   "id": "2a3efdf5",
   "metadata": {
    "slideshow": {
     "slide_type": "fragment"
    }
   },
   "outputs": [
    {
     "name": "stdout",
     "output_type": "stream",
     "text": [
      "CPU times: user 2.41 s, sys: 470 ms, total: 2.88 s\n",
      "Wall time: 2.14 s\n"
     ]
    }
   ],
   "source": [
    "%%time\n",
    "threads = []\n",
    "for c in codes.keys():\n",
    "    thread = Drapeau(c)\n",
    "    thread.start()\n",
    "    threads.append(thread)\n",
    "\n",
    "for thread in threads:\n",
    "    thread.join()"
   ]
  },
  {
   "cell_type": "code",
   "execution_count": 23,
   "id": "7c144835",
   "metadata": {
    "slideshow": {
     "slide_type": "fragment"
    }
   },
   "outputs": [
    {
     "data": {
      "application/vnd.jupyter.widget-view+json": {
       "model_id": "03149b1174f44744a039a3ca3ad494a3",
       "version_major": 2,
       "version_minor": 0
      },
      "text/plain": [
       "Image(value=b'\\x89PNG\\r\\n\\x1a\\n\\x00\\x00\\x00\\rIHDR\\x00\\x00\\x01\\x00\\x00\\x00\\x00\\xc0\\x08\\x03\\x00\\x00\\x00\\xdc3MT\\x…"
      ]
     },
     "metadata": {},
     "output_type": "display_data"
    }
   ],
   "source": [
    "from ipywidgets import Image\n",
    "Image(value=thread.r.content)"
   ]
  },
  {
   "cell_type": "markdown",
   "id": "5212b2e8",
   "metadata": {
    "slideshow": {
     "slide_type": "subslide"
    }
   },
   "source": [
    "##### Mauvais usage du multithreading"
   ]
  },
  {
   "cell_type": "code",
   "execution_count": 94,
   "id": "12ef5294",
   "metadata": {},
   "outputs": [],
   "source": [
    "class LocalUpdate(Thread):\n",
    "    def __init__ (self,grid,row,col):\n",
    "        super().__init__()\n",
    "        self.grid=grid\n",
    "        self.row=row\n",
    "        self.col=col\n",
    "        self.val=0\n",
    "        \n",
    "    def run(self):\n",
    "        live_neighbors = np.sum(self.grid[self.row -1 : self.row + 2, self.col - 1 : self.col + 2]) - self.grid[self.row, self.col] \n",
    "        if live_neighbors < 2 or live_neighbors > 3:\n",
    "            self.val= 0\n",
    "        elif live_neighbors == 3 and self.grid[self.row, self.col] == 0:\n",
    "            self.val= 1\n",
    "        else:\n",
    "            self.val=self.grid[self.row, self.col]\n",
    "\n",
    "def update_threaded(grid: np.ndarray) -> np.ndarray:\n",
    "    n, m = grid.shape\n",
    "    next_grid = np.zeros((n, m), dtype=np.int8)\n",
    "    # on parcours les lignes et le colones \n",
    "    threads=[[None for _ in range(m)]for _ in range(n)]\n",
    "    for row in range(n):\n",
    "        for col in range(m):\n",
    "            thread=LocalUpdate(grid,row,col)\n",
    "            thread.start()\n",
    "            threads[row][col]=thread\n",
    "    # On récupère les résultats\n",
    "    for row in range(n):\n",
    "        for col in range(m):\n",
    "            next_grid[row,col]=threads[row][col].val\n",
    "    return next_grid"
   ]
  },
  {
   "cell_type": "code",
   "execution_count": 95,
   "id": "d51922b1",
   "metadata": {},
   "outputs": [
    {
     "name": "stdout",
     "output_type": "stream",
     "text": [
      "CPU times: user 26.6 ms, sys: 58 ms, total: 84.5 ms\n",
      "Wall time: 110 ms\n",
      "Speedup comparé à l'original python pur 0.03 soit une multiplication par 31 du temps de calcul\n"
     ]
    },
    {
     "data": {
      "text/plain": [
       "<matplotlib.image.AxesImage at 0x7fb1e682b730>"
      ]
     },
     "execution_count": 95,
     "metadata": {},
     "output_type": "execute_result"
    },
    {
     "data": {
      "image/png": "[encoded data removed]",
      "text/plain": [
       "<Figure size 432x288 with 1 Axes>"
      ]
     },
     "metadata": {
      "needs_background": "light"
     },
     "output_type": "display_data"
    }
   ],
   "source": [
    "%time update_threaded(grid)\n",
    "print(f\"Speedup comparé à l'original python pur {3.58/110:0.2f} soit une multiplication par {110/3.58:0.0f} du temps de calcul\")\n",
    "plt.imshow(update_threaded(grid), cmap=\"gray_r\")\n"
   ]
  },
  {
   "cell_type": "markdown",
   "id": "81ddb860",
   "metadata": {
    "slideshow": {
     "slide_type": "subslide"
    }
   },
   "source": [
    "Entrer dans le détail du multithreading dépasse le contenu de ce cours. Pour aller plus loin\n",
    "- [`asyncio`](https://docs.python.org/fr/3/library/asyncio.html) (quelques incompatibilités avec jupyter)\n",
    "- https://realpython.com/python-concurrency/"
   ]
  },
  {
   "cell_type": "markdown",
   "id": "34754946",
   "metadata": {
    "slideshow": {
     "slide_type": "slide"
    }
   },
   "source": [
    "#### Parallèlisme\n",
    "La programmation parallèle est l'arme ultime pour les calcul de grande envergure mais elle ne s'applique pas du tout à un problème de taille aussi modeste. On distingue deux grandes familles:\n",
    "- mémoire partagée, avec **OpenMP**\n",
    "    1. fonctionne facilement sur machine personelle.\n",
    "    1. numpy (entre autre) utilise déjà ce parallèlisme pour les opération d'algèbre linaire\n",
    "- mémoire distribuée, avec **MPI**\n",
    "    1. sur supercalculateur\n",
    "    1. l'utilisateur dois gérer les communications entre les noeuds\n",
    "\n",
    "<img src=\"data:image/png;base64,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\" alt=\"Image\">"
   ]
  },
  {
   "cell_type": "markdown",
   "id": "dcd8b2c9",
   "metadata": {
    "slideshow": {
     "slide_type": "slide"
    }
   },
   "source": [
    "### Déporter des calculs sur GPU avec `cupy`"
   ]
  },
  {
   "cell_type": "code",
   "execution_count": 38,
   "id": "8a281d32",
   "metadata": {
    "slideshow": {
     "slide_type": "fragment"
    }
   },
   "outputs": [
    {
     "data": {
      "text/html": [
       "<iframe src=\"https://cupy.dev/\" width=\"1200\" height=\"800\"></iframe>\n"
      ],
      "text/plain": [
       "<IPython.core.display.HTML object>"
      ]
     },
     "metadata": {},
     "output_type": "display_data"
    }
   ],
   "source": [
    "%%html \n",
    "<iframe src=\"https://cupy.dev/\" width=\"1200\" height=\"800\"></iframe>"
   ]
  },
  {
   "cell_type": "code",
   "execution_count": 101,
   "id": "9a755abb",
   "metadata": {
    "slideshow": {
     "slide_type": "subslide"
    }
   },
   "outputs": [],
   "source": [
    "import cupy as cp\n",
    "def update_cp(grid):\n",
    "    next_grid = cp.zeros_like(grid, dtype=np.int8)\n",
    "    # on crée un tableau numpy avec la somme des voisins pour chaque case\n",
    "    N = (grid[0:-2, 0:-2] + grid[0:-2, 1:-1] + grid[0:-2, 2:] +\n",
    "         grid[1:-1, 0:-2]                    +grid[1:-1, 2:] +\n",
    "         grid[2:  , 0:-2] + grid[2:  , 1:-1] + grid[2:  , 2:])\n",
    "    # des masques pour les naissances et survies\n",
    "    birth = (N == 3) & (grid[1:-1, 1:-1] == 0)\n",
    "    survive = ((N == 2) | (N == 3)) & (grid[1:-1, 1:-1] == 1)\n",
    "    next_grid[1:-1, 1:-1][birth | survive] = 1\n",
    "    return next_grid"
   ]
  },
  {
   "cell_type": "code",
   "execution_count": 102,
   "id": "af58b288",
   "metadata": {
    "slideshow": {
     "slide_type": "fragment"
    }
   },
   "outputs": [],
   "source": [
    "grid_GPU=cp.array(grid)"
   ]
  },
  {
   "cell_type": "code",
   "execution_count": 106,
   "id": "12a3f2c2",
   "metadata": {
    "slideshow": {
     "slide_type": "fragment"
    }
   },
   "outputs": [
    {
     "name": "stdout",
     "output_type": "stream",
     "text": [
      "CPU times: user 3.33 ms, sys: 733 µs, total: 4.07 ms\n",
      "Wall time: 2.1 ms\n"
     ]
    },
    {
     "data": {
      "text/plain": [
       "array([[0, 0, 0, ..., 0, 0, 0],\n",
       "       [0, 0, 0, ..., 0, 0, 0],\n",
       "       [0, 0, 0, ..., 0, 0, 0],\n",
       "       ...,\n",
       "       [0, 0, 0, ..., 0, 0, 0],\n",
       "       [0, 0, 0, ..., 0, 0, 0],\n",
       "       [0, 0, 0, ..., 0, 0, 0]], dtype=int8)"
      ]
     },
     "execution_count": 106,
     "metadata": {},
     "output_type": "execute_result"
    }
   ],
   "source": [
    "%time update_cp(grid_GPU)"
   ]
  },
  {
   "cell_type": "markdown",
   "id": "e1777ac1",
   "metadata": {
    "slideshow": {
     "slide_type": "fragment"
    }
   },
   "source": [
    "Ici, ce n'est pas très efficace car le tableau est trop petit. Il faut des problèmes beaucoup plus grand pour tirer partie du GPU.\n",
    "- Réel avantage à partir de $10^7$ doubles"
   ]
  },
  {
   "cell_type": "markdown",
   "id": "0dc938e7",
   "metadata": {
    "editable": true,
    "slideshow": {
     "slide_type": "subslide"
    },
    "tags": []
   },
   "source": [
    "### Approche multilangages : bindings\n",
    "Python s'interface très bien avec d'autres langages, en particulier le C++."
   ]
  },
  {
   "cell_type": "markdown",
   "id": "bcbb1d15",
   "metadata": {
    "editable": true,
    "slideshow": {
     "slide_type": "fragment"
    },
    "tags": []
   },
   "source": [
    "**Mais pourquoi est-ce utile?**\n",
    "- si on a déjà une librairie C/C++ de grande taille, stable, rapide.\n",
    "- si on souhaite encore accélérer notre implémentation\n",
    "- si on utilise python comme un outil de test pour d'autres programmes"
   ]
  },
  {
   "cell_type": "markdown",
   "id": "60a6cb02",
   "metadata": {
    "editable": true,
    "slideshow": {
     "slide_type": "fragment"
    },
    "tags": []
   },
   "source": [
    "**Vaste sujet qui mérite un cours à lui seul!** Puisqu'il faut gérer:\n",
    "- les types\n",
    "- les allocations\n",
    "- les deux langages (et la compilation du C/C++)\n",
    "- les mutables/immuables\n",
    "- ..."
   ]
  },
  {
   "cell_type": "markdown",
   "id": "098f5aba",
   "metadata": {
    "editable": true,
    "slideshow": {
     "slide_type": "fragment"
    },
    "tags": []
   },
   "source": [
    "Quelques outils célèbres: \n",
    " - ctypes\n",
    " - PyBind11\n",
    " - Cython\n",
    " - F2PY\n",
    " - Pyjulia\n",
    " - gopy\n",
    " - ...\n",
    " "
   ]
  },
  {
   "cell_type": "markdown",
   "id": "a3332f18",
   "metadata": {
    "editable": true,
    "slideshow": {
     "slide_type": "slide"
    },
    "tags": []
   },
   "source": [
    "## Distribution et portabilité des paquets"
   ]
  },
  {
   "cell_type": "markdown",
   "id": "e37010e7",
   "metadata": {
    "editable": true,
    "slideshow": {
     "slide_type": "slide"
    },
    "tags": []
   },
   "source": [
    "### Préparation du dossier de développement"
   ]
  },
  {
   "cell_type": "markdown",
   "id": "637f2ab6",
   "metadata": {
    "editable": true,
    "slideshow": {
     "slide_type": "fragment"
    },
    "tags": []
   },
   "source": [
    "**On dispose d'un code déjà écrit et équipé de tests. Ici un simple helloworld.**\n",
    "\n",
    "```python\n",
    "#helper.py\n",
    "\"\"\"Deux exemples de helloworld pour notre premier projet\"\"\"\n",
    "\n",
    "def hello_world():\n",
    "    \"\"\"\n",
    "    Un docstring passionnant\n",
    "    >>> hello_world()\n",
    "    Hello World!\n",
    "    \"\"\"\n",
    "    print(\"Hello World!\")\n",
    "\n",
    "def hello(name:str):\n",
    "    \"\"\"\n",
    "    Helloworld interractif\n",
    "\n",
    "    >>> hello(\"lucas\")\n",
    "    hello lucas!\n",
    "    \"\"\"\n",
    "    print(f'hello {name}!')\n",
    "```"
   ]
  },
  {
   "cell_type": "markdown",
   "id": "a97f05cb",
   "metadata": {
    "editable": true,
    "slideshow": {
     "slide_type": "fragment"
    },
    "tags": []
   },
   "source": [
    "Structure générale du dossier :\n",
    "```\n",
    "helloworld/\n",
    "├── LICENSE\n",
    "├── README.md\n",
    "├── helloworld\n",
    "│   ├── __init__.py\n",
    "│   ├── __main__.py\n",
    "│   └── helper.py\n",
    "├── pyproject.toml\n",
    "├── setup.cfg\n",
    "├── setup.py\n",
    "└── tests\n",
    "    └── test_helloworld.py\n",
    "```"
   ]
  },
  {
   "cell_type": "markdown",
   "id": "b5d93611",
   "metadata": {
    "editable": true,
    "slideshow": {
     "slide_type": "fragment"
    },
    "tags": []
   },
   "source": [
    "Avant d'en étudier le détail, essayons l'installation!\n",
    "\n",
    "```\n",
    "$ cd path/to/helloworld\n",
    "$ pip install .\n",
    "```"
   ]
  },
  {
   "cell_type": "raw",
   "id": "9639fd43",
   "metadata": {
    "slideshow": {
     "slide_type": "fragment"
    }
   },
   "source": [
    "!conda create --name test python=3.10\n",
    "!pip install ."
   ]
  },
  {
   "cell_type": "markdown",
   "id": "bb9e393e",
   "metadata": {
    "editable": true,
    "slideshow": {
     "slide_type": "slide"
    },
    "tags": []
   },
   "source": [
    "### Installation locale et gestion des dépendances"
   ]
  },
  {
   "cell_type": "markdown",
   "id": "2ad57a83",
   "metadata": {
    "editable": true,
    "slideshow": {
     "slide_type": "fragment"
    },
    "tags": []
   },
   "source": [
    "Dans toute l'arborescence des sous modules, il faudra ajouter un fichier `__init__.py` pour permettre la construction."
   ]
  },
  {
   "cell_type": "markdown",
   "id": "1fdfd553",
   "metadata": {
    "editable": true,
    "slideshow": {
     "slide_type": "fragment"
    },
    "tags": []
   },
   "source": [
    "`setup.py` est le script appelé lorsque l'on tape \n",
    "`pip install .` ce qui équivaut a `python setup.py install`.\n",
    "\n",
    "Il contient le code suivant.\n",
    "```python\n",
    "from setuptools import setup\n",
    "\n",
    "setup()\n",
    "```"
   ]
  },
  {
   "cell_type": "markdown",
   "id": "59a97e16",
   "metadata": {
    "editable": true,
    "slideshow": {
     "slide_type": "fragment"
    },
    "tags": []
   },
   "source": [
    "`setup.cfg` est le fichier de configuration de la commande de build. Selon l'outil utilisé, il pourra être remplacé par un fichier `*.json`.\n",
    "\n",
    "Il contient le code suivant.\n",
    "```python\n",
    "[metadata]\n",
    "name = helloworld\n",
    "author = Lucas Lestandi\n",
    "author_email = lucas.lestandi@ec-nantes.fr\n",
    "version = 1.0\n",
    "license_file = LICENSE\n",
    "license = MIT\n",
    "description = Un court exemple de projet\n",
    "long_description = file: readme.md\n",
    "long_description_content_type = \"text/markdown\"\n",
    "\n",
    "[options]\n",
    "packages = find:\n",
    "python_requires = >= 3.8\n",
    "install_requires = \n",
    "    pytest\n",
    "    # Liste des dépendances externes\n",
    "\n",
    "[options.entry_points]\n",
    "console_scripts =\n",
    "    ditbonjour=helloworld.__main__:main\n",
    "\n",
    "[tool:pytest]\n",
    "addopts = --doctest-modules --doctest-report ndiff\n",
    "doctest_optionflags = NORMALIZE_WHITESPACE ELLIPSIS\n",
    "```"
   ]
  },
  {
   "cell_type": "markdown",
   "id": "a3cb397c",
   "metadata": {
    "editable": true,
    "slideshow": {
     "slide_type": "fragment"
    },
    "tags": []
   },
   "source": [
    "`pyproject.toml` Décrit le système de build\n",
    "```\n",
    "[build-system]\n",
    "requires = [\"setuptools\", \"wheel\"]\n",
    "build-backend = \"setuptools.build_meta\"\n",
    "```"
   ]
  },
  {
   "cell_type": "markdown",
   "id": "5b14f43b",
   "metadata": {
    "editable": true,
    "slideshow": {
     "slide_type": "slide"
    },
    "tags": []
   },
   "source": [
    "#### Pour aller plus loin\n",
    "Depuis les [PEP517](https://peps.python.org/pep-0517/) et [PEP518](https://peps.python.org/pep-0518), la méthode de construction des projets est normalisée et propose plusieurs systèmes.\n",
    "\n",
    "> Nous avons vu le plus commun : `setuptools` en combo avec `wheels` et pip.\n",
    "\n",
    "Autres options:\n",
    "- [`disutils`](https://docs.python.org/fr/3/library/distutils.html) (l'ancêtre de setuptools, dépréciation à venir)\n",
    "- [`poetry`](https://python-poetry.org/) (packaging + remplacement de pip)\n",
    "\n",
    "Biblio:\n",
    "- [Python Packaging Authority](https://packaging.python.org/en/latest/tutorials/packaging-projects/)\n",
    "- PEP (427, 440, 508, 517, 518, 621, 660)\n",
    "- https://realpython.com/pypi-publish-python-package/\n",
    "- https://realpython.com/dependency-management-python-poetry/"
   ]
  },
  {
   "cell_type": "markdown",
   "id": "0a9d0a69",
   "metadata": {
    "editable": true,
    "slideshow": {
     "slide_type": "fragment"
    },
    "tags": []
   },
   "source": [
    "**Publication des sources sur un dépôt**\n",
    "\n",
    "Si les étapes précédentes ont été bien effectuées :\n",
    "- distribution des sources après \"nettoyage\" sur github\n",
    "- publication sur [PyPI](https://pypi.org/) (avec ou sans version pré-compilée) et éventuellement sur coda-forge ensuite."
   ]
  },
  {
   "cell_type": "markdown",
   "id": "5b574e49",
   "metadata": {
    "editable": true,
    "slideshow": {
     "slide_type": "slide"
    },
    "tags": []
   },
   "source": [
    "### Des arguments pour nos programmes"
   ]
  },
  {
   "cell_type": "markdown",
   "id": "cc25f5f6",
   "metadata": {
    "editable": true,
    "slideshow": {
     "slide_type": "fragment"
    },
    "tags": []
   },
   "source": [
    "Nous allons utiliser [`argparse`](https://docs.python.org/3/library/argparse.html) qui permet d'interpréter les arguments passés à l'exécution pour obtenir un programme complet."
   ]
  },
  {
   "cell_type": "markdown",
   "id": "67b0286d",
   "metadata": {
    "editable": true,
    "slideshow": {
     "slide_type": "fragment"
    },
    "tags": []
   },
   "source": [
    "```python\n",
    "#Contenu de __main__.py\n",
    "\"\"\"Main call to helloworld. Mostly a parser.\"\"\"\n",
    "import argparse\n",
    "from helloworld.helper import hello_world, hello\n",
    "\n",
    "def main():\n",
    "    \"\"\"Fonction principale\"\"\"\n",
    "    parser = argparse.ArgumentParser(description='Process a name')\n",
    "    parser.add_argument('--name','-n', metavar='name', type=str,\n",
    "                        help='name of the user')\n",
    "\n",
    "    args = parser.parse_args()\n",
    "\n",
    "    name=args.name\n",
    "    if name is None:\n",
    "        hello_world()\n",
    "    else:\n",
    "        hello(name)\n",
    "\n",
    "if __name__==\"__main__\":\n",
    "    main()\n",
    "\n",
    "```"
   ]
  },
  {
   "cell_type": "markdown",
   "id": "0c85c95c",
   "metadata": {
    "slideshow": {
     "slide_type": "slide"
    }
   },
   "source": [
    "### Documentation `rst`"
   ]
  },
  {
   "cell_type": "markdown",
   "id": "6b73215d",
   "metadata": {
    "editable": true,
    "slideshow": {
     "slide_type": "fragment"
    },
    "tags": []
   },
   "source": [
    "Documenter votre code est une obligation dès lors qu'il servira plus d'une fois. Beaucoup de méthodes existent et leur formatage varie beaucoup.\n",
    "\n",
    "Quelques exemples populaires: \n",
    "- [Google Docstring](https://github.com/google/styleguide/blob/gh-pages/pyguide.md#38-comments-and-docstrings)\n",
    "- [reStructuredText](http://docutils.sourceforge.net/rst.html)\n",
    "- [Numpy/Scipy styleguide](https://numpydoc.readthedocs.io/en/latest/format.html)"
   ]
  },
  {
   "cell_type": "markdown",
   "id": "507ed8a9",
   "metadata": {
    "editable": true,
    "slideshow": {
     "slide_type": "fragment"
    },
    "tags": []
   },
   "source": [
    "A titre personnel, le style numpy me semble très adapté\n",
    "```python\n",
    "\"\"\"Gets and prints the spreadsheet's header columns\n",
    "\n",
    "Parameters\n",
    "----------\n",
    "file_loc : str\n",
    "    The file location of the spreadsheet\n",
    "print_cols : bool, optional\n",
    "    A flag used to print the columns to the console (default is False)\n",
    "\n",
    "Returns\n",
    "-------\n",
    "list\n",
    "    a list of strings representing the header columns\n",
    "\"\"\"\n",
    "```"
   ]
  },
  {
   "cell_type": "markdown",
   "id": "423f91a4",
   "metadata": {
    "editable": true,
    "slideshow": {
     "slide_type": "fragment"
    },
    "tags": []
   },
   "source": [
    "Pour les projets plus conséquents, il est vivement recommander d'utiliser l'outil de documentation automatique [sphinx](https://www.sphinx-doc.org/en/master/).\n",
    "\n",
    "La documentation d'un projet complet comportera les parties suivantes:\n",
    "- Tutoriels\n",
    "- How-tos / Examples\n",
    "- Guide de l'utilisateur/API\n",
    "- Guide du contributeur"
   ]
  },
  {
   "cell_type": "markdown",
   "id": "c32fbe08",
   "metadata": {
    "editable": true,
    "slideshow": {
     "slide_type": "fragment"
    },
    "tags": []
   },
   "source": [
    "Pour notre exemple, on va se satisfaire de la documentation \"automatique\" de l'API avec sphinx."
   ]
  },
  {
   "cell_type": "markdown",
   "id": "cf16cace",
   "metadata": {
    "slideshow": {
     "slide_type": "subslide"
    }
   },
   "source": [
    "#### `Sphinx`"
   ]
  },
  {
   "cell_type": "markdown",
   "id": "80583930",
   "metadata": {
    "editable": true,
    "slideshow": {
     "slide_type": "fragment"
    },
    "tags": []
   },
   "source": [
    "<div class=\"alert alert-danger\" role=\"alert\"><p>\n",
    "   <b> Disclaimer : </b> Il existe de nombreuses façons de configurer et mettre en place une documentation automatique. C'est aussi le cas avec sphinx qui proposes de nombreuses configurations. Nous allons en voir une seule qui est propre et \"facile\" à mettre en place.\n",
    "</p></div>"
   ]
  },
  {
   "cell_type": "markdown",
   "id": "1c3373ba",
   "metadata": {
    "editable": true,
    "slideshow": {
     "slide_type": "fragment"
    },
    "tags": []
   },
   "source": [
    "Installation:\n",
    "```\n",
    "$ pip install Sphinx\n",
    "```"
   ]
  },
  {
   "cell_type": "markdown",
   "id": "2a685157",
   "metadata": {
    "editable": true,
    "slideshow": {
     "slide_type": "fragment"
    },
    "tags": []
   },
   "source": [
    "Démarrer son projet:\n",
    "```bash\n",
    "$ cd repertoire/du/projet\n",
    "$ mkdir doc\n",
    "$ cd doc\n",
    "$ sphinx-quickstart . # puis répondre aux questions et on choisira de séparer les sources du build pour plus de clarté\n",
    "$ tree . \n",
    "doc\n",
    "├── Makefile\n",
    "├── build\n",
    "├── make.bat\n",
    "└── source\n",
    "    ├── _static\n",
    "    ├── _templates\n",
    "    ├── conf.py\n",
    "    └── index.rst\n",
    "```"
   ]
  },
  {
   "cell_type": "markdown",
   "id": "ece23bf3",
   "metadata": {
    "editable": true,
    "slideshow": {
     "slide_type": "fragment"
    },
    "tags": []
   },
   "source": [
    "On peut déjà construire une documentation HTML avec la commande\n",
    "```bash\n",
    "$ make html\n",
    "```\n",
    "et la visualiser avec\n",
    "```bash\n",
    "$ python -m http.server\n",
    "```\n",
    "\n",
    "Que l'on pourra voir à l'adresse suivante : http://localhost:8000/build/html/index.html"
   ]
  },
  {
   "cell_type": "markdown",
   "id": "f5ba9217",
   "metadata": {
    "editable": true,
    "slideshow": {
     "slide_type": "subslide"
    },
    "tags": []
   },
   "source": [
    "`index.rst` contient la configuration de la page d'accueil de notre doc.\n",
    "```rst\n",
    ".. helloworld documentation master file, created by\n",
    "   sphinx-quickstart on Tue Oct 18 11:39:04 2022.\n",
    "   You can adapt this file completely to your liking, but it should at least\n",
    "   contain the root `toctree` directive.\n",
    "\n",
    "Welcome to helloworld's documentation!\n",
    "======================================\n",
    "\n",
    ".. toctree::\n",
    "   :maxdepth: 2\n",
    "   :caption: Contents:\n",
    "\n",
    "\n",
    "\n",
    "Indices and tables\n",
    "==================\n",
    "\n",
    "* :ref:`genindex`\n",
    "* :ref:`modindex`\n",
    "* :ref:`search`\n",
    "```"
   ]
  },
  {
   "cell_type": "markdown",
   "id": "045db935",
   "metadata": {
    "editable": true,
    "slideshow": {
     "slide_type": "subslide"
    },
    "tags": []
   },
   "source": [
    "La configuration de sphinx se trouve dans `conf.py`: \n",
    "\n",
    "```python\n",
    "##### conf.py #####\n",
    "\n",
    "# Configuration file for the Sphinx documentation builder.\n",
    "#\n",
    "# For the full list of built-in configuration values, see the documentation:\n",
    "# https://www.sphinx-doc.org/en/master/usage/configuration.html\n",
    "\n",
    "# -- Project information -----------------------------------------------------\n",
    "# https://www.sphinx-doc.org/en/master/usage/configuration.html#project-information\n",
    "\n",
    "project = 'helloworld'\n",
    "copyright = '2022, Lucas Lestandi'\n",
    "author = 'Lucas Lestandi'\n",
    "\n",
    "# -- General configuration ---------------------------------------------------\n",
    "# https://www.sphinx-doc.org/en/master/usage/configuration.html#general-configuration\n",
    "\n",
    "extensions = []\n",
    "\n",
    "templates_path = ['_templates']\n",
    "exclude_patterns = ['_build', 'Thumbs.db', '.DS_Store']\n",
    "\n",
    "language = 'fr'\n",
    "\n",
    "# -- Options for HTML output -------------------------------------------------\n",
    "# https://www.sphinx-doc.org/en/master/usage/configuration.html#options-for-html-output\n",
    "\n",
    "html_theme = 'alabaster'\n",
    "html_static_path = ['_static']\n",
    "```"
   ]
  },
  {
   "cell_type": "markdown",
   "id": "5385ff19",
   "metadata": {
    "editable": true,
    "slideshow": {
     "slide_type": "subslide"
    },
    "tags": []
   },
   "source": [
    "On va paramétrer la documentation automatique des fonctions autoriser l'usage du fichier markdown `README.md` que l'on a déjà écrit.\n",
    "\n",
    "Il suffit d'installer `myst-parser` \n",
    "```bash\n",
    "$ pip install --upgrade myst-parser\n",
    "```\n",
    "\n",
    "et d'ajouter l'extension `myst_parser` parmis les autres que l'on souhaite.\n",
    "\n",
    "```python\n",
    "extensions = ['sphinx.ext.napoleon', # interprete les formats de docstring de google et numpy (en plus de .rst)\n",
    "              'sphinx.ext.viewcode', # Donne accés au code source depuis la doc\n",
    "              'myst_parser'\n",
    "             ] \n",
    "```\n",
    "On ajoute .md à la liste des extensions à traiter\n",
    "```python\n",
    "# Add type of source files\n",
    "source_suffix=[\".rst\", \".md\"]\n",
    "```\n",
    "\n",
    "et on oublie pas d'informer le script (au début) de l'emplacement de notre bibliothèque. Ici avec le chemin relatif.\n",
    "```python\n",
    "import sys, os \n",
    "sys.path.insert(0,os.path.abspath(\"../..\"))\n",
    "```\n",
    "\n"
   ]
  },
  {
   "cell_type": "markdown",
   "id": "d9152e83",
   "metadata": {
    "slideshow": {
     "slide_type": "fragment"
    }
   },
   "source": [
    "On va même en profiter pour changer le thème. On choisit parmis les [nombreuses possibilités](https://www.sphinx-doc.org/en/master/usage/theming.html) : \n",
    "`html_theme = 'bizstyle'`"
   ]
  },
  {
   "cell_type": "markdown",
   "id": "b9d4c009",
   "metadata": {
    "editable": true,
    "slideshow": {
     "slide_type": "subslide"
    },
    "tags": []
   },
   "source": [
    "Parmi les différentes façon d'accéder au code source, ici, on va utiliser le script `sphinx-apidoc` qui génère les fichiers `.rst` nécessaires: \n",
    "\n",
    "```bash\n",
    "$ sphinx-apidoc -f -o <path-to-output> <path-to-module>\n",
    "```\n",
    "\n",
    "Pour que README.md soit accessible, on doit ruser (seules `source/` est effectivement parcouru à la compilation). Ici j'utilise un lien vers le README\n",
    "```bash\n",
    "$ ln -s ../../README.md README.md\n",
    "```"
   ]
  },
  {
   "cell_type": "markdown",
   "id": "08ff56da",
   "metadata": {
    "editable": true,
    "slideshow": {
     "slide_type": "fragment"
    },
    "tags": []
   },
   "source": [
    "Ce qui nous donne le nouveaux fichiers suivants \n",
    "```\n",
    "source/\n",
    "├── README.md -> ../../README.md\n",
    "├── _static\n",
    "├── _templates\n",
    "├── conf.py\n",
    "├── helloworld.rst\n",
    "├── index.rst\n",
    "└── modules.rst\n",
    "```"
   ]
  },
  {
   "cell_type": "markdown",
   "id": "5a454ab4",
   "metadata": {
    "editable": true,
    "slideshow": {
     "slide_type": "fragment"
    },
    "tags": []
   },
   "source": [
    "On va modifier un peu le contenu de `index.rst`\n",
    "```rst\n",
    ".. helloworld documentation master file, created by\n",
    "   sphinx-quickstart on Tue Oct 18 11:39:04 2022.\n",
    "   You can adapt this file completely to your liking, but it should at least\n",
    "   contain the root `toctree` directive.\n",
    "\n",
    "Welcome to helloworld's documentation!\n",
    "======================================\n",
    "\n",
    ".. toctree::\n",
    "   :maxdepth: 2\n",
    "   :caption: Contents:\n",
    "\n",
    "   README\n",
    "   modules\n",
    "\n",
    "Indices and tables\n",
    "==================\n",
    "\n",
    "* :ref:`genindex`\n",
    "* :ref:`modindex`\n",
    "* :ref:`search`\n",
    "```"
   ]
  },
  {
   "cell_type": "markdown",
   "id": "b8b3003b",
   "metadata": {
    "editable": true,
    "slideshow": {
     "slide_type": "fragment"
    },
    "tags": []
   },
   "source": [
    "Il ne reste plus qu'a compiler notre html:\n",
    "```bash\n",
    "$ make clean # pour etre sur de partir sur de bonnes bases\n",
    "$ make html\n",
    "```\n",
    "Puis d'aller voir la page html (qui tourne toujours)."
   ]
  },
  {
   "cell_type": "markdown",
   "id": "0378528d",
   "metadata": {
    "editable": true,
    "slideshow": {
     "slide_type": "fragment"
    },
    "tags": []
   },
   "source": [
    "##### Pour aller plus loin\n",
    "- https://www.sphinx-doc.org/en/master/\n",
    "- https://realpython.com/documenting-python-code/"
   ]
  },
  {
   "cell_type": "markdown",
   "id": "31c71330",
   "metadata": {
    "editable": true,
    "slideshow": {
     "slide_type": "slide"
    },
    "tags": []
   },
   "source": [
    "Bravo de vous être accroché jusqu'au bout! \n",
    "\n",
    "Vous avez maintenant toutes les armes pour développer des vrais projets python ! \n",
    "\n"
   ]
  }
 ],
 "metadata": {
  "celltoolbar": "Diaporama",
  "kernelspec": {
   "display_name": "Python 3 (ipykernel)",
   "language": "python",
   "name": "python3"
  },
  "language_info": {
   "codemirror_mode": {
    "name": "ipython",
    "version": 3
   },
   "file_extension": ".py",
   "mimetype": "text/x-python",
   "name": "python",
   "nbconvert_exporter": "python",
   "pygments_lexer": "ipython3",
   "version": "3.10.13"
  },
  "toc": {
   "base_numbering": 1,
   "nav_menu": {
    "height": "421px",
    "width": "260.833px"
   },
   "number_sections": true,
   "sideBar": false,
   "skip_h1_title": true,
   "title_cell": "Table of Contents",
   "title_sidebar": "Contents",
   "toc_cell": false,
   "toc_position": {
    "height": "203.333px",
    "left": "1042.2px",
    "top": "0px",
    "width": "237.8px"
   },
   "toc_section_display": false,
   "toc_window_display": false
  },
  "varInspector": {
   "cols": {
    "lenName": 16,
    "lenType": 16,
    "lenVar": 40
   },
   "kernels_config": {
    "python": {
     "delete_cmd_postfix": "",
     "delete_cmd_prefix": "del ",
     "library": "var_list.py",
     "varRefreshCmd": "print(var_dic_list())"
    },
    "r": {
     "delete_cmd_postfix": ") ",
     "delete_cmd_prefix": "rm(",
     "library": "var_list.r",
     "varRefreshCmd": "cat(var_dic_list()) "
    }
   },
   "types_to_exclude": [
    "module",
    "function",
    "builtin_function_or_method",
    "instance",
    "_Feature"
   ],
   "window_display": false
  }
 },
 "nbformat": 4,
 "nbformat_minor": 5
}
