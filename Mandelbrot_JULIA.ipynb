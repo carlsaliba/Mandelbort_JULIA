{
 "cells": [
  {
   "cell_type": "code",
   "execution_count": 1,
   "id": "86a73f61-1fd4-4d1e-b7fb-be51f9503d5c",
   "metadata": {},
   "outputs": [
    {
     "name": "stdout",
     "output_type": "stream",
     "text": [
      "hey\n"
     ]
    }
   ],
   "source": [
    "print(\"hey\")\n",
    "import cmath"
   ]
  },
  {
   "cell_type": "markdown",
   "id": "f4fae057-045c-49b0-b9f8-11e92b743a57",
   "metadata": {},
   "source": [
    "# Familiarisation: De Mandelbrot"
   ]
  },
  {
   "cell_type": "code",
   "execution_count": 2,
   "id": "cc9a7547-ab20-495f-b553-cd4f0a105bd7",
   "metadata": {},
   "outputs": [],
   "source": [
    "import matplotlib.pyplot as plt\n"
   ]
  },
  {
   "cell_type": "code",
   "execution_count": 3,
   "id": "4c2b8ffb-e42b-4355-bd27-8b23c5bb2bab",
   "metadata": {},
   "outputs": [],
   "source": [
    "def z(n, c):\n",
    "    if n == 0:\n",
    "        return 0\n",
    "    else:\n",
    "        return z(n - 1, c) ** 2 + c"
   ]
  },
  {
   "cell_type": "code",
   "execution_count": 4,
   "id": "17c64bc4-1e91-4834-89cf-d6c6cce2f6db",
   "metadata": {},
   "outputs": [
    {
     "name": "stdout",
     "output_type": "stream",
     "text": [
      "z(0) = 0\n",
      "z(1) = (5+3j)\n",
      "z(2) = (21+33j)\n",
      "z(3) = (-643+1389j)\n",
      "z(4) = (-1515867-1786251j)\n",
      "z(5) = (-892839873307+5415437889237j)\n",
      "z(6) = (-2.8529804492816834e+25-9.670237757856581e+24j)\n",
      "z(7) = (7.204362461048766e+50+5.517799852614073e+50j)\n",
      "z(8) = (2.1456723256660743e+101+7.950446025150648e+101j)\n",
      "z(9) = (-5.8605682269704474e+203+3.4118104025735176e+203j)\n"
     ]
    }
   ],
   "source": [
    "for n in range(10):\n",
    "     print(f\"z({n}) = {z(n, c= 5+3j)}\")\n",
    "\n"
   ]
  },
  {
   "cell_type": "code",
   "execution_count": 5,
   "id": "adae6a8e-5a7f-45b7-be75-0054fec951f6",
   "metadata": {},
   "outputs": [],
   "source": [
    "def sequence(c):\n",
    "     z = 0\n",
    "     i=0\n",
    "     while True:\n",
    "         yield z\n",
    "         z = z ** 2 + c\n",
    "         i=i+1\n",
    "         if i == 25:\n",
    "             break"
   ]
  },
  {
   "cell_type": "code",
   "execution_count": 6,
   "id": "8ba32042-fcb1-4770-9370-dd6d612a405e",
   "metadata": {},
   "outputs": [],
   "source": [
    "a=sequence(0.1+0.5j)"
   ]
  },
  {
   "cell_type": "code",
   "execution_count": 7,
   "id": "6bce73a3-a2ef-4bab-9f4c-43664c041648",
   "metadata": {
    "scrolled": true
   },
   "outputs": [
    {
     "name": "stdout",
     "output_type": "stream",
     "text": [
      "0\n",
      "(0.1+0.5j)\n",
      "(-0.13999999999999999+0.6j)\n",
      "(-0.24039999999999997+0.332j)\n",
      "(0.04756815999999998+0.3403744j)\n",
      "(-0.013592002329574415+0.532381967838208j)\n",
      "(-0.18324581715195562+0.48552772610583933j)\n",
      "(-0.10215814331381898+0.32205815015960915j)\n",
      "(0.00671483416109743+0.4341982746812224j)\n",
      "(-0.0884830527383392+0.505831138815038j)\n",
      "(-0.1480358903730226+0.41048503333506964j)\n",
      "(-0.04658333775355966+0.3784669652108862j)\n",
      "(-0.04106723639967591+0.46473949106203316j)\n",
      "(-0.11429627664709074+0.46182886691258085j)\n",
      "(-0.10022226345837001+0.3944293601274944j)\n",
      "(-0.045530018037865744+0.4209387935071719j)\n",
      "(-0.07511648533674511+0.46166929827756203j)\n",
      "(-0.10749605460275108+0.43064204985101623j)\n",
      "(-0.07389717334472748+0.407415357389949j)\n",
      "(-0.06052648120883916+0.43978631342330166j)\n",
      "(-0.08974854654693457+0.44676256392935976j)\n",
      "(-0.091541986921448+0.41980741847151604j)\n",
      "(-0.06785833323419202+0.42313998957750726j)\n",
      "(-0.0744426973903303+0.44257285116507394j)\n",
      "(-0.09032901339363439+0.4341073663350854j)\n"
     ]
    }
   ],
   "source": [
    "for k in a:\n",
    "    print(k)"
   ]
  },
  {
   "cell_type": "markdown",
   "id": "0417b934-bbc0-4350-80c0-01f47da4025f",
   "metadata": {},
   "source": [
    "# Mandelbrot :Application"
   ]
  },
  {
   "cell_type": "code",
   "execution_count": 8,
   "id": "3ccbfa05-496b-4e75-82c9-a19b1bb5aac3",
   "metadata": {},
   "outputs": [],
   "source": [
    "import numpy as np\n",
    "\n",
    "def complex_matrix(xmin, xmax, ymin, ymax, pixel_density):\n",
    "    re = np.linspace(xmin, xmax, int((xmax - xmin) * pixel_density))\n",
    "    im = np.linspace(ymin, ymax, int((ymax - ymin) * pixel_density))\n",
    "    return re[np.newaxis, :] + im[:, np.newaxis] * 1j"
   ]
  },
  {
   "cell_type": "code",
   "execution_count": 9,
   "id": "1055ca4b-9009-4310-b843-970cb0b7404f",
   "metadata": {},
   "outputs": [],
   "source": [
    "def is_stable_mandelbort(c, num_iterations):\n",
    "    #just tune c \n",
    "    z = 0\n",
    "    for _ in range(num_iterations):\n",
    "        z = z ** 2 + c\n",
    "    return abs(z) <= 2"
   ]
  },
  {
   "cell_type": "code",
   "execution_count": 10,
   "id": "9d15cde8-56e0-4ad8-b5a9-dad256b75da5",
   "metadata": {},
   "outputs": [],
   "source": [
    "def get_members(c, num_iterations):\n",
    "\n",
    "    mask = is_stable_mandelbort(c, num_iterations)\n",
    "    #print(mask.shape)\n",
    "\n",
    "    return c[mask]"
   ]
  },
  {
   "cell_type": "code",
   "execution_count": 11,
   "id": "7d683f2e-9490-42c9-8f00-d74b6241c599",
   "metadata": {
    "scrolled": true
   },
   "outputs": [
    {
     "name": "stderr",
     "output_type": "stream",
     "text": [
      "/tmp/ipykernel_4601/3927780961.py:5: RuntimeWarning: overflow encountered in square\n",
      "  z = z ** 2 + c\n",
      "/tmp/ipykernel_4601/3927780961.py:5: RuntimeWarning: invalid value encountered in square\n",
      "  z = z ** 2 + c\n"
     ]
    },
    {
     "data": {
      "image/png": "[encoded data removed]",
      "text/plain": [
       "<Figure size 640x480 with 1 Axes>"
      ]
     },
     "metadata": {},
     "output_type": "display_data"
    }
   ],
   "source": [
    "c = complex_matrix(-2, 0.5, -1.5, 1.5, pixel_density=100)\n",
    "members = get_members(c, num_iterations=20)\n",
    "\n",
    "plt.scatter(members.real, members.imag, color=\"black\", marker=\",\", s=1)\n",
    "plt.gca().set_aspect(\"equal\")\n",
    "plt.axis(\"off\")\n",
    "plt.tight_layout()\n",
    "plt.show()"
   ]
  },
  {
   "cell_type": "code",
   "execution_count": 24,
   "id": "b1cc8dc4-1db6-4289-8ef7-dc2dbf11a29a",
   "metadata": {},
   "outputs": [
    {
     "name": "stderr",
     "output_type": "stream",
     "text": [
      "/tmp/ipykernel_4601/3927780961.py:5: RuntimeWarning: overflow encountered in square\n",
      "  z = z ** 2 + c\n",
      "/tmp/ipykernel_4601/3927780961.py:5: RuntimeWarning: invalid value encountered in square\n",
      "  z = z ** 2 + c\n"
     ]
    }
   ],
   "source": [
    "from PIL import Image\n",
    "c = complex_matrix(-2, 0.5, -1.5, 1.5, pixel_density=512)\n",
    "image = Image.fromarray(~is_stable_mandelbort(c, num_iterations=20))\n",
    "image.show()"
   ]
  },
  {
   "cell_type": "markdown",
   "id": "8aee0c77-8dcf-43a9-9cee-6df23698f77d",
   "metadata": {},
   "source": [
    "# JULIA"
   ]
  },
  {
   "cell_type": "code",
   "execution_count": 16,
   "id": "39faa5b4-f1d1-48de-a977-7e97ef198e99",
   "metadata": {},
   "outputs": [],
   "source": [
    "def is_stable_Julia(z, num_iterations):\n",
    "    c=-0.8 + 0.156j\n",
    "    for _ in range(num_iterations):\n",
    "        z = z ** 2 + c\n",
    "    return abs(z) <= 2"
   ]
  },
  {
   "cell_type": "code",
   "execution_count": 17,
   "id": "73e44bdd-ff27-4378-8666-44f51b20e056",
   "metadata": {},
   "outputs": [],
   "source": [
    "def get_members_Julia(z,num_iterations):\n",
    "\n",
    "    mask = is_stable_Julia(z,num_iterations)\n",
    "\n",
    "    return z[mask]"
   ]
  },
  {
   "cell_type": "code",
   "execution_count": 18,
   "id": "f4ebf2cd-25b3-4f14-9e57-8110d7092797",
   "metadata": {},
   "outputs": [
    {
     "name": "stderr",
     "output_type": "stream",
     "text": [
      "/tmp/ipykernel_4601/816957912.py:4: RuntimeWarning: overflow encountered in square\n",
      "  z = z ** 2 + c\n",
      "/tmp/ipykernel_4601/816957912.py:4: RuntimeWarning: invalid value encountered in square\n",
      "  z = z ** 2 + c\n"
     ]
    },
    {
     "data": {
      "image/png": "[encoded data removed]",
      "text/plain": [
       "<Figure size 640x480 with 1 Axes>"
      ]
     },
     "metadata": {},
     "output_type": "display_data"
    }
   ],
   "source": [
    "z= complex_matrix(-2, 0.5, -1.5, 1.5, pixel_density=512)\n",
    "\n",
    "members = get_members_Julia(z,num_iterations=100)\n",
    "\n",
    "plt.scatter(members.real, members.imag, color=\"black\", marker=\",\", s=1)\n",
    "plt.gca().set_aspect(\"equal\")\n",
    "plt.axis(\"off\")\n",
    "plt.tight_layout()\n",
    "plt.show()"
   ]
  },
  {
   "cell_type": "code",
   "execution_count": 26,
   "id": "1a6c05be-5a7c-46c4-a272-710d1e36f17b",
   "metadata": {},
   "outputs": [
    {
     "name": "stderr",
     "output_type": "stream",
     "text": [
      "/tmp/ipykernel_4601/816957912.py:4: RuntimeWarning: overflow encountered in square\n",
      "  z = z ** 2 + c\n",
      "/tmp/ipykernel_4601/816957912.py:4: RuntimeWarning: invalid value encountered in square\n",
      "  z = z ** 2 + c\n"
     ]
    }
   ],
   "source": [
    "z = complex_matrix(-2, 2, -1, 1, pixel_density=512*2)\n",
    "image = Image.fromarray(~is_stable_Julia(z, num_iterations=100))\n",
    "image.show()"
   ]
  },
  {
   "cell_type": "code",
   "execution_count": 27,
   "id": "f47cf651-0a3a-41eb-af2a-c6cc8685fda3",
   "metadata": {},
   "outputs": [
    {
     "name": "stdout",
     "output_type": "stream",
     "text": [
      "odsfkpofdkodskdsokfdso\n",
      "working in my branch\n"
     ]
    }
   ],
   "source": [
    "print(\"odsfkpofdkodskdsokfdso\")\n",
    "print(\"working in my branch\")"
   ]
  },
  {
   "cell_type": "code",
   "execution_count": null,
   "id": "4202f025-800b-47ae-8add-ce7ec134cdc7",
   "metadata": {},
   "outputs": [],
   "source": []
  }
 ],
 "metadata": {
  "kernelspec": {
   "display_name": "Python [conda env:TP1] *",
   "language": "python",
   "name": "conda-env-TP1-py"
  },
  "language_info": {
   "codemirror_mode": {
    "name": "ipython",
    "version": 3
   },
   "file_extension": ".py",
   "mimetype": "text/x-python",
   "name": "python",
   "nbconvert_exporter": "python",
   "pygments_lexer": "ipython3",
   "version": "3.10.13"
  }
 },
 "nbformat": 4,
 "nbformat_minor": 5
}
